{
  "cells": [
    {
      "cell_type": "markdown",
      "metadata": {
        "id": "view-in-github",
        "colab_type": "text"
      },
      "source": [
        "<a href=\"https://colab.research.google.com/github/Dzy00/CHL5230-datathon4/blob/main/datathon4_Rose.ipynb\" target=\"_parent\"><img src=\"https://colab.research.google.com/assets/colab-badge.svg\" alt=\"Open In Colab\"/></a>"
      ]
    },
    {
      "cell_type": "code",
      "execution_count": null,
      "metadata": {
        "id": "Ccwe6Bm33hhJ"
      },
      "outputs": [],
      "source": [
        "import pandas as pd\n",
        "import numpy as np\n",
        "import matplotlib.pyplot as plt\n",
        "import seaborn as  sns\n",
        "import plotly.express as px\n",
        "import numpy as np\n",
        "import warnings\n",
        "import matplotlib.pyplot as plt\n",
        "from sklearn.naive_bayes import CategoricalNB, GaussianNB, MultinomialNB\n",
        "from statsmodels.stats.outliers_influence import variance_inflation_factor\n",
        "from sklearn.discriminant_analysis import LinearDiscriminantAnalysis, QuadraticDiscriminantAnalysis\n",
        "from sklearn.metrics import RocCurveDisplay, roc_curve, accuracy_score, confusion_matrix, roc_auc_score, classification_report\n",
        "from sklearn.model_selection import GridSearchCV\n",
        "from sklearn.model_selection import train_test_split\n",
        "from sklearn.preprocessing import StandardScaler, LabelEncoder\n",
        "from sklearn.linear_model import LinearRegression, LogisticRegression\n",
        "from sklearn.model_selection import KFold\n",
        "from sklearn.metrics import mean_squared_error\n",
        "from sklearn.experimental import enable_iterative_imputer\n",
        "from sklearn.impute import IterativeImputer\n",
        "from sklearn.feature_selection import RFECV\n",
        "from sklearn.model_selection import StratifiedKFold, GridSearchCV"
      ]
    },
    {
      "cell_type": "code",
      "execution_count": null,
      "metadata": {
        "colab": {
          "base_uri": "https://localhost:8080/",
          "height": 256
        },
        "id": "5F4pHuER6PKF",
        "outputId": "d2c1326a-53c3-4879-d88f-47fbde406dcf"
      },
      "outputs": [
        {
          "output_type": "execute_result",
          "data": {
            "text/plain": [
              "   encounter_id  patient_id  hospital_id  hospital_death   age    bmi  \\\n",
              "0         66154       25312          118               0  68.0  22.73   \n",
              "1        114252       59342           81               0  77.0  27.42   \n",
              "2        119783       50777          118               0  25.0  31.95   \n",
              "3         79267       46918          118               0  81.0  22.64   \n",
              "4         92056       34377           33               0  19.0    NaN   \n",
              "\n",
              "   elective_surgery  ethnicity gender  height  ... aids cirrhosis  \\\n",
              "0                 0  Caucasian      M   180.3  ...  0.0       0.0   \n",
              "1                 0  Caucasian      F   160.0  ...  0.0       0.0   \n",
              "2                 0  Caucasian      F   172.7  ...  0.0       0.0   \n",
              "3                 1  Caucasian      F   165.1  ...  0.0       0.0   \n",
              "4                 0  Caucasian      M   188.0  ...  0.0       0.0   \n",
              "\n",
              "   diabetes_mellitus hepatic_failure immunosuppression  leukemia  lymphoma  \\\n",
              "0                1.0             0.0               0.0       0.0       0.0   \n",
              "1                1.0             0.0               0.0       0.0       0.0   \n",
              "2                0.0             0.0               0.0       0.0       0.0   \n",
              "3                0.0             0.0               0.0       0.0       0.0   \n",
              "4                0.0             0.0               0.0       0.0       0.0   \n",
              "\n",
              "   solid_tumor_with_metastasis  apache_3j_bodysystem  apache_2_bodysystem  \n",
              "0                          0.0                Sepsis       Cardiovascular  \n",
              "1                          0.0           Respiratory          Respiratory  \n",
              "2                          0.0             Metabolic            Metabolic  \n",
              "3                          0.0        Cardiovascular       Cardiovascular  \n",
              "4                          0.0                Trauma               Trauma  \n",
              "\n",
              "[5 rows x 186 columns]"
            ],
            "text/html": [
              "\n",
              "  <div id=\"df-3af3df06-f944-42e9-a616-61d6f10a25c0\" class=\"colab-df-container\">\n",
              "    <div>\n",
              "<style scoped>\n",
              "    .dataframe tbody tr th:only-of-type {\n",
              "        vertical-align: middle;\n",
              "    }\n",
              "\n",
              "    .dataframe tbody tr th {\n",
              "        vertical-align: top;\n",
              "    }\n",
              "\n",
              "    .dataframe thead th {\n",
              "        text-align: right;\n",
              "    }\n",
              "</style>\n",
              "<table border=\"1\" class=\"dataframe\">\n",
              "  <thead>\n",
              "    <tr style=\"text-align: right;\">\n",
              "      <th></th>\n",
              "      <th>encounter_id</th>\n",
              "      <th>patient_id</th>\n",
              "      <th>hospital_id</th>\n",
              "      <th>hospital_death</th>\n",
              "      <th>age</th>\n",
              "      <th>bmi</th>\n",
              "      <th>elective_surgery</th>\n",
              "      <th>ethnicity</th>\n",
              "      <th>gender</th>\n",
              "      <th>height</th>\n",
              "      <th>...</th>\n",
              "      <th>aids</th>\n",
              "      <th>cirrhosis</th>\n",
              "      <th>diabetes_mellitus</th>\n",
              "      <th>hepatic_failure</th>\n",
              "      <th>immunosuppression</th>\n",
              "      <th>leukemia</th>\n",
              "      <th>lymphoma</th>\n",
              "      <th>solid_tumor_with_metastasis</th>\n",
              "      <th>apache_3j_bodysystem</th>\n",
              "      <th>apache_2_bodysystem</th>\n",
              "    </tr>\n",
              "  </thead>\n",
              "  <tbody>\n",
              "    <tr>\n",
              "      <th>0</th>\n",
              "      <td>66154</td>\n",
              "      <td>25312</td>\n",
              "      <td>118</td>\n",
              "      <td>0</td>\n",
              "      <td>68.0</td>\n",
              "      <td>22.73</td>\n",
              "      <td>0</td>\n",
              "      <td>Caucasian</td>\n",
              "      <td>M</td>\n",
              "      <td>180.3</td>\n",
              "      <td>...</td>\n",
              "      <td>0.0</td>\n",
              "      <td>0.0</td>\n",
              "      <td>1.0</td>\n",
              "      <td>0.0</td>\n",
              "      <td>0.0</td>\n",
              "      <td>0.0</td>\n",
              "      <td>0.0</td>\n",
              "      <td>0.0</td>\n",
              "      <td>Sepsis</td>\n",
              "      <td>Cardiovascular</td>\n",
              "    </tr>\n",
              "    <tr>\n",
              "      <th>1</th>\n",
              "      <td>114252</td>\n",
              "      <td>59342</td>\n",
              "      <td>81</td>\n",
              "      <td>0</td>\n",
              "      <td>77.0</td>\n",
              "      <td>27.42</td>\n",
              "      <td>0</td>\n",
              "      <td>Caucasian</td>\n",
              "      <td>F</td>\n",
              "      <td>160.0</td>\n",
              "      <td>...</td>\n",
              "      <td>0.0</td>\n",
              "      <td>0.0</td>\n",
              "      <td>1.0</td>\n",
              "      <td>0.0</td>\n",
              "      <td>0.0</td>\n",
              "      <td>0.0</td>\n",
              "      <td>0.0</td>\n",
              "      <td>0.0</td>\n",
              "      <td>Respiratory</td>\n",
              "      <td>Respiratory</td>\n",
              "    </tr>\n",
              "    <tr>\n",
              "      <th>2</th>\n",
              "      <td>119783</td>\n",
              "      <td>50777</td>\n",
              "      <td>118</td>\n",
              "      <td>0</td>\n",
              "      <td>25.0</td>\n",
              "      <td>31.95</td>\n",
              "      <td>0</td>\n",
              "      <td>Caucasian</td>\n",
              "      <td>F</td>\n",
              "      <td>172.7</td>\n",
              "      <td>...</td>\n",
              "      <td>0.0</td>\n",
              "      <td>0.0</td>\n",
              "      <td>0.0</td>\n",
              "      <td>0.0</td>\n",
              "      <td>0.0</td>\n",
              "      <td>0.0</td>\n",
              "      <td>0.0</td>\n",
              "      <td>0.0</td>\n",
              "      <td>Metabolic</td>\n",
              "      <td>Metabolic</td>\n",
              "    </tr>\n",
              "    <tr>\n",
              "      <th>3</th>\n",
              "      <td>79267</td>\n",
              "      <td>46918</td>\n",
              "      <td>118</td>\n",
              "      <td>0</td>\n",
              "      <td>81.0</td>\n",
              "      <td>22.64</td>\n",
              "      <td>1</td>\n",
              "      <td>Caucasian</td>\n",
              "      <td>F</td>\n",
              "      <td>165.1</td>\n",
              "      <td>...</td>\n",
              "      <td>0.0</td>\n",
              "      <td>0.0</td>\n",
              "      <td>0.0</td>\n",
              "      <td>0.0</td>\n",
              "      <td>0.0</td>\n",
              "      <td>0.0</td>\n",
              "      <td>0.0</td>\n",
              "      <td>0.0</td>\n",
              "      <td>Cardiovascular</td>\n",
              "      <td>Cardiovascular</td>\n",
              "    </tr>\n",
              "    <tr>\n",
              "      <th>4</th>\n",
              "      <td>92056</td>\n",
              "      <td>34377</td>\n",
              "      <td>33</td>\n",
              "      <td>0</td>\n",
              "      <td>19.0</td>\n",
              "      <td>NaN</td>\n",
              "      <td>0</td>\n",
              "      <td>Caucasian</td>\n",
              "      <td>M</td>\n",
              "      <td>188.0</td>\n",
              "      <td>...</td>\n",
              "      <td>0.0</td>\n",
              "      <td>0.0</td>\n",
              "      <td>0.0</td>\n",
              "      <td>0.0</td>\n",
              "      <td>0.0</td>\n",
              "      <td>0.0</td>\n",
              "      <td>0.0</td>\n",
              "      <td>0.0</td>\n",
              "      <td>Trauma</td>\n",
              "      <td>Trauma</td>\n",
              "    </tr>\n",
              "  </tbody>\n",
              "</table>\n",
              "<p>5 rows × 186 columns</p>\n",
              "</div>\n",
              "    <div class=\"colab-df-buttons\">\n",
              "\n",
              "  <div class=\"colab-df-container\">\n",
              "    <button class=\"colab-df-convert\" onclick=\"convertToInteractive('df-3af3df06-f944-42e9-a616-61d6f10a25c0')\"\n",
              "            title=\"Convert this dataframe to an interactive table.\"\n",
              "            style=\"display:none;\">\n",
              "\n",
              "  <svg xmlns=\"http://www.w3.org/2000/svg\" height=\"24px\" viewBox=\"0 -960 960 960\">\n",
              "    <path d=\"M120-120v-720h720v720H120Zm60-500h600v-160H180v160Zm220 220h160v-160H400v160Zm0 220h160v-160H400v160ZM180-400h160v-160H180v160Zm440 0h160v-160H620v160ZM180-180h160v-160H180v160Zm440 0h160v-160H620v160Z\"/>\n",
              "  </svg>\n",
              "    </button>\n",
              "\n",
              "  <style>\n",
              "    .colab-df-container {\n",
              "      display:flex;\n",
              "      gap: 12px;\n",
              "    }\n",
              "\n",
              "    .colab-df-convert {\n",
              "      background-color: #E8F0FE;\n",
              "      border: none;\n",
              "      border-radius: 50%;\n",
              "      cursor: pointer;\n",
              "      display: none;\n",
              "      fill: #1967D2;\n",
              "      height: 32px;\n",
              "      padding: 0 0 0 0;\n",
              "      width: 32px;\n",
              "    }\n",
              "\n",
              "    .colab-df-convert:hover {\n",
              "      background-color: #E2EBFA;\n",
              "      box-shadow: 0px 1px 2px rgba(60, 64, 67, 0.3), 0px 1px 3px 1px rgba(60, 64, 67, 0.15);\n",
              "      fill: #174EA6;\n",
              "    }\n",
              "\n",
              "    .colab-df-buttons div {\n",
              "      margin-bottom: 4px;\n",
              "    }\n",
              "\n",
              "    [theme=dark] .colab-df-convert {\n",
              "      background-color: #3B4455;\n",
              "      fill: #D2E3FC;\n",
              "    }\n",
              "\n",
              "    [theme=dark] .colab-df-convert:hover {\n",
              "      background-color: #434B5C;\n",
              "      box-shadow: 0px 1px 3px 1px rgba(0, 0, 0, 0.15);\n",
              "      filter: drop-shadow(0px 1px 2px rgba(0, 0, 0, 0.3));\n",
              "      fill: #FFFFFF;\n",
              "    }\n",
              "  </style>\n",
              "\n",
              "    <script>\n",
              "      const buttonEl =\n",
              "        document.querySelector('#df-3af3df06-f944-42e9-a616-61d6f10a25c0 button.colab-df-convert');\n",
              "      buttonEl.style.display =\n",
              "        google.colab.kernel.accessAllowed ? 'block' : 'none';\n",
              "\n",
              "      async function convertToInteractive(key) {\n",
              "        const element = document.querySelector('#df-3af3df06-f944-42e9-a616-61d6f10a25c0');\n",
              "        const dataTable =\n",
              "          await google.colab.kernel.invokeFunction('convertToInteractive',\n",
              "                                                    [key], {});\n",
              "        if (!dataTable) return;\n",
              "\n",
              "        const docLinkHtml = 'Like what you see? Visit the ' +\n",
              "          '<a target=\"_blank\" href=https://colab.research.google.com/notebooks/data_table.ipynb>data table notebook</a>'\n",
              "          + ' to learn more about interactive tables.';\n",
              "        element.innerHTML = '';\n",
              "        dataTable['output_type'] = 'display_data';\n",
              "        await google.colab.output.renderOutput(dataTable, element);\n",
              "        const docLink = document.createElement('div');\n",
              "        docLink.innerHTML = docLinkHtml;\n",
              "        element.appendChild(docLink);\n",
              "      }\n",
              "    </script>\n",
              "  </div>\n",
              "\n",
              "\n",
              "<div id=\"df-9d4579ce-04a9-40f8-bc76-e3994d26f584\">\n",
              "  <button class=\"colab-df-quickchart\" onclick=\"quickchart('df-9d4579ce-04a9-40f8-bc76-e3994d26f584')\"\n",
              "            title=\"Suggest charts\"\n",
              "            style=\"display:none;\">\n",
              "\n",
              "<svg xmlns=\"http://www.w3.org/2000/svg\" height=\"24px\"viewBox=\"0 0 24 24\"\n",
              "     width=\"24px\">\n",
              "    <g>\n",
              "        <path d=\"M19 3H5c-1.1 0-2 .9-2 2v14c0 1.1.9 2 2 2h14c1.1 0 2-.9 2-2V5c0-1.1-.9-2-2-2zM9 17H7v-7h2v7zm4 0h-2V7h2v10zm4 0h-2v-4h2v4z\"/>\n",
              "    </g>\n",
              "</svg>\n",
              "  </button>\n",
              "\n",
              "<style>\n",
              "  .colab-df-quickchart {\n",
              "      --bg-color: #E8F0FE;\n",
              "      --fill-color: #1967D2;\n",
              "      --hover-bg-color: #E2EBFA;\n",
              "      --hover-fill-color: #174EA6;\n",
              "      --disabled-fill-color: #AAA;\n",
              "      --disabled-bg-color: #DDD;\n",
              "  }\n",
              "\n",
              "  [theme=dark] .colab-df-quickchart {\n",
              "      --bg-color: #3B4455;\n",
              "      --fill-color: #D2E3FC;\n",
              "      --hover-bg-color: #434B5C;\n",
              "      --hover-fill-color: #FFFFFF;\n",
              "      --disabled-bg-color: #3B4455;\n",
              "      --disabled-fill-color: #666;\n",
              "  }\n",
              "\n",
              "  .colab-df-quickchart {\n",
              "    background-color: var(--bg-color);\n",
              "    border: none;\n",
              "    border-radius: 50%;\n",
              "    cursor: pointer;\n",
              "    display: none;\n",
              "    fill: var(--fill-color);\n",
              "    height: 32px;\n",
              "    padding: 0;\n",
              "    width: 32px;\n",
              "  }\n",
              "\n",
              "  .colab-df-quickchart:hover {\n",
              "    background-color: var(--hover-bg-color);\n",
              "    box-shadow: 0 1px 2px rgba(60, 64, 67, 0.3), 0 1px 3px 1px rgba(60, 64, 67, 0.15);\n",
              "    fill: var(--button-hover-fill-color);\n",
              "  }\n",
              "\n",
              "  .colab-df-quickchart-complete:disabled,\n",
              "  .colab-df-quickchart-complete:disabled:hover {\n",
              "    background-color: var(--disabled-bg-color);\n",
              "    fill: var(--disabled-fill-color);\n",
              "    box-shadow: none;\n",
              "  }\n",
              "\n",
              "  .colab-df-spinner {\n",
              "    border: 2px solid var(--fill-color);\n",
              "    border-color: transparent;\n",
              "    border-bottom-color: var(--fill-color);\n",
              "    animation:\n",
              "      spin 1s steps(1) infinite;\n",
              "  }\n",
              "\n",
              "  @keyframes spin {\n",
              "    0% {\n",
              "      border-color: transparent;\n",
              "      border-bottom-color: var(--fill-color);\n",
              "      border-left-color: var(--fill-color);\n",
              "    }\n",
              "    20% {\n",
              "      border-color: transparent;\n",
              "      border-left-color: var(--fill-color);\n",
              "      border-top-color: var(--fill-color);\n",
              "    }\n",
              "    30% {\n",
              "      border-color: transparent;\n",
              "      border-left-color: var(--fill-color);\n",
              "      border-top-color: var(--fill-color);\n",
              "      border-right-color: var(--fill-color);\n",
              "    }\n",
              "    40% {\n",
              "      border-color: transparent;\n",
              "      border-right-color: var(--fill-color);\n",
              "      border-top-color: var(--fill-color);\n",
              "    }\n",
              "    60% {\n",
              "      border-color: transparent;\n",
              "      border-right-color: var(--fill-color);\n",
              "    }\n",
              "    80% {\n",
              "      border-color: transparent;\n",
              "      border-right-color: var(--fill-color);\n",
              "      border-bottom-color: var(--fill-color);\n",
              "    }\n",
              "    90% {\n",
              "      border-color: transparent;\n",
              "      border-bottom-color: var(--fill-color);\n",
              "    }\n",
              "  }\n",
              "</style>\n",
              "\n",
              "  <script>\n",
              "    async function quickchart(key) {\n",
              "      const quickchartButtonEl =\n",
              "        document.querySelector('#' + key + ' button');\n",
              "      quickchartButtonEl.disabled = true;  // To prevent multiple clicks.\n",
              "      quickchartButtonEl.classList.add('colab-df-spinner');\n",
              "      try {\n",
              "        const charts = await google.colab.kernel.invokeFunction(\n",
              "            'suggestCharts', [key], {});\n",
              "      } catch (error) {\n",
              "        console.error('Error during call to suggestCharts:', error);\n",
              "      }\n",
              "      quickchartButtonEl.classList.remove('colab-df-spinner');\n",
              "      quickchartButtonEl.classList.add('colab-df-quickchart-complete');\n",
              "    }\n",
              "    (() => {\n",
              "      let quickchartButtonEl =\n",
              "        document.querySelector('#df-9d4579ce-04a9-40f8-bc76-e3994d26f584 button');\n",
              "      quickchartButtonEl.style.display =\n",
              "        google.colab.kernel.accessAllowed ? 'block' : 'none';\n",
              "    })();\n",
              "  </script>\n",
              "</div>\n",
              "    </div>\n",
              "  </div>\n"
            ]
          },
          "metadata": {},
          "execution_count": 2
        }
      ],
      "source": [
        "# read the data\n",
        "data = pd.read_csv('datathon4.csv')\n",
        "data.head()"
      ]
    },
    {
      "cell_type": "code",
      "execution_count": null,
      "metadata": {
        "colab": {
          "base_uri": "https://localhost:8080/"
        },
        "id": "M5JStAHH6tGm",
        "outputId": "9943bdf8-f69b-4222-d1cb-8ad8c925b5bf"
      },
      "outputs": [
        {
          "output_type": "stream",
          "name": "stdout",
          "text": [
            "(91713, 186)\n"
          ]
        }
      ],
      "source": [
        "print(data.shape)"
      ]
    },
    {
      "cell_type": "code",
      "execution_count": null,
      "metadata": {
        "colab": {
          "base_uri": "https://localhost:8080/"
        },
        "id": "Ng-wUtcl6vaR",
        "outputId": "424bf007-addf-4ade-d28d-d311883376b7"
      },
      "outputs": [
        {
          "output_type": "execute_result",
          "data": {
            "text/plain": [
              "(91713,)"
            ]
          },
          "metadata": {},
          "execution_count": 4
        }
      ],
      "source": [
        "# Check how many patients there are\n",
        "data['patient_id'].unique().shape"
      ]
    },
    {
      "cell_type": "code",
      "execution_count": null,
      "metadata": {
        "colab": {
          "base_uri": "https://localhost:8080/"
        },
        "id": "eGb16ztA62Ib",
        "outputId": "d9ad8d26-9282-48c0-d097-34a896067f35"
      },
      "outputs": [
        {
          "output_type": "execute_result",
          "data": {
            "text/plain": [
              "encounter_id                     int64\n",
              "patient_id                       int64\n",
              "hospital_id                      int64\n",
              "hospital_death                   int64\n",
              "age                            float64\n",
              "                                ...   \n",
              "leukemia                       float64\n",
              "lymphoma                       float64\n",
              "solid_tumor_with_metastasis    float64\n",
              "apache_3j_bodysystem            object\n",
              "apache_2_bodysystem             object\n",
              "Length: 186, dtype: object"
            ]
          },
          "metadata": {},
          "execution_count": 5
        }
      ],
      "source": [
        "# Check types of variables\n",
        "data.dtypes"
      ]
    },
    {
      "cell_type": "code",
      "execution_count": null,
      "metadata": {
        "colab": {
          "base_uri": "https://localhost:8080/"
        },
        "id": "tZfdJlpb62v_",
        "outputId": "4de625cb-d95e-4f9c-e557-36f7a30b8047"
      },
      "outputs": [
        {
          "output_type": "execute_result",
          "data": {
            "text/plain": [
              "encounter_id                      0\n",
              "patient_id                        0\n",
              "hospital_id                       0\n",
              "hospital_death                    0\n",
              "age                            4228\n",
              "                               ... \n",
              "leukemia                        715\n",
              "lymphoma                        715\n",
              "solid_tumor_with_metastasis     715\n",
              "apache_3j_bodysystem           1662\n",
              "apache_2_bodysystem            1662\n",
              "Length: 186, dtype: int64"
            ]
          },
          "metadata": {},
          "execution_count": 6
        }
      ],
      "source": [
        "# Count the number of missing values (NaN or None) in each column of the 'data' DataFrame\n",
        "missing_value_counts = data.isnull().sum()\n",
        "missing_value_counts"
      ]
    },
    {
      "cell_type": "code",
      "execution_count": null,
      "metadata": {
        "id": "XSyWLb5L649i"
      },
      "outputs": [],
      "source": [
        "# delete columns with missing values >50%\n",
        "df = data.loc[:, data.isnull().mean() < .5]\n",
        "df.isnull().sum().to_csv(\"missing count cleaned.csv\")\n"
      ]
    },
    {
      "cell_type": "code",
      "execution_count": null,
      "metadata": {
        "colab": {
          "base_uri": "https://localhost:8080/"
        },
        "id": "eQhF9yHIchVz",
        "outputId": "12e7ccf5-353f-4350-f72d-728477e33fec"
      },
      "outputs": [
        {
          "output_type": "stream",
          "name": "stdout",
          "text": [
            "(91713, 92)\n"
          ]
        }
      ],
      "source": [
        "# select certain variable (not all)\n",
        "\n",
        "data_selected = df[['hospital_death',\n",
        "                # demographic\n",
        "                'age','bmi','elective_surgery','ethnicity', 'gender','hospital_admit_source','icu_admit_source',\n",
        "                'icu_stay_type','icu_type','pre_icu_los_days','readmission_status',\n",
        "                # apache\n",
        "                'apache_2_diagnosis','apache_3j_diagnosis','apache_post_operative','arf_apache','bun_apache',\n",
        "                'creatinine_apache','gcs_eyes_apache','gcs_motor_apache','gcs_unable_apache','gcs_verbal_apache',\n",
        "                'glucose_apache','heart_rate_apache','hematocrit_apache','intubated_apache','map_apache',\n",
        "                'resprate_apache','sodium_apache','temp_apache','ventilated_apache','wbc_apache',\n",
        "                # vitals\n",
        "                # drop 'd1_diasbp_noninvasive_max','d1_diasbp_noninvasive_min','d1_mbp_noninvasive_max','d1_mbp_noninvasive_min','h1_diasbp_noninvasive_max',\n",
        "                # 'h1_diasbp_noninvasive_min','h1_mbp_noninvasive_max','h1_mbp_noninvasive_min','h1_sysbp_noninvasive_max','h1_sysbp_noninvasive_min',\n",
        "                'd1_diasbp_max','d1_diasbp_min','d1_heartrate_max','d1_heartrate_min','d1_mbp_max','d1_mbp_min',\n",
        "                'd1_resprate_max','d1_resprate_min','d1_spo2_max','d1_spo2_min','d1_sysbp_max','d1_sysbp_min',\n",
        "                'd1_temp_max','d1_temp_min','h1_diasbp_max','h1_diasbp_min','h1_heartrate_max','h1_heartrate_min',\n",
        "                'h1_mbp_max','h1_mbp_min','h1_resprate_max','h1_resprate_min','h1_spo2_max','h1_spo2_min',\n",
        "                'h1_sysbp_max','h1_sysbp_min','h1_temp_max','h1_temp_min',\n",
        "                # labs\n",
        "                'd1_bun_max','d1_bun_min','d1_calcium_max','d1_calcium_min','d1_creatinine_max','d1_creatinine_min',\n",
        "                'd1_glucose_max','d1_glucose_min','d1_hco3_max','d1_hco3_min','d1_hemaglobin_max','d1_hemaglobin_min',\n",
        "                'd1_hematocrit_max','d1_hematocrit_min','d1_platelets_max','d1_platelets_min','d1_potassium_max','d1_potassium_min',\n",
        "                'd1_sodium_max','d1_sodium_min','d1_wbc_max','d1_wbc_min',\n",
        "                # drop 'apache_4a_hospital_death_prob','apache_4a_icu_death_prob'\n",
        "                # apache comorbidity\n",
        "                'aids','cirrhosis','diabetes_mellitus','hepatic_failure','immunosuppression','leukemia','lymphoma','solid_tumor_with_metastasis',\n",
        "                # apache grouping\n",
        "                'apache_3j_bodysystem','apache_2_bodysystem']]\n",
        "\n",
        "df = data_selected\n",
        "\n",
        "print(df.shape) # 92 features left"
      ]
    },
    {
      "cell_type": "code",
      "execution_count": 10,
      "metadata": {
        "id": "3a1s6kgUdnfB"
      },
      "outputs": [],
      "source": [
        "# Define the column that will be used as the target for modeling or analysis\n",
        "target_column = 'hospital_death'\n",
        "\n",
        "# identify categorical variables\n",
        "categorical_columns = ['ethnicity','hospital_admit_source','icu_admit_source',\n",
        "                       'icu_stay_type','icu_type','apache_3j_bodysystem','apache_2_bodysystem']\n",
        "\n",
        "# numerical variables\n",
        "numerical_columns = [c for c in data_selected.columns if c not in categorical_columns and c != target_column]\n"
      ]
    },
    {
      "cell_type": "markdown",
      "metadata": {
        "id": "xbXZP1dhROoF"
      },
      "source": [
        "# Data Transformation"
      ]
    },
    {
      "cell_type": "markdown",
      "metadata": {
        "id": "vm-WtIIYWTwq"
      },
      "source": [
        "## demographics: 'age','bmi','elective_surgery','ethnicity', 'gender','hospital_admit_source','icu_admit_source','icu_stay_type','icu_type','pre_icu_los_days','readmission_status',"
      ]
    },
    {
      "cell_type": "code",
      "execution_count": 11,
      "metadata": {
        "id": "BSEYpgM58nyq"
      },
      "outputs": [],
      "source": [
        "# Define a function to compute various scores for model evaluation\n",
        "def get_scores(Y_pred, Y):\n",
        "    # Calculate confusion matrix, classification report, ROC AUC, and accuracy\n",
        "    conf_matrix = confusion_matrix(Y_pred, Y)\n",
        "    class_report = classification_report(Y_pred, Y)\n",
        "    auc = roc_auc_score(Y_pred, Y)\n",
        "    acc = accuracy_score(Y_pred, Y)\n",
        "\n",
        "    # Return the computed scores\n",
        "    return conf_matrix, class_report, auc, acc\n",
        "\n",
        "# Define a function to print the computed scores\n",
        "def print_scores(conf_matrix, class_report, auc, acc):\n",
        "    print('AUC : ', auc)\n",
        "    print('Accuracy : ', acc)\n",
        "    print(\"Confusion Matrix:\")\n",
        "    print(conf_matrix)\n",
        "    print(\"\\nClassification Report:\")\n",
        "    print(class_report)\n"
      ]
    },
    {
      "cell_type": "code",
      "execution_count": 12,
      "metadata": {
        "id": "5bEX9kBEmJOq",
        "colab": {
          "base_uri": "https://localhost:8080/"
        },
        "outputId": "d947c63d-caaa-42da-f0f8-5e135f4e1af7"
      },
      "outputs": [
        {
          "output_type": "stream",
          "name": "stdout",
          "text": [
            "Collecting category_encoders\n",
            "  Downloading category_encoders-2.6.3-py2.py3-none-any.whl (81 kB)\n",
            "\u001b[?25l     \u001b[90m━━━━━━━━━━━━━━━━━━━━━━━━━━━━━━━━━━━━━━━━\u001b[0m \u001b[32m0.0/81.9 kB\u001b[0m \u001b[31m?\u001b[0m eta \u001b[36m-:--:--\u001b[0m\r\u001b[2K     \u001b[90m━━━━━━━━━━━━━━━━━━━━━━━━━━━━━━━━━━━━━━━━\u001b[0m \u001b[32m81.9/81.9 kB\u001b[0m \u001b[31m2.6 MB/s\u001b[0m eta \u001b[36m0:00:00\u001b[0m\n",
            "\u001b[?25hRequirement already satisfied: numpy>=1.14.0 in /usr/local/lib/python3.10/dist-packages (from category_encoders) (1.23.5)\n",
            "Requirement already satisfied: scikit-learn>=0.20.0 in /usr/local/lib/python3.10/dist-packages (from category_encoders) (1.2.2)\n",
            "Requirement already satisfied: scipy>=1.0.0 in /usr/local/lib/python3.10/dist-packages (from category_encoders) (1.11.3)\n",
            "Requirement already satisfied: statsmodels>=0.9.0 in /usr/local/lib/python3.10/dist-packages (from category_encoders) (0.14.0)\n",
            "Requirement already satisfied: pandas>=1.0.5 in /usr/local/lib/python3.10/dist-packages (from category_encoders) (1.5.3)\n",
            "Requirement already satisfied: patsy>=0.5.1 in /usr/local/lib/python3.10/dist-packages (from category_encoders) (0.5.3)\n",
            "Requirement already satisfied: python-dateutil>=2.8.1 in /usr/local/lib/python3.10/dist-packages (from pandas>=1.0.5->category_encoders) (2.8.2)\n",
            "Requirement already satisfied: pytz>=2020.1 in /usr/local/lib/python3.10/dist-packages (from pandas>=1.0.5->category_encoders) (2023.3.post1)\n",
            "Requirement already satisfied: six in /usr/local/lib/python3.10/dist-packages (from patsy>=0.5.1->category_encoders) (1.16.0)\n",
            "Requirement already satisfied: joblib>=1.1.1 in /usr/local/lib/python3.10/dist-packages (from scikit-learn>=0.20.0->category_encoders) (1.3.2)\n",
            "Requirement already satisfied: threadpoolctl>=2.0.0 in /usr/local/lib/python3.10/dist-packages (from scikit-learn>=0.20.0->category_encoders) (3.2.0)\n",
            "Requirement already satisfied: packaging>=21.3 in /usr/local/lib/python3.10/dist-packages (from statsmodels>=0.9.0->category_encoders) (23.2)\n",
            "Installing collected packages: category_encoders\n",
            "Successfully installed category_encoders-2.6.3\n"
          ]
        }
      ],
      "source": [
        "!pip install category_encoders"
      ]
    },
    {
      "cell_type": "code",
      "execution_count": 13,
      "metadata": {
        "id": "1odkFdKHlRxP"
      },
      "outputs": [],
      "source": [
        "from sklearn.discriminant_analysis import StandardScaler\n",
        "import pandas as pd\n",
        "from sklearn.experimental import enable_iterative_imputer\n",
        "from sklearn.impute import IterativeImputer\n",
        "from sklearn.metrics import RocCurveDisplay, auc, roc_curve\n",
        "from category_encoders import OneHotEncoder, TargetEncoder\n",
        "warnings.filterwarnings('ignore')"
      ]
    },
    {
      "cell_type": "code",
      "source": [
        "# visualize categories under each categorical variable\n",
        "print(data['ethnicity'].unique())\n",
        "print(data['icu_admit_source'].unique())\n",
        "print(data['hospital_admit_source'].unique())\n",
        "print(data['icu_stay_type'].unique())\n",
        "print(data['apache_3j_bodysystem'].unique())\n",
        "print(data['icu_type'].unique())\n",
        "print(data['apache_2_bodysystem'].unique())\n"
      ],
      "metadata": {
        "colab": {
          "base_uri": "https://localhost:8080/"
        },
        "id": "Hzy9onhm_AVq",
        "outputId": "0e9c008f-e175-464a-a99d-2fc733279db9"
      },
      "execution_count": 14,
      "outputs": [
        {
          "output_type": "stream",
          "name": "stdout",
          "text": [
            "['Caucasian' nan 'Hispanic' 'African American' 'Asian' 'Native American'\n",
            " 'Other/Unknown']\n",
            "['Floor' 'Accident & Emergency' 'Operating Room / Recovery'\n",
            " 'Other Hospital' 'Other ICU' nan]\n",
            "['Floor' 'Emergency Department' 'Operating Room' nan 'Direct Admit'\n",
            " 'Other Hospital' 'Other ICU' 'ICU to SDU' 'Recovery Room'\n",
            " 'Chest Pain Center' 'Step-Down Unit (SDU)' 'Acute Care/Floor' 'PACU'\n",
            " 'Observation' 'ICU' 'Other']\n",
            "['admit' 'readmit' 'transfer']\n",
            "['Sepsis' 'Respiratory' 'Metabolic' 'Cardiovascular' 'Trauma'\n",
            " 'Neurological' 'Gastrointestinal' 'Genitourinary' nan 'Hematological'\n",
            " 'Musculoskeletal/Skin' 'Gynecological']\n",
            "['CTICU' 'Med-Surg ICU' 'CCU-CTICU' 'Neuro ICU' 'MICU' 'SICU'\n",
            " 'Cardiac ICU' 'CSICU']\n",
            "['Cardiovascular' 'Respiratory' 'Metabolic' 'Trauma' 'Neurologic'\n",
            " 'Gastrointestinal' 'Renal/Genitourinary' nan 'Undefined diagnoses'\n",
            " 'Haematologic' 'Undefined Diagnoses']\n"
          ]
        }
      ]
    },
    {
      "cell_type": "code",
      "source": [
        "from sklearn.compose import ColumnTransformer\n",
        "from imblearn.pipeline import Pipeline\n",
        "from imblearn.under_sampling import TomekLinks, RandomUnderSampler\n",
        "from sklearn.impute import SimpleImputer\n",
        "from sklearn.model_selection import RandomizedSearchCV, StratifiedKFold\n",
        "from sklearn.ensemble import GradientBoostingClassifier\n",
        "from sklearn.model_selection import GridSearchCV\n",
        "import warnings\n",
        "\n",
        "warnings.filterwarnings('ignore')\n",
        "# Define the column that will be used as the target for modeling or analysis\n",
        "target_column = 'hospital_death'\n",
        "\n",
        "# identify categorical variables\n",
        "categorical_columns = ['ethnicity', 'gender','hospital_admit_source','icu_admit_source',\n",
        "                       'icu_stay_type','icu_type','apache_3j_bodysystem','apache_2_bodysystem']\n",
        "\n",
        "# numerical variables\n",
        "numerical_columns = [c for c in data_selected.columns if c not in categorical_columns and c != target_column]\n",
        "\n",
        "# Encoding 'gender' column\n",
        "from sklearn.preprocessing import StandardScaler, LabelEncoder\n",
        "le = LabelEncoder()\n",
        "df['gender'] = le.fit_transform(df['gender']) # Male: 1, Female: 0\n",
        "\n",
        "\n",
        "# Splitting the data into 70% training and 30% testing\n",
        "train = df.sample(frac=0.7, random_state=11)\n",
        "test = df.drop(train.index)\n",
        "\n",
        "# features\n",
        "X_train = train.drop('hospital_death', axis = 1)\n",
        "# outcome\n",
        "y_train = train['hospital_death']\n",
        "\n",
        "# features\n",
        "X_test = test.drop('hospital_death', axis = 1)\n",
        "# outcome\n",
        "y_test = test['hospital_death']\n",
        "\n",
        "y_train = y_train.to_numpy()\n",
        "y_test = y_test.to_numpy()\n",
        "\n",
        "# imputate numerical columns with median\n",
        "num_transformer = SimpleImputer(strategy = 'median')\n",
        "\n",
        "# impute categorical columns with the most frequent value\n",
        "cat_transformer = Pipeline(steps=[\n",
        "    ('imputer', SimpleImputer(strategy = 'most_frequent')),\n",
        "    ('one_hot_encoder', OneHotEncoder())\n",
        "    ])\n",
        "\n",
        "# initialize a column transformer that handels imputation and encoding\n",
        "ct = ColumnTransformer(\n",
        "    transformers=[\n",
        "        ('num', num_transformer, numerical_columns),\n",
        "        ('cat', cat_transformer, categorical_columns)\n",
        "        ],\n",
        "    remainder='passthrough')\n",
        "\n",
        "\n",
        "# Fit the ColumnTransformer to the data\n",
        "ct.fit(X_train)\n",
        "ct.fit(X_test)\n",
        "\n",
        "# Here you can transform the data and convert to DataFrame with the new column names\n",
        "X_resampled = pd.DataFrame(ct.transform(X_train), columns=ct.get_feature_names_out())\n",
        "X_test = pd.DataFrame(ct.transform(X_test), columns=ct.get_feature_names_out())\n",
        "\n",
        "# undersample\n",
        "undersample = RandomUnderSampler(random_state = 42)\n",
        "X_resampled, y_res = undersample.fit_resample(X_resampled, y_train)\n",
        "X_test_resampled, y_test_resampled = undersample.fit_resample(X_test, y_test)\n",
        "\n",
        "# Normalizing data\n",
        "scaler = StandardScaler()\n",
        "X_resampled = scaler.fit_transform(X_resampled)\n",
        "X_test_resampled =  scaler.fit_transform(X_test_resampled)\n",
        "\n"
      ],
      "metadata": {
        "id": "EJCyJ3za8RaJ"
      },
      "execution_count": 30,
      "outputs": []
    },
    {
      "cell_type": "code",
      "execution_count": 24,
      "metadata": {
        "colab": {
          "base_uri": "https://localhost:8080/"
        },
        "id": "Qei4o7cg7WhP",
        "outputId": "16c89c9a-d59e-4043-e140-5a2f3c5e83ae"
      },
      "outputs": [
        {
          "output_type": "stream",
          "name": "stdout",
          "text": [
            "Optimal number of features: 83\n"
          ]
        }
      ],
      "source": [
        "# Logistic regression feature selection\n",
        "\n",
        "# Initialize a Logistic Regression model\n",
        "model = LogisticRegression()\n",
        "\n",
        "# Define a StratifiedKFold cross-validation\n",
        "cv = StratifiedKFold(3)\n",
        "\n",
        "# Initialize Recursive Feature Elimination with Cross-Validation (RFECV)\n",
        "rfecv = RFECV(\n",
        "    estimator=model,\n",
        "    step=1,\n",
        "    cv=cv,\n",
        "    scoring='roc_auc',  # Specify the scoring metric (ROC AUC in this case)\n",
        "    min_features_to_select=1,\n",
        ")\n",
        "\n",
        "rfecv.fit(X_resampled, y_res)\n",
        "\n",
        "# Print the optimal number of selected features\n",
        "print(f\"Optimal number of features: {rfecv.n_features_}\")"
      ]
    },
    {
      "cell_type": "code",
      "execution_count": 25,
      "metadata": {
        "id": "Oojo_YZS8ILZ",
        "colab": {
          "base_uri": "https://localhost:8080/"
        },
        "outputId": "b583f603-9e12-43f4-cd91-8fa497170251"
      },
      "outputs": [
        {
          "output_type": "execute_result",
          "data": {
            "text/plain": [
              "array([ 1,  1,  1,  1, 62, 57,  1,  1,  1,  1,  1,  1,  1,  1,  1,  1, 55,\n",
              "        1,  1,  1,  1, 41,  1,  1, 56, 25, 19,  1, 17, 45,  1, 48,  1,  1,\n",
              "        1,  1,  1,  8,  1,  1, 40,  1, 31,  1,  1,  1,  1, 20,  1, 60, 42,\n",
              "        1,  2,  1,  1, 28, 29,  1, 12,  1,  1,  1,  1,  1,  1,  1,  1,  1,\n",
              "        1,  1, 13,  1,  1, 14,  1, 33, 11,  1,  1,  1, 30, 39,  1, 54,  6,\n",
              "        1, 43, 21, 44, 37, 18,  1,  1,  1, 50,  3,  1, 52, 49, 53, 51, 36,\n",
              "       24,  7,  1,  1, 61, 27,  1, 34,  1,  1, 38, 15, 59, 58, 22, 46, 23,\n",
              "        1,  1, 47,  1,  4,  1,  1, 26,  1,  9,  1,  1,  1, 32,  1,  5, 16,\n",
              "       35,  1,  1,  1,  1,  1, 10,  1])"
            ]
          },
          "metadata": {},
          "execution_count": 25
        }
      ],
      "source": [
        "# which columns used and which wasn't\n",
        "rfecv.support_\n",
        "# features ranking low is better\n",
        "rfecv.ranking_"
      ]
    },
    {
      "cell_type": "code",
      "execution_count": 26,
      "metadata": {
        "id": "Y_gZfohL8S5p",
        "colab": {
          "base_uri": "https://localhost:8080/",
          "height": 472
        },
        "outputId": "885d14d8-39fe-4b23-d2cd-b9c7f55df5f1"
      },
      "outputs": [
        {
          "output_type": "display_data",
          "data": {
            "text/plain": [
              "<Figure size 640x480 with 1 Axes>"
            ],
            "image/png": "[encoded data removed]"
          },
          "metadata": {}
        }
      ],
      "source": [
        "# Calculate the number of different feature selections tested\n",
        "n_scores = len(rfecv.cv_results_[\"mean_test_score\"])\n",
        "\n",
        "# Create a new figure for plotting\n",
        "plt.figure()\n",
        "\n",
        "# Set labels for the x and y axes\n",
        "plt.xlabel(\"Number of features selected\")\n",
        "plt.ylabel(\"Mean test score\")\n",
        "\n",
        "# Plot the mean test scores with error bars\n",
        "plt.errorbar(\n",
        "    range(1, n_scores + 1),\n",
        "    rfecv.cv_results_[\"mean_test_score\"],\n",
        "    yerr=rfecv.cv_results_[\"std_test_score\"],\n",
        "    color='#995687'  # Change the color to green\n",
        ")\n",
        "\n",
        "# Set the title for the plot\n",
        "plt.title(\"Recursive Feature Elimination\")\n",
        "\n",
        "# Show the plot\n",
        "plt.show()\n"
      ]
    },
    {
      "cell_type": "code",
      "source": [
        "X_train = X_resampled[:, rfecv.support_]\n",
        "X_train"
      ],
      "metadata": {
        "colab": {
          "base_uri": "https://localhost:8080/"
        },
        "id": "qGPOgEmDqYSh",
        "outputId": "04a33c31-163e-448e-84e7-3fd7a3f4b54e"
      },
      "execution_count": 27,
      "outputs": [
        {
          "output_type": "execute_result",
          "data": {
            "text/plain": [
              "array([[ 0.44557008, -0.37756171, -0.39220176, ..., -0.23602639,\n",
              "        -0.15131607, -0.0615624 ],\n",
              "       [ 0.57520148, -1.38314306, -0.39220176, ..., -0.23602639,\n",
              "        -0.15131607, -0.0615624 ],\n",
              "       [-0.26740264, -0.12836483, -0.39220176, ..., -0.23602639,\n",
              "        -0.15131607, -0.0615624 ],\n",
              "       ...,\n",
              "       [ 1.1585428 , -0.70897073, -0.39220176, ..., -0.23602639,\n",
              "        -0.15131607, -0.0615624 ],\n",
              "       [-0.72111256, -0.4771883 , -0.39220176, ..., -0.23602639,\n",
              "        -0.15131607, -0.0615624 ],\n",
              "       [ 0.70483289,  0.20415885, -0.39220176, ..., -0.23602639,\n",
              "        -0.15131607, -0.0615624 ]])"
            ]
          },
          "metadata": {},
          "execution_count": 27
        }
      ]
    },
    {
      "cell_type": "code",
      "execution_count": 32,
      "metadata": {
        "id": "uV9Nb2ma8TlB",
        "colab": {
          "base_uri": "https://localhost:8080/"
        },
        "outputId": "86e020d5-ee98-4e9b-f414-9847bb802b3b"
      },
      "outputs": [
        {
          "output_type": "stream",
          "name": "stdout",
          "text": [
            "======== Training Set ==========\n",
            "AUC :  0.799562909267433\n",
            "Accuracy :  0.7995325422509888\n",
            "Confusion Matrix:\n",
            "[[4475 1143]\n",
            " [1087 4419]]\n",
            "\n",
            "Classification Report:\n",
            "              precision    recall  f1-score   support\n",
            "\n",
            "           0       0.80      0.80      0.80      5618\n",
            "           1       0.79      0.80      0.80      5506\n",
            "\n",
            "    accuracy                           0.80     11124\n",
            "   macro avg       0.80      0.80      0.80     11124\n",
            "weighted avg       0.80      0.80      0.80     11124\n",
            "\n",
            "======== Test Set ==========\n",
            "AUC :  0.7935399924372301\n",
            "Accuracy :  0.7934551636209095\n",
            "Confusion Matrix:\n",
            "[[1887  506]\n",
            " [ 466 1847]]\n",
            "\n",
            "Classification Report:\n",
            "              precision    recall  f1-score   support\n",
            "\n",
            "           0       0.80      0.79      0.80      2393\n",
            "           1       0.78      0.80      0.79      2313\n",
            "\n",
            "    accuracy                           0.79      4706\n",
            "   macro avg       0.79      0.79      0.79      4706\n",
            "weighted avg       0.79      0.79      0.79      4706\n",
            "\n"
          ]
        }
      ],
      "source": [
        "\n",
        "# outcome\n",
        "y_test = test['hospital_death']\n",
        "\n",
        "# Select only the features that were chosen by RFECV\n",
        "X_train = X_resampled[:, rfecv.support_]\n",
        "X_test = X_test_resampled[:, rfecv.support_]\n",
        "\n",
        "# Initialize and train a Logistic Regression model\n",
        "model = LogisticRegression()\n",
        "model.fit(X_resampled, y_res)\n",
        "\n",
        "# Make predictions on the test and training sets\n",
        "y_pred_test = model.predict(X_test_resampled)\n",
        "y_pred_train = model.predict(X_resampled)\n",
        "\n",
        "# Calculate evaluation metrics and scores for the test and training sets\n",
        "conf_matrix_test, class_report_test, auc_test, acc_test = get_scores(y_pred_test, y_test_resampled)\n",
        "conf_matrix_train, class_report_train, auc_train, acc_train = get_scores(y_pred_train, y_res)\n",
        "\n",
        "# Print scores and evaluation metrics for the training set\n",
        "print('======== Training Set ==========')\n",
        "print_scores(conf_matrix_train, class_report_train, auc_train, acc_train)\n",
        "\n",
        "# Print scores and evaluation metrics for the test set\n",
        "print('======== Test Set ==========')\n",
        "print_scores(conf_matrix_test, class_report_test, auc_test, acc_test)"
      ]
    }
  ],
  "metadata": {
    "colab": {
      "provenance": [],
      "authorship_tag": "ABX9TyO5ogILfS+XNNdZFLoemIoE",
      "include_colab_link": true
    },
    "kernelspec": {
      "display_name": "Python 3",
      "name": "python3"
    },
    "language_info": {
      "name": "python"
    }
  },
  "nbformat": 4,
  "nbformat_minor": 0
}