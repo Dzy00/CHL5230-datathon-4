{
  "cells": [
    {
      "cell_type": "markdown",
      "metadata": {
        "id": "view-in-github",
        "colab_type": "text"
      },
      "source": [
        "<a href=\"https://colab.research.google.com/github/Dzy00/CHL5230-datathon4/blob/main/datathon4_Rose.ipynb\" target=\"_parent\"><img src=\"https://colab.research.google.com/assets/colab-badge.svg\" alt=\"Open In Colab\"/></a>"
      ]
    },
    {
      "cell_type": "code",
      "execution_count": null,
      "metadata": {
        "id": "Ccwe6Bm33hhJ"
      },
      "outputs": [],
      "source": [
        "import pandas as pd\n",
        "import numpy as np\n",
        "import matplotlib.pyplot as plt\n",
        "import seaborn as  sns\n",
        "import plotly.express as px\n",
        "import numpy as np\n",
        "import warnings\n",
        "import matplotlib.pyplot as plt\n",
        "from sklearn.naive_bayes import CategoricalNB, GaussianNB, MultinomialNB\n",
        "from statsmodels.stats.outliers_influence import variance_inflation_factor\n",
        "from sklearn.discriminant_analysis import LinearDiscriminantAnalysis, QuadraticDiscriminantAnalysis\n",
        "from sklearn.metrics import RocCurveDisplay, roc_curve, accuracy_score, confusion_matrix, roc_auc_score, classification_report\n",
        "from sklearn.model_selection import GridSearchCV\n",
        "from sklearn.model_selection import train_test_split\n",
        "from sklearn.preprocessing import StandardScaler, LabelEncoder\n",
        "from sklearn.linear_model import LinearRegression, LogisticRegression\n",
        "from sklearn.model_selection import KFold\n",
        "from sklearn.metrics import mean_squared_error\n",
        "from sklearn.experimental import enable_iterative_imputer\n",
        "from sklearn.impute import IterativeImputer\n",
        "from sklearn.feature_selection import RFECV\n",
        "from sklearn.model_selection import StratifiedKFold, GridSearchCV"
      ]
    },
    {
      "cell_type": "markdown",
      "source": [],
      "metadata": {
        "id": "l7X5ChilwGUV"
      }
    },
    {
      "cell_type": "code",
      "execution_count": null,
      "metadata": {
        "colab": {
          "base_uri": "https://localhost:8080/",
          "height": 256
        },
        "id": "5F4pHuER6PKF",
        "outputId": "c7f688d1-8c4d-42a3-d0f2-92d943f561c3"
      },
      "outputs": [
        {
          "output_type": "execute_result",
          "data": {
            "text/plain": [
              "   encounter_id  patient_id  hospital_id  hospital_death   age    bmi  \\\n",
              "0         66154       25312          118               0  68.0  22.73   \n",
              "1        114252       59342           81               0  77.0  27.42   \n",
              "2        119783       50777          118               0  25.0  31.95   \n",
              "3         79267       46918          118               0  81.0  22.64   \n",
              "4         92056       34377           33               0  19.0    NaN   \n",
              "\n",
              "   elective_surgery  ethnicity gender  height  ... aids cirrhosis  \\\n",
              "0                 0  Caucasian      M   180.3  ...  0.0       0.0   \n",
              "1                 0  Caucasian      F   160.0  ...  0.0       0.0   \n",
              "2                 0  Caucasian      F   172.7  ...  0.0       0.0   \n",
              "3                 1  Caucasian      F   165.1  ...  0.0       0.0   \n",
              "4                 0  Caucasian      M   188.0  ...  0.0       0.0   \n",
              "\n",
              "   diabetes_mellitus hepatic_failure immunosuppression  leukemia  lymphoma  \\\n",
              "0                1.0             0.0               0.0       0.0       0.0   \n",
              "1                1.0             0.0               0.0       0.0       0.0   \n",
              "2                0.0             0.0               0.0       0.0       0.0   \n",
              "3                0.0             0.0               0.0       0.0       0.0   \n",
              "4                0.0             0.0               0.0       0.0       0.0   \n",
              "\n",
              "   solid_tumor_with_metastasis  apache_3j_bodysystem  apache_2_bodysystem  \n",
              "0                          0.0                Sepsis       Cardiovascular  \n",
              "1                          0.0           Respiratory          Respiratory  \n",
              "2                          0.0             Metabolic            Metabolic  \n",
              "3                          0.0        Cardiovascular       Cardiovascular  \n",
              "4                          0.0                Trauma               Trauma  \n",
              "\n",
              "[5 rows x 186 columns]"
            ],
            "text/html": [
              "\n",
              "  <div id=\"df-0962bd24-5ff9-47b8-a6c5-cc642c739287\" class=\"colab-df-container\">\n",
              "    <div>\n",
              "<style scoped>\n",
              "    .dataframe tbody tr th:only-of-type {\n",
              "        vertical-align: middle;\n",
              "    }\n",
              "\n",
              "    .dataframe tbody tr th {\n",
              "        vertical-align: top;\n",
              "    }\n",
              "\n",
              "    .dataframe thead th {\n",
              "        text-align: right;\n",
              "    }\n",
              "</style>\n",
              "<table border=\"1\" class=\"dataframe\">\n",
              "  <thead>\n",
              "    <tr style=\"text-align: right;\">\n",
              "      <th></th>\n",
              "      <th>encounter_id</th>\n",
              "      <th>patient_id</th>\n",
              "      <th>hospital_id</th>\n",
              "      <th>hospital_death</th>\n",
              "      <th>age</th>\n",
              "      <th>bmi</th>\n",
              "      <th>elective_surgery</th>\n",
              "      <th>ethnicity</th>\n",
              "      <th>gender</th>\n",
              "      <th>height</th>\n",
              "      <th>...</th>\n",
              "      <th>aids</th>\n",
              "      <th>cirrhosis</th>\n",
              "      <th>diabetes_mellitus</th>\n",
              "      <th>hepatic_failure</th>\n",
              "      <th>immunosuppression</th>\n",
              "      <th>leukemia</th>\n",
              "      <th>lymphoma</th>\n",
              "      <th>solid_tumor_with_metastasis</th>\n",
              "      <th>apache_3j_bodysystem</th>\n",
              "      <th>apache_2_bodysystem</th>\n",
              "    </tr>\n",
              "  </thead>\n",
              "  <tbody>\n",
              "    <tr>\n",
              "      <th>0</th>\n",
              "      <td>66154</td>\n",
              "      <td>25312</td>\n",
              "      <td>118</td>\n",
              "      <td>0</td>\n",
              "      <td>68.0</td>\n",
              "      <td>22.73</td>\n",
              "      <td>0</td>\n",
              "      <td>Caucasian</td>\n",
              "      <td>M</td>\n",
              "      <td>180.3</td>\n",
              "      <td>...</td>\n",
              "      <td>0.0</td>\n",
              "      <td>0.0</td>\n",
              "      <td>1.0</td>\n",
              "      <td>0.0</td>\n",
              "      <td>0.0</td>\n",
              "      <td>0.0</td>\n",
              "      <td>0.0</td>\n",
              "      <td>0.0</td>\n",
              "      <td>Sepsis</td>\n",
              "      <td>Cardiovascular</td>\n",
              "    </tr>\n",
              "    <tr>\n",
              "      <th>1</th>\n",
              "      <td>114252</td>\n",
              "      <td>59342</td>\n",
              "      <td>81</td>\n",
              "      <td>0</td>\n",
              "      <td>77.0</td>\n",
              "      <td>27.42</td>\n",
              "      <td>0</td>\n",
              "      <td>Caucasian</td>\n",
              "      <td>F</td>\n",
              "      <td>160.0</td>\n",
              "      <td>...</td>\n",
              "      <td>0.0</td>\n",
              "      <td>0.0</td>\n",
              "      <td>1.0</td>\n",
              "      <td>0.0</td>\n",
              "      <td>0.0</td>\n",
              "      <td>0.0</td>\n",
              "      <td>0.0</td>\n",
              "      <td>0.0</td>\n",
              "      <td>Respiratory</td>\n",
              "      <td>Respiratory</td>\n",
              "    </tr>\n",
              "    <tr>\n",
              "      <th>2</th>\n",
              "      <td>119783</td>\n",
              "      <td>50777</td>\n",
              "      <td>118</td>\n",
              "      <td>0</td>\n",
              "      <td>25.0</td>\n",
              "      <td>31.95</td>\n",
              "      <td>0</td>\n",
              "      <td>Caucasian</td>\n",
              "      <td>F</td>\n",
              "      <td>172.7</td>\n",
              "      <td>...</td>\n",
              "      <td>0.0</td>\n",
              "      <td>0.0</td>\n",
              "      <td>0.0</td>\n",
              "      <td>0.0</td>\n",
              "      <td>0.0</td>\n",
              "      <td>0.0</td>\n",
              "      <td>0.0</td>\n",
              "      <td>0.0</td>\n",
              "      <td>Metabolic</td>\n",
              "      <td>Metabolic</td>\n",
              "    </tr>\n",
              "    <tr>\n",
              "      <th>3</th>\n",
              "      <td>79267</td>\n",
              "      <td>46918</td>\n",
              "      <td>118</td>\n",
              "      <td>0</td>\n",
              "      <td>81.0</td>\n",
              "      <td>22.64</td>\n",
              "      <td>1</td>\n",
              "      <td>Caucasian</td>\n",
              "      <td>F</td>\n",
              "      <td>165.1</td>\n",
              "      <td>...</td>\n",
              "      <td>0.0</td>\n",
              "      <td>0.0</td>\n",
              "      <td>0.0</td>\n",
              "      <td>0.0</td>\n",
              "      <td>0.0</td>\n",
              "      <td>0.0</td>\n",
              "      <td>0.0</td>\n",
              "      <td>0.0</td>\n",
              "      <td>Cardiovascular</td>\n",
              "      <td>Cardiovascular</td>\n",
              "    </tr>\n",
              "    <tr>\n",
              "      <th>4</th>\n",
              "      <td>92056</td>\n",
              "      <td>34377</td>\n",
              "      <td>33</td>\n",
              "      <td>0</td>\n",
              "      <td>19.0</td>\n",
              "      <td>NaN</td>\n",
              "      <td>0</td>\n",
              "      <td>Caucasian</td>\n",
              "      <td>M</td>\n",
              "      <td>188.0</td>\n",
              "      <td>...</td>\n",
              "      <td>0.0</td>\n",
              "      <td>0.0</td>\n",
              "      <td>0.0</td>\n",
              "      <td>0.0</td>\n",
              "      <td>0.0</td>\n",
              "      <td>0.0</td>\n",
              "      <td>0.0</td>\n",
              "      <td>0.0</td>\n",
              "      <td>Trauma</td>\n",
              "      <td>Trauma</td>\n",
              "    </tr>\n",
              "  </tbody>\n",
              "</table>\n",
              "<p>5 rows × 186 columns</p>\n",
              "</div>\n",
              "    <div class=\"colab-df-buttons\">\n",
              "\n",
              "  <div class=\"colab-df-container\">\n",
              "    <button class=\"colab-df-convert\" onclick=\"convertToInteractive('df-0962bd24-5ff9-47b8-a6c5-cc642c739287')\"\n",
              "            title=\"Convert this dataframe to an interactive table.\"\n",
              "            style=\"display:none;\">\n",
              "\n",
              "  <svg xmlns=\"http://www.w3.org/2000/svg\" height=\"24px\" viewBox=\"0 -960 960 960\">\n",
              "    <path d=\"M120-120v-720h720v720H120Zm60-500h600v-160H180v160Zm220 220h160v-160H400v160Zm0 220h160v-160H400v160ZM180-400h160v-160H180v160Zm440 0h160v-160H620v160ZM180-180h160v-160H180v160Zm440 0h160v-160H620v160Z\"/>\n",
              "  </svg>\n",
              "    </button>\n",
              "\n",
              "  <style>\n",
              "    .colab-df-container {\n",
              "      display:flex;\n",
              "      gap: 12px;\n",
              "    }\n",
              "\n",
              "    .colab-df-convert {\n",
              "      background-color: #E8F0FE;\n",
              "      border: none;\n",
              "      border-radius: 50%;\n",
              "      cursor: pointer;\n",
              "      display: none;\n",
              "      fill: #1967D2;\n",
              "      height: 32px;\n",
              "      padding: 0 0 0 0;\n",
              "      width: 32px;\n",
              "    }\n",
              "\n",
              "    .colab-df-convert:hover {\n",
              "      background-color: #E2EBFA;\n",
              "      box-shadow: 0px 1px 2px rgba(60, 64, 67, 0.3), 0px 1px 3px 1px rgba(60, 64, 67, 0.15);\n",
              "      fill: #174EA6;\n",
              "    }\n",
              "\n",
              "    .colab-df-buttons div {\n",
              "      margin-bottom: 4px;\n",
              "    }\n",
              "\n",
              "    [theme=dark] .colab-df-convert {\n",
              "      background-color: #3B4455;\n",
              "      fill: #D2E3FC;\n",
              "    }\n",
              "\n",
              "    [theme=dark] .colab-df-convert:hover {\n",
              "      background-color: #434B5C;\n",
              "      box-shadow: 0px 1px 3px 1px rgba(0, 0, 0, 0.15);\n",
              "      filter: drop-shadow(0px 1px 2px rgba(0, 0, 0, 0.3));\n",
              "      fill: #FFFFFF;\n",
              "    }\n",
              "  </style>\n",
              "\n",
              "    <script>\n",
              "      const buttonEl =\n",
              "        document.querySelector('#df-0962bd24-5ff9-47b8-a6c5-cc642c739287 button.colab-df-convert');\n",
              "      buttonEl.style.display =\n",
              "        google.colab.kernel.accessAllowed ? 'block' : 'none';\n",
              "\n",
              "      async function convertToInteractive(key) {\n",
              "        const element = document.querySelector('#df-0962bd24-5ff9-47b8-a6c5-cc642c739287');\n",
              "        const dataTable =\n",
              "          await google.colab.kernel.invokeFunction('convertToInteractive',\n",
              "                                                    [key], {});\n",
              "        if (!dataTable) return;\n",
              "\n",
              "        const docLinkHtml = 'Like what you see? Visit the ' +\n",
              "          '<a target=\"_blank\" href=https://colab.research.google.com/notebooks/data_table.ipynb>data table notebook</a>'\n",
              "          + ' to learn more about interactive tables.';\n",
              "        element.innerHTML = '';\n",
              "        dataTable['output_type'] = 'display_data';\n",
              "        await google.colab.output.renderOutput(dataTable, element);\n",
              "        const docLink = document.createElement('div');\n",
              "        docLink.innerHTML = docLinkHtml;\n",
              "        element.appendChild(docLink);\n",
              "      }\n",
              "    </script>\n",
              "  </div>\n",
              "\n",
              "\n",
              "<div id=\"df-4a70ca4e-87c2-4c76-a106-6497f606ec54\">\n",
              "  <button class=\"colab-df-quickchart\" onclick=\"quickchart('df-4a70ca4e-87c2-4c76-a106-6497f606ec54')\"\n",
              "            title=\"Suggest charts\"\n",
              "            style=\"display:none;\">\n",
              "\n",
              "<svg xmlns=\"http://www.w3.org/2000/svg\" height=\"24px\"viewBox=\"0 0 24 24\"\n",
              "     width=\"24px\">\n",
              "    <g>\n",
              "        <path d=\"M19 3H5c-1.1 0-2 .9-2 2v14c0 1.1.9 2 2 2h14c1.1 0 2-.9 2-2V5c0-1.1-.9-2-2-2zM9 17H7v-7h2v7zm4 0h-2V7h2v10zm4 0h-2v-4h2v4z\"/>\n",
              "    </g>\n",
              "</svg>\n",
              "  </button>\n",
              "\n",
              "<style>\n",
              "  .colab-df-quickchart {\n",
              "      --bg-color: #E8F0FE;\n",
              "      --fill-color: #1967D2;\n",
              "      --hover-bg-color: #E2EBFA;\n",
              "      --hover-fill-color: #174EA6;\n",
              "      --disabled-fill-color: #AAA;\n",
              "      --disabled-bg-color: #DDD;\n",
              "  }\n",
              "\n",
              "  [theme=dark] .colab-df-quickchart {\n",
              "      --bg-color: #3B4455;\n",
              "      --fill-color: #D2E3FC;\n",
              "      --hover-bg-color: #434B5C;\n",
              "      --hover-fill-color: #FFFFFF;\n",
              "      --disabled-bg-color: #3B4455;\n",
              "      --disabled-fill-color: #666;\n",
              "  }\n",
              "\n",
              "  .colab-df-quickchart {\n",
              "    background-color: var(--bg-color);\n",
              "    border: none;\n",
              "    border-radius: 50%;\n",
              "    cursor: pointer;\n",
              "    display: none;\n",
              "    fill: var(--fill-color);\n",
              "    height: 32px;\n",
              "    padding: 0;\n",
              "    width: 32px;\n",
              "  }\n",
              "\n",
              "  .colab-df-quickchart:hover {\n",
              "    background-color: var(--hover-bg-color);\n",
              "    box-shadow: 0 1px 2px rgba(60, 64, 67, 0.3), 0 1px 3px 1px rgba(60, 64, 67, 0.15);\n",
              "    fill: var(--button-hover-fill-color);\n",
              "  }\n",
              "\n",
              "  .colab-df-quickchart-complete:disabled,\n",
              "  .colab-df-quickchart-complete:disabled:hover {\n",
              "    background-color: var(--disabled-bg-color);\n",
              "    fill: var(--disabled-fill-color);\n",
              "    box-shadow: none;\n",
              "  }\n",
              "\n",
              "  .colab-df-spinner {\n",
              "    border: 2px solid var(--fill-color);\n",
              "    border-color: transparent;\n",
              "    border-bottom-color: var(--fill-color);\n",
              "    animation:\n",
              "      spin 1s steps(1) infinite;\n",
              "  }\n",
              "\n",
              "  @keyframes spin {\n",
              "    0% {\n",
              "      border-color: transparent;\n",
              "      border-bottom-color: var(--fill-color);\n",
              "      border-left-color: var(--fill-color);\n",
              "    }\n",
              "    20% {\n",
              "      border-color: transparent;\n",
              "      border-left-color: var(--fill-color);\n",
              "      border-top-color: var(--fill-color);\n",
              "    }\n",
              "    30% {\n",
              "      border-color: transparent;\n",
              "      border-left-color: var(--fill-color);\n",
              "      border-top-color: var(--fill-color);\n",
              "      border-right-color: var(--fill-color);\n",
              "    }\n",
              "    40% {\n",
              "      border-color: transparent;\n",
              "      border-right-color: var(--fill-color);\n",
              "      border-top-color: var(--fill-color);\n",
              "    }\n",
              "    60% {\n",
              "      border-color: transparent;\n",
              "      border-right-color: var(--fill-color);\n",
              "    }\n",
              "    80% {\n",
              "      border-color: transparent;\n",
              "      border-right-color: var(--fill-color);\n",
              "      border-bottom-color: var(--fill-color);\n",
              "    }\n",
              "    90% {\n",
              "      border-color: transparent;\n",
              "      border-bottom-color: var(--fill-color);\n",
              "    }\n",
              "  }\n",
              "</style>\n",
              "\n",
              "  <script>\n",
              "    async function quickchart(key) {\n",
              "      const quickchartButtonEl =\n",
              "        document.querySelector('#' + key + ' button');\n",
              "      quickchartButtonEl.disabled = true;  // To prevent multiple clicks.\n",
              "      quickchartButtonEl.classList.add('colab-df-spinner');\n",
              "      try {\n",
              "        const charts = await google.colab.kernel.invokeFunction(\n",
              "            'suggestCharts', [key], {});\n",
              "      } catch (error) {\n",
              "        console.error('Error during call to suggestCharts:', error);\n",
              "      }\n",
              "      quickchartButtonEl.classList.remove('colab-df-spinner');\n",
              "      quickchartButtonEl.classList.add('colab-df-quickchart-complete');\n",
              "    }\n",
              "    (() => {\n",
              "      let quickchartButtonEl =\n",
              "        document.querySelector('#df-4a70ca4e-87c2-4c76-a106-6497f606ec54 button');\n",
              "      quickchartButtonEl.style.display =\n",
              "        google.colab.kernel.accessAllowed ? 'block' : 'none';\n",
              "    })();\n",
              "  </script>\n",
              "</div>\n",
              "    </div>\n",
              "  </div>\n"
            ]
          },
          "metadata": {},
          "execution_count": 104
        }
      ],
      "source": [
        "# read the data\n",
        "data = pd.read_csv('datathon4.csv')\n",
        "data.head()"
      ]
    },
    {
      "cell_type": "code",
      "execution_count": null,
      "metadata": {
        "colab": {
          "base_uri": "https://localhost:8080/"
        },
        "id": "M5JStAHH6tGm",
        "outputId": "81fc3b61-34fc-4b33-c584-28fdad80e8da"
      },
      "outputs": [
        {
          "output_type": "stream",
          "name": "stdout",
          "text": [
            "(91713, 186)\n"
          ]
        }
      ],
      "source": [
        "print(data.shape)"
      ]
    },
    {
      "cell_type": "code",
      "execution_count": null,
      "metadata": {
        "colab": {
          "base_uri": "https://localhost:8080/"
        },
        "id": "Ng-wUtcl6vaR",
        "outputId": "9f53d6d9-b6ad-480d-b708-284d5d06a0f9"
      },
      "outputs": [
        {
          "output_type": "execute_result",
          "data": {
            "text/plain": [
              "(91713,)"
            ]
          },
          "metadata": {},
          "execution_count": 4
        }
      ],
      "source": [
        "# Check how many patients there are\n",
        "data['patient_id'].unique().shape"
      ]
    },
    {
      "cell_type": "code",
      "execution_count": null,
      "metadata": {
        "colab": {
          "base_uri": "https://localhost:8080/"
        },
        "id": "eGb16ztA62Ib",
        "outputId": "9125c166-bd08-4a05-f3b2-4854a5af426e"
      },
      "outputs": [
        {
          "output_type": "execute_result",
          "data": {
            "text/plain": [
              "encounter_id                     int64\n",
              "patient_id                       int64\n",
              "hospital_id                      int64\n",
              "hospital_death                   int64\n",
              "age                            float64\n",
              "                                ...   \n",
              "leukemia                       float64\n",
              "lymphoma                       float64\n",
              "solid_tumor_with_metastasis    float64\n",
              "apache_3j_bodysystem            object\n",
              "apache_2_bodysystem             object\n",
              "Length: 186, dtype: object"
            ]
          },
          "metadata": {},
          "execution_count": 5
        }
      ],
      "source": [
        "# Check types of variables\n",
        "data.dtypes"
      ]
    },
    {
      "cell_type": "code",
      "execution_count": null,
      "metadata": {
        "colab": {
          "base_uri": "https://localhost:8080/"
        },
        "id": "tZfdJlpb62v_",
        "outputId": "376e58e2-7ad6-4bb3-8818-bb6eb93683dc"
      },
      "outputs": [
        {
          "output_type": "execute_result",
          "data": {
            "text/plain": [
              "encounter_id                      0\n",
              "patient_id                        0\n",
              "hospital_id                       0\n",
              "hospital_death                    0\n",
              "age                            4228\n",
              "                               ... \n",
              "leukemia                        715\n",
              "lymphoma                        715\n",
              "solid_tumor_with_metastasis     715\n",
              "apache_3j_bodysystem           1662\n",
              "apache_2_bodysystem            1662\n",
              "Length: 186, dtype: int64"
            ]
          },
          "metadata": {},
          "execution_count": 6
        }
      ],
      "source": [
        "# Count the number of missing values (NaN or None) in each column of the 'data' DataFrame\n",
        "missing_value_counts = data.isnull().sum()\n",
        "missing_value_counts"
      ]
    },
    {
      "cell_type": "code",
      "execution_count": null,
      "metadata": {
        "id": "XSyWLb5L649i"
      },
      "outputs": [],
      "source": [
        "# delete columns with missing values >50%\n",
        "df = data.loc[:, data.isnull().mean() < .5]\n",
        "df.isnull().sum().to_csv(\"missing count cleaned.csv\")\n"
      ]
    },
    {
      "cell_type": "code",
      "execution_count": null,
      "metadata": {
        "colab": {
          "base_uri": "https://localhost:8080/"
        },
        "id": "eQhF9yHIchVz",
        "outputId": "e347b252-c44a-494d-8994-0b9415e4f20f"
      },
      "outputs": [
        {
          "output_type": "stream",
          "name": "stdout",
          "text": [
            "(91713, 92)\n"
          ]
        }
      ],
      "source": [
        "# select certain variable (not all)\n",
        "\n",
        "data_selected = df[['hospital_death',\n",
        "                # demographic\n",
        "                'age','bmi','elective_surgery','ethnicity', 'gender','hospital_admit_source','icu_admit_source',\n",
        "                'icu_stay_type','icu_type','pre_icu_los_days','readmission_status',\n",
        "                # apache\n",
        "                'apache_2_diagnosis','apache_3j_diagnosis','apache_post_operative','arf_apache','bun_apache',\n",
        "                'creatinine_apache','gcs_eyes_apache','gcs_motor_apache','gcs_unable_apache','gcs_verbal_apache',\n",
        "                'glucose_apache','heart_rate_apache','hematocrit_apache','intubated_apache','map_apache',\n",
        "                'resprate_apache','sodium_apache','temp_apache','ventilated_apache','wbc_apache',\n",
        "                # vitals\n",
        "                # drop 'd1_diasbp_noninvasive_max','d1_diasbp_noninvasive_min','d1_mbp_noninvasive_max','d1_mbp_noninvasive_min','h1_diasbp_noninvasive_max',\n",
        "                # 'h1_diasbp_noninvasive_min','h1_mbp_noninvasive_max','h1_mbp_noninvasive_min','h1_sysbp_noninvasive_max','h1_sysbp_noninvasive_min',\n",
        "                'd1_diasbp_max','d1_diasbp_min','d1_heartrate_max','d1_heartrate_min','d1_mbp_max','d1_mbp_min',\n",
        "                'd1_resprate_max','d1_resprate_min','d1_spo2_max','d1_spo2_min','d1_sysbp_max','d1_sysbp_min',\n",
        "                'd1_temp_max','d1_temp_min','h1_diasbp_max','h1_diasbp_min','h1_heartrate_max','h1_heartrate_min',\n",
        "                'h1_mbp_max','h1_mbp_min','h1_resprate_max','h1_resprate_min','h1_spo2_max','h1_spo2_min',\n",
        "                'h1_sysbp_max','h1_sysbp_min','h1_temp_max','h1_temp_min',\n",
        "                # labs\n",
        "                'd1_bun_max','d1_bun_min','d1_calcium_max','d1_calcium_min','d1_creatinine_max','d1_creatinine_min',\n",
        "                'd1_glucose_max','d1_glucose_min','d1_hco3_max','d1_hco3_min','d1_hemaglobin_max','d1_hemaglobin_min',\n",
        "                'd1_hematocrit_max','d1_hematocrit_min','d1_platelets_max','d1_platelets_min','d1_potassium_max','d1_potassium_min',\n",
        "                'd1_sodium_max','d1_sodium_min','d1_wbc_max','d1_wbc_min',\n",
        "                # drop 'apache_4a_hospital_death_prob','apache_4a_icu_death_prob'\n",
        "                # apache comorbidity\n",
        "                'aids','cirrhosis','diabetes_mellitus','hepatic_failure','immunosuppression','leukemia','lymphoma','solid_tumor_with_metastasis',\n",
        "                # apache grouping\n",
        "                'apache_3j_bodysystem','apache_2_bodysystem']]\n",
        "\n",
        "df = data_selected\n",
        "\n",
        "print(df.shape) # 92 features left"
      ]
    },
    {
      "cell_type": "code",
      "execution_count": null,
      "metadata": {
        "id": "3a1s6kgUdnfB"
      },
      "outputs": [],
      "source": [
        "# Define the column that will be used as the target for modeling or analysis\n",
        "target_column = 'hospital_death'\n",
        "\n",
        "# identify categorical variables\n",
        "categorical_columns = ['ethnicity','hospital_admit_source','icu_admit_source',\n",
        "                       'icu_stay_type','icu_type','apache_3j_bodysystem','apache_2_bodysystem']\n",
        "\n",
        "# numerical variables\n",
        "numerical_columns = [c for c in data_selected.columns if c not in categorical_columns and c != target_column]\n"
      ]
    },
    {
      "cell_type": "markdown",
      "metadata": {
        "id": "xbXZP1dhROoF"
      },
      "source": [
        "# Data Transformation"
      ]
    },
    {
      "cell_type": "code",
      "execution_count": null,
      "metadata": {
        "id": "BSEYpgM58nyq"
      },
      "outputs": [],
      "source": [
        "# Define a function to compute various scores for model evaluation\n",
        "def get_scores(Y_pred, Y):\n",
        "    # Calculate confusion matrix, classification report, ROC AUC, and accuracy\n",
        "    conf_matrix = confusion_matrix(Y_pred, Y)\n",
        "    class_report = classification_report(Y_pred, Y)\n",
        "    auc = roc_auc_score(Y_pred, Y)\n",
        "    acc = accuracy_score(Y_pred, Y)\n",
        "\n",
        "    # Return the computed scores\n",
        "    return conf_matrix, class_report, auc, acc\n",
        "\n",
        "# Define a function to print the computed scores\n",
        "def print_scores(conf_matrix, class_report, auc, acc):\n",
        "    print('AUC : ', auc)\n",
        "    print('Accuracy : ', acc)\n",
        "    print(\"Confusion Matrix:\")\n",
        "    print(conf_matrix)\n",
        "    print(\"\\nClassification Report:\")\n",
        "    print(class_report)\n"
      ]
    },
    {
      "cell_type": "code",
      "execution_count": null,
      "metadata": {
        "id": "5bEX9kBEmJOq",
        "colab": {
          "base_uri": "https://localhost:8080/"
        },
        "outputId": "2a30ed78-c67c-42df-dd55-3f1462333208"
      },
      "outputs": [
        {
          "output_type": "stream",
          "name": "stdout",
          "text": [
            "Requirement already satisfied: category_encoders in /usr/local/lib/python3.10/dist-packages (2.6.3)\n",
            "Requirement already satisfied: numpy>=1.14.0 in /usr/local/lib/python3.10/dist-packages (from category_encoders) (1.23.5)\n",
            "Requirement already satisfied: scikit-learn>=0.20.0 in /usr/local/lib/python3.10/dist-packages (from category_encoders) (1.2.2)\n",
            "Requirement already satisfied: scipy>=1.0.0 in /usr/local/lib/python3.10/dist-packages (from category_encoders) (1.11.3)\n",
            "Requirement already satisfied: statsmodels>=0.9.0 in /usr/local/lib/python3.10/dist-packages (from category_encoders) (0.14.0)\n",
            "Requirement already satisfied: pandas>=1.0.5 in /usr/local/lib/python3.10/dist-packages (from category_encoders) (1.5.3)\n",
            "Requirement already satisfied: patsy>=0.5.1 in /usr/local/lib/python3.10/dist-packages (from category_encoders) (0.5.3)\n",
            "Requirement already satisfied: python-dateutil>=2.8.1 in /usr/local/lib/python3.10/dist-packages (from pandas>=1.0.5->category_encoders) (2.8.2)\n",
            "Requirement already satisfied: pytz>=2020.1 in /usr/local/lib/python3.10/dist-packages (from pandas>=1.0.5->category_encoders) (2023.3.post1)\n",
            "Requirement already satisfied: six in /usr/local/lib/python3.10/dist-packages (from patsy>=0.5.1->category_encoders) (1.16.0)\n",
            "Requirement already satisfied: joblib>=1.1.1 in /usr/local/lib/python3.10/dist-packages (from scikit-learn>=0.20.0->category_encoders) (1.3.2)\n",
            "Requirement already satisfied: threadpoolctl>=2.0.0 in /usr/local/lib/python3.10/dist-packages (from scikit-learn>=0.20.0->category_encoders) (3.2.0)\n",
            "Requirement already satisfied: packaging>=21.3 in /usr/local/lib/python3.10/dist-packages (from statsmodels>=0.9.0->category_encoders) (23.2)\n"
          ]
        }
      ],
      "source": [
        "!pip install category_encoders"
      ]
    },
    {
      "cell_type": "code",
      "execution_count": null,
      "metadata": {
        "id": "1odkFdKHlRxP"
      },
      "outputs": [],
      "source": [
        "from sklearn.discriminant_analysis import StandardScaler\n",
        "import pandas as pd\n",
        "from sklearn.experimental import enable_iterative_imputer\n",
        "from sklearn.impute import IterativeImputer\n",
        "from sklearn.metrics import RocCurveDisplay, auc, roc_curve\n",
        "from category_encoders import OneHotEncoder, TargetEncoder\n",
        "warnings.filterwarnings('ignore')"
      ]
    },
    {
      "cell_type": "code",
      "source": [
        "# # visualize categories under each categorical variable\n",
        "# print(data['ethnicity'].unique())\n",
        "# print(data['icu_admit_source'].unique())\n",
        "# print(data['hospital_admit_source'].unique())\n",
        "# print(data['icu_stay_type'].unique())\n",
        "# print(data['apache_3j_bodysystem'].unique())\n",
        "# print(data['icu_type'].unique())\n",
        "# print(data['apache_2_bodysystem'].unique())\n"
      ],
      "metadata": {
        "id": "Hzy9onhm_AVq"
      },
      "execution_count": null,
      "outputs": []
    },
    {
      "cell_type": "markdown",
      "source": [
        "#data preparation + imputation"
      ],
      "metadata": {
        "id": "3HSNM_TEAu6n"
      }
    },
    {
      "cell_type": "code",
      "source": [
        "from sklearn.compose import ColumnTransformer\n",
        "from imblearn.pipeline import Pipeline\n",
        "from imblearn.under_sampling import TomekLinks, RandomUnderSampler\n",
        "from sklearn.impute import SimpleImputer\n",
        "from sklearn.model_selection import RandomizedSearchCV, StratifiedKFold\n",
        "from sklearn.ensemble import GradientBoostingClassifier\n",
        "from sklearn.model_selection import GridSearchCV\n",
        "import warnings\n",
        "\n",
        "warnings.filterwarnings('ignore')\n",
        "# Define the column that will be used as the target for modeling or analysis\n",
        "target_column = 'hospital_death'\n",
        "\n",
        "# identify categorical variables\n",
        "categorical_columns = ['ethnicity', 'gender','hospital_admit_source','icu_admit_source',\n",
        "                       'icu_stay_type','icu_type','apache_3j_bodysystem','apache_2_bodysystem']\n",
        "\n",
        "# numerical variables\n",
        "numerical_columns = [c for c in data_selected.columns if c not in categorical_columns and c != target_column]\n",
        "\n",
        "# Encoding 'gender' column\n",
        "from sklearn.preprocessing import StandardScaler, LabelEncoder\n",
        "le = LabelEncoder()\n",
        "df['gender'] = le.fit_transform(df['gender']) # Male: 1, Female: 0\n",
        "\n",
        "\n",
        "# Splitting the data into 70% training and 30% testing\n",
        "train = df.sample(frac=0.7, random_state=11)\n",
        "test = df.drop(train.index)\n",
        "\n",
        "# features\n",
        "X_train = train.drop('hospital_death', axis = 1)\n",
        "# outcome\n",
        "y_train = train['hospital_death']\n",
        "\n",
        "# features\n",
        "X_test = test.drop('hospital_death', axis = 1)\n",
        "# outcome\n",
        "y_test = test['hospital_death']\n",
        "\n",
        "y_train = y_train.to_numpy()\n",
        "y_test = y_test.to_numpy()\n",
        "\n",
        "# impute numerical columns with median\n",
        "num_transformer = SimpleImputer(strategy = 'median')\n",
        "\n",
        "# impute categorical columns with the most frequent value\n",
        "cat_transformer = Pipeline(steps=[\n",
        "    ('imputer', SimpleImputer(strategy = 'most_frequent')),\n",
        "    ('one_hot_encoder', OneHotEncoder())\n",
        "    ])\n",
        "\n",
        "# initialize a column transformer that handels imputation and encoding\n",
        "ct = ColumnTransformer(\n",
        "    transformers=[\n",
        "        ('num', num_transformer, numerical_columns),\n",
        "        ('cat', cat_transformer, categorical_columns)\n",
        "        ],\n",
        "    remainder='passthrough')\n",
        "\n",
        "\n",
        "# Fit the ColumnTransformer to the data\n",
        "ct.fit(X_train)\n",
        "ct.fit(X_test)\n",
        "\n",
        "X_1 = ct.fit(X_train)\n",
        "\n",
        "# Here you can transform the data and convert to DataFrame with the new column names\n",
        "X_resampled = pd.DataFrame(ct.transform(X_train), columns=ct.get_feature_names_out())\n",
        "X_test = pd.DataFrame(ct.transform(X_test), columns=ct.get_feature_names_out())\n",
        "\n",
        "X_resampled.dtypes.to_csv(\"variables after one-hot encoding\")\n",
        "\n",
        "\n",
        "# # undersample\n",
        "# undersample = RandomUnderSampler(random_state = 42)\n",
        "# X_resampled, y_res = undersample.fit_resample(X_resampled, y_train)\n",
        "\n",
        "# Normalizing data\n",
        "scaler = StandardScaler()\n",
        "X_resampled = scaler.fit_transform(X_resampled)\n",
        "X_test =  scaler.fit_transform(X_test)\n",
        "\n"
      ],
      "metadata": {
        "id": "EJCyJ3za8RaJ"
      },
      "execution_count": null,
      "outputs": []
    },
    {
      "cell_type": "code",
      "source": [
        "# print(X_resampled.shape)"
      ],
      "metadata": {
        "colab": {
          "base_uri": "https://localhost:8080/"
        },
        "id": "4rWiGo8bGEKh",
        "outputId": "8b2ea795-4e92-4796-8341-d8fa3b6a3306"
      },
      "execution_count": null,
      "outputs": [
        {
          "output_type": "stream",
          "name": "stdout",
          "text": [
            "(11124, 144)\n"
          ]
        }
      ]
    },
    {
      "cell_type": "code",
      "execution_count": null,
      "metadata": {
        "colab": {
          "base_uri": "https://localhost:8080/"
        },
        "id": "Qei4o7cg7WhP",
        "outputId": "c63c3beb-f28e-4dbe-934f-8d54b859d14e"
      },
      "outputs": [
        {
          "output_type": "stream",
          "name": "stdout",
          "text": [
            "Optimal number of features: 83\n"
          ]
        }
      ],
      "source": [
        "# Logistic regression feature selection\n",
        "\n",
        "# Initialize a Logistic Regression model\n",
        "model = LogisticRegression()\n",
        "\n",
        "# Define a StratifiedKFold cross-validation\n",
        "cv = StratifiedKFold(3)\n",
        "\n",
        "# Initialize Recursive Feature Elimination with Cross-Validation (RFECV)\n",
        "rfecv = RFECV(\n",
        "    estimator=model,\n",
        "    step=1,\n",
        "    cv=cv,\n",
        "    scoring='roc_auc',  # Specify the scoring metric (ROC AUC in this case)\n",
        "    min_features_to_select=1,\n",
        ")\n",
        "\n",
        "rfecv.fit(X_resampled, y_test)\n",
        "# Print the optimal number of selected features\n",
        "print(f\"Optimal number of features: {rfecv.n_features_}\")"
      ]
    },
    {
      "cell_type": "code",
      "execution_count": null,
      "metadata": {
        "id": "Oojo_YZS8ILZ",
        "colab": {
          "base_uri": "https://localhost:8080/"
        },
        "outputId": "f0f81b2c-5f13-4638-bfe2-44f69895e986"
      },
      "outputs": [
        {
          "output_type": "execute_result",
          "data": {
            "text/plain": [
              "array([ 1,  1,  1,  1, 62, 56,  1,  1,  1,  1,  1,  1,  1,  1,  1,  1, 55,\n",
              "        1,  1,  1,  1, 41,  1,  1, 58, 27, 19,  1, 16, 49,  1, 47,  1,  1,\n",
              "        1,  1,  1, 10,  1,  1, 40,  1, 31,  1,  1,  1,  1, 20,  1, 60, 42,\n",
              "        1,  2,  1,  1, 28, 29,  1, 18,  1,  1,  1,  1,  1,  1,  1,  1,  1,\n",
              "        1,  1, 14,  1,  1, 12,  1, 33, 11,  1,  1,  1, 30, 39,  1, 54, 43,\n",
              "        1, 44,  6, 21, 37, 17,  1,  1, 50,  1, 51,  7,  1, 24, 38,  5,  1,\n",
              "       52, 53, 48,  1, 61, 34, 26,  1,  1,  1, 36, 13, 59, 45, 22, 23,  1,\n",
              "        1,  1, 46, 57, 35,  3,  1,  1, 15,  1,  9,  8,  1,  1,  1, 25,  4,\n",
              "        1,  1,  1,  1, 32,  1,  1,  1])"
            ]
          },
          "metadata": {},
          "execution_count": 167
        }
      ],
      "source": [
        "# which columns used and which wasn't\n",
        "rfecv.support_\n",
        "# features ranking low is better\n",
        "rfecv.ranking_"
      ]
    },
    {
      "cell_type": "code",
      "source": [
        "from sklearn.feature_selection import RFE\n",
        "from sklearn.linear_model import LogisticRegression\n",
        "\n",
        "X_1 = pd.DataFrame(ct.transform(X_train), columns=ct.get_feature_names_out())\n",
        "print(X_1.columns[rfecv.support_])\n",
        "X_1.columns[rfecv.support_].shape\n"
      ],
      "metadata": {
        "id": "1-77cr7vEX5M"
      },
      "execution_count": null,
      "outputs": []
    },
    {
      "cell_type": "code",
      "execution_count": null,
      "metadata": {
        "id": "Y_gZfohL8S5p",
        "colab": {
          "base_uri": "https://localhost:8080/",
          "height": 472
        },
        "outputId": "97dadec4-e84e-48d9-c1a8-ca6c6b36048d"
      },
      "outputs": [
        {
          "output_type": "display_data",
          "data": {
            "text/plain": [
              "<Figure size 640x480 with 1 Axes>"
            ],
            "image/png": "[encoded data removed]"
          },
          "metadata": {}
        }
      ],
      "source": [
        "# Calculate the number of different feature selections tested\n",
        "n_scores = len(rfecv.cv_results_[\"mean_test_score\"])\n",
        "\n",
        "# Create a new figure for plotting\n",
        "plt.figure()\n",
        "\n",
        "# Set labels for the x and y axes\n",
        "plt.xlabel(\"Number of features selected\")\n",
        "plt.ylabel(\"Mean test score\")\n",
        "\n",
        "# Plot the mean test scores with error bars\n",
        "plt.errorbar(\n",
        "    range(1, n_scores + 1),\n",
        "    rfecv.cv_results_[\"mean_test_score\"],\n",
        "    yerr=rfecv.cv_results_[\"std_test_score\"],\n",
        "    color='#995687'  # Change the color to green\n",
        ")\n",
        "\n",
        "# Set the title for the plot\n",
        "plt.title(\"Recursive Feature Elimination\")\n",
        "\n",
        "# Show the plot\n",
        "plt.show()\n"
      ]
    },
    {
      "cell_type": "code",
      "source": [
        "# outcome\n",
        "y_test = test['hospital_death']\n",
        "\n",
        "# Select only the features that were chosen by RFECV\n",
        "X_train = X_resampled[:, rfecv.support_]\n",
        "\n",
        "# # Initialize and train a Logistic Regression model\n",
        "# model = LogisticRegression()\n",
        "# model.fit(X_resampled, y_test)\n",
        "\n",
        "# # Make predictions on the test and training sets\n",
        "# y_pred_test = model.predict(X_test)\n",
        "# y_pred_train = model.predict(X_resampled)\n",
        "\n",
        "# # Calculate evaluation metrics and scores for the test and training sets\n",
        "# conf_matrix_test, class_report_test, auc_test, acc_test = get_scores(y_pred_test, y_test)\n",
        "# conf_matrix_train, class_report_train, auc_train, acc_train = get_scores(y_pred_train, y_res)\n",
        "\n",
        "# # Print scores and evaluation metrics for the training set\n",
        "# print('======== Training Set ==========')\n",
        "# print_scores(conf_matrix_train, class_report_train, auc_train, acc_train)\n",
        "\n",
        "# # Print scores and evaluation metrics for the test set\n",
        "# print('======== Test Set ==========')\n",
        "# print_scores(conf_matrix_test, class_report_test, auc_test, acc_test)"
      ],
      "metadata": {
        "id": "SSNVqyp3pba1"
      },
      "execution_count": null,
      "outputs": []
    },
    {
      "cell_type": "markdown",
      "source": [
        "#Neural Networks"
      ],
      "metadata": {
        "id": "4p809qAGwHVn"
      }
    },
    {
      "cell_type": "code",
      "source": [
        "# importing PyTorch library as 't' for convenience\n",
        "import torch as t\n",
        "\n",
        "# importing other necessary libraries\n",
        "import numpy as np\n",
        "from torch.nn.functional import sigmoid, relu, tanh\n",
        "from torch.optim import Adam\n",
        "import matplotlib.pyplot as plt\n",
        "import pandas as pd\n",
        "from sklearn.preprocessing import StandardScaler\n",
        "from torch.utils.data import TensorDataset, DataLoader\n",
        "\n",
        "# importing PyTorch modules for building neural networks\n",
        "from torch.nn import Tanh, Linear, Sequential, Sigmoid, Dropout"
      ],
      "metadata": {
        "id": "RyNMTyrpwgot"
      },
      "execution_count": null,
      "outputs": []
    },
    {
      "cell_type": "code",
      "source": [
        "# Defining the input to the neuron - a single example with 3 features\n",
        "X = np.array([\n",
        "    [0, 1, 2]\n",
        "])\n",
        "\n",
        "# Defining the expected output for the given input\n",
        "Y = np.array([\n",
        "    [1]\n",
        "])"
      ],
      "metadata": {
        "id": "zZKJ4FbMwlHt"
      },
      "execution_count": null,
      "outputs": []
    },
    {
      "cell_type": "code",
      "source": [
        "# Initializing the weights randomly for 3 inputs and 1 output\n",
        "W = t.randn((3,1))\n",
        "print(W)\n",
        "print(W.dtype) # Checking the data type of the weights tensor\n",
        "print(W.shape) # Checking the shape of the weights tensor\n",
        "print('===========')\n",
        "\n",
        "# Initializing the bias as a tensor with a single zero element\n",
        "B = t.zeros((1,1))\n",
        "print(B)\n",
        "print(B.dtype) # Checking the data type of the bias tensor\n",
        "print(B.shape) # Checking the shape of the bias tensor"
      ],
      "metadata": {
        "colab": {
          "base_uri": "https://localhost:8080/"
        },
        "id": "hV7keTn8wlyq",
        "outputId": "01f6ba15-1e5f-4669-f246-72173fab6b13"
      },
      "execution_count": null,
      "outputs": [
        {
          "output_type": "stream",
          "name": "stdout",
          "text": [
            "tensor([[-0.3825],\n",
            "        [ 1.6135],\n",
            "        [ 0.3957]])\n",
            "torch.float32\n",
            "torch.Size([3, 1])\n",
            "===========\n",
            "tensor([[0.]])\n",
            "torch.float32\n",
            "torch.Size([1, 1])\n"
          ]
        }
      ]
    },
    {
      "cell_type": "code",
      "source": [
        "# Converting the input array to a PyTorch Tensor and performing matrix multiplication with the weights\n",
        "XW = t.Tensor(X) @ W\n",
        "print(XW)\n",
        "\n",
        "# Adding the bias to the result of the matrix multiplication\n",
        "XW_B = XW + B\n",
        "print(XW_B)"
      ],
      "metadata": {
        "colab": {
          "base_uri": "https://localhost:8080/"
        },
        "id": "Y6dIjinlwtOs",
        "outputId": "e43e1efa-be9e-4b18-89c5-8a02b755fe61"
      },
      "execution_count": null,
      "outputs": [
        {
          "output_type": "stream",
          "name": "stdout",
          "text": [
            "tensor([[2.4048]])\n",
            "tensor([[2.4048]])\n"
          ]
        }
      ]
    },
    {
      "cell_type": "code",
      "source": [
        "# Applying the hyperbolic tangent activation function element-wise to the result\n",
        "output = tanh(XW_B)\n",
        "print(output)"
      ],
      "metadata": {
        "colab": {
          "base_uri": "https://localhost:8080/"
        },
        "id": "YqI5DVwpwvvt",
        "outputId": "1731ddf7-0afb-4887-8ec7-851661dd6c63"
      },
      "execution_count": null,
      "outputs": [
        {
          "output_type": "stream",
          "name": "stdout",
          "text": [
            "tensor([[0.9838]])\n"
          ]
        }
      ]
    },
    {
      "cell_type": "code",
      "source": [
        "# Define the number of neurons in the first and second hidden layers\n",
        "hidden_units_layer_1 = 5\n",
        "hidden_units_layer_2 = 5\n",
        "\n",
        "# FIRST LAYER: Define weights and biases for the first layer\n",
        "W1 = t.randn((83, hidden_units_layer_1), requires_grad=True)\n",
        "B1 = t.zeros((1, hidden_units_layer_1), requires_grad=True)\n",
        "\n",
        "# SECOND LAYER: Define weights and biases for the second layer\n",
        "W2 = t.randn((hidden_units_layer_1, hidden_units_layer_2), requires_grad=True)\n",
        "B2 = t.zeros((1, hidden_units_layer_2), requires_grad=True)\n",
        "\n",
        "# THIRD LAYER: Define weights and biases for the output layer\n",
        "W3 = t.randn((hidden_units_layer_2, 1), requires_grad=True)\n",
        "B3 = t.zeros((1, 1), requires_grad=True)"
      ],
      "metadata": {
        "id": "XTLwZYozxGre"
      },
      "execution_count": null,
      "outputs": []
    },
    {
      "cell_type": "code",
      "source": [
        "# Define the forward pass of the neural network\n",
        "def forward(input):\n",
        "    # First hidden layer with tanh activation\n",
        "    out = tanh(input @ W1 + B1)\n",
        "\n",
        "    # Second hidden layer with tanh activation\n",
        "    out = tanh(out @ W2 + B2)\n",
        "\n",
        "    # Output layer with sigmoid activation (since it's a binary classification problem)\n",
        "    out = sigmoid(out @ W3 + B3)\n",
        "    return out"
      ],
      "metadata": {
        "id": "f7iaGbKZxbhQ"
      },
      "execution_count": null,
      "outputs": []
    },
    {
      "cell_type": "code",
      "source": [
        "# Convert the training data to PyTorch tensors\n",
        "X = t.Tensor(X_train).type(t.float32)\n",
        "Y = t.Tensor(y_test).type(t.float32)\n",
        "\n",
        "# Create a dataset from tensors to be used with DataLoader\n",
        "train_dataset = TensorDataset(X, Y)\n",
        "\n",
        "# Define training hyperparameters\n",
        "epochs = 2000\n",
        "learning_rate = 0.01\n",
        "batch_size = 32\n",
        "\n",
        "# DataLoader provides batches of data for training\n",
        "train_data_loader = DataLoader(train_dataset, batch_size=batch_size, shuffle=True)\n",
        "\n",
        "# Define the optimizer (Adam) and include all weights and biases\n",
        "optimizer = Adam([W1, B1, W2, B2, W3, B3], lr=learning_rate)\n",
        "\n",
        "# Define the loss function (Binary Cross-Entropy Loss)\n",
        "loss_fn = t.nn.BCELoss()"
      ],
      "metadata": {
        "id": "XZHM0dqcxheP"
      },
      "execution_count": null,
      "outputs": []
    },
    {
      "cell_type": "code",
      "source": [
        "train_loss_list = []\n",
        "\n",
        "# Train the model for a specified number of epochs\n",
        "for epoch in range(epochs):\n",
        "    # Reduce the learning rate every 500 epochs\n",
        "    if epoch % 500 == 0:\n",
        "        learning_rate *= .9\n",
        "\n",
        "    per_epoch_loss_list = []\n",
        "\n",
        "    # Iterate over all batches of data\n",
        "    for batch_idx, (X, Y) in enumerate(train_data_loader):\n",
        "        # Forward pass: Compute predictions\n",
        "        probs = forward(X)\n",
        "\n",
        "        # Compute the loss\n",
        "        loss = loss_fn(probs.view(-1), Y)\n",
        "\n",
        "        # Backward pass: Compute gradient and update weights\n",
        "        optimizer.zero_grad()\n",
        "        loss.backward()\n",
        "        optimizer.step()\n",
        "\n",
        "        # Record the loss for this batch\n",
        "        per_epoch_loss_list.append(loss.item())\n",
        "\n",
        "    # Record the average loss for this epoch\n",
        "    train_loss_list.append(sum(per_epoch_loss_list) / len(per_epoch_loss_list))"
      ],
      "metadata": {
        "id": "EeH7ws0zxq2Y"
      },
      "execution_count": null,
      "outputs": []
    },
    {
      "cell_type": "code",
      "source": [
        "# Plot the training loss over epochs\n",
        "plt.plot([i for i in range(len(train_loss_list))], train_loss_list)\n",
        "plt.xlabel('epochs')\n",
        "plt.ylabel('loss')"
      ],
      "metadata": {
        "id": "qVTsQvZjxuB7",
        "colab": {
          "base_uri": "https://localhost:8080/",
          "height": 472
        },
        "outputId": "9e356756-f80f-4537-f91d-4ccb971001ca"
      },
      "execution_count": null,
      "outputs": [
        {
          "output_type": "execute_result",
          "data": {
            "text/plain": [
              "Text(0, 0.5, 'loss')"
            ]
          },
          "metadata": {},
          "execution_count": 82
        },
        {
          "output_type": "display_data",
          "data": {
            "text/plain": [
              "<Figure size 640x480 with 1 Axes>"
            ],
            "image/png": "[encoded data removed]"
          },
          "metadata": {}
        }
      ]
    },
    {
      "cell_type": "markdown",
      "source": [
        "# Evaluating Model Performance on Validation Data"
      ],
      "metadata": {
        "id": "qmqj83mfSrWO"
      }
    },
    {
      "cell_type": "code",
      "source": [
        "\n",
        "X_test = X_test[:, rfecv.support_]"
      ],
      "metadata": {
        "id": "8pohlp70ULpr"
      },
      "execution_count": null,
      "outputs": []
    },
    {
      "cell_type": "code",
      "source": [
        "X_train.shape\n",
        "X_test.shape"
      ],
      "metadata": {
        "colab": {
          "base_uri": "https://localhost:8080/"
        },
        "id": "Ti9CWCuZlN9M",
        "outputId": "f9a80c37-962a-4d40-fd80-5d416ad92476"
      },
      "execution_count": null,
      "outputs": [
        {
          "output_type": "execute_result",
          "data": {
            "text/plain": [
              "(27514, 83)"
            ]
          },
          "metadata": {},
          "execution_count": 152
        }
      ]
    },
    {
      "cell_type": "code",
      "source": [
        "number_of_input_features = 83  # Number of input features in the dataset\n",
        "\n",
        "# Reduced number of hidden units to 5 and just using 1 hidden layer\n",
        "number_of_hidden_units = 5  # Number of hidden units in the neural network\n",
        "epochs = 1000  # Number of training epochs\n",
        "learning_rate = 0.01  # Learning rate for the optimizer\n",
        "batch_size = 32  # Number of samples in each training batch\n",
        "dropout_probablity = 0.6  # Probability of dropping out a neuron in dropout layer\n",
        "\n",
        "# Convert training and testing data to PyTorch tensors\n",
        "X_train_tensor = t.Tensor(X_train).type(t.float32)\n",
        "Y_train_tensor = t.Tensor(y_train).type(t.float32)\n",
        "X_test_tensor = t.Tensor(X_test).type(t.float32)\n",
        "Y_test_tensor = t.Tensor(y_test).type(t.float32)\n",
        "\n",
        "# Create a training dataset and data loader\n",
        "train_dataset = TensorDataset(X_train_tensor, Y_train_tensor)\n",
        "train_data_loader = DataLoader(train_dataset, batch_size=batch_size, shuffle=True)\n",
        "\n",
        "# Define the neural network model\n",
        "model = Sequential(\n",
        "    Linear(number_of_input_features, number_of_hidden_units),  # Linear layer for matrix multiplication and bias addition\n",
        "    Tanh(),  # Add Tanh activation function\n",
        "    Dropout(dropout_probablity),  # Dropout layer to prevent overfitting\n",
        "    Linear(number_of_hidden_units, 1),  # Another linear layer\n",
        "    Sigmoid()  # Sigmoid activation for probability output\n",
        ")\n",
        "\n",
        "# Define the optimizer\n",
        "optimizer = Adam(model.parameters(), lr=learning_rate)\n",
        "\n",
        "# Define the loss function as Binary Cross-Entropy Loss\n",
        "loss_fn = t.nn.BCELoss()\n",
        "\n",
        "train_accuracy_list = []  # List to store training accuracy\n",
        "validation_accuracy_list = []  # List to store validation accuracy\n",
        "\n",
        "# Training loop\n",
        "for epoch in range(epochs):\n",
        "    if epoch % 500 == 0:\n",
        "        learning_rate *= 0.9  # Learning rate scheduling\n",
        "\n",
        "    per_epoch_loss_list = []  # List to store losses for each epoch\n",
        "\n",
        "    for batch_idx, (X, Y) in enumerate(train_data_loader):\n",
        "        # Forward pass: Compute predictions\n",
        "        probs = model(X)\n",
        "\n",
        "        # Calculate the loss\n",
        "        loss = loss_fn(probs.view(-1), Y)\n",
        "        per_epoch_loss_list.append(loss.item())\n",
        "\n",
        "        # Backward pass: Compute gradients and update weights\n",
        "        optimizer.zero_grad()\n",
        "        loss.backward()\n",
        "        optimizer.step()\n",
        "\n",
        "    # Evaluate the model on training and validation data\n",
        "    with t.no_grad():\n",
        "        # Set the model in eval mode; some layers use this for certain calculations during training\n",
        "        model.eval()\n",
        "\n",
        "        # Calculate accuracy on train data\n",
        "        probs = model(X_train_tensor)\n",
        "        prediction = (probs >= 0.5).type(t.LongTensor).view(-1)\n",
        "        train_accuracy = (prediction == Y_train_tensor).type(t.float32).mean().item()\n",
        "\n",
        "        # Calculate accuracy on validation data\n",
        "        probs = model(X_test_tensor)\n",
        "        prediction = (probs >= 0.5).type(t.LongTensor).view(-1)\n",
        "        validation_accuracy = (prediction == Y_test_tensor).type(t.float32).mean().item()\n",
        "\n",
        "        print(f'epoch {epoch}/{epochs} ---> train_accuracy: {train_accuracy}, validation_accuracy: {validation_accuracy}')\n",
        "\n",
        "        # Set the model back to train mode\n",
        "        model.train()\n",
        "\n",
        "        # Append accuracy values to lists\n",
        "        train_accuracy_list.append(train_accuracy)\n",
        "        validation_accuracy_list.append(validation_accuracy)"
      ],
      "metadata": {
        "id": "PyOAY0UhaLm9"
      },
      "execution_count": null,
      "outputs": []
    },
    {
      "cell_type": "code",
      "source": [
        "# Plot training and validation accuracy over epochs\n",
        "plt.plot([i for i in range(len(train_accuracy_list))], train_accuracy_list, label=\"train\")\n",
        "plt.plot([i for i in range(len(validation_accuracy_list))], validation_accuracy_list, label=\"validation\")\n",
        "plt.legend(loc=\"upper left\")\n",
        "plt.xlabel('Epochs')\n",
        "plt.ylabel('accuracy')\n"
      ],
      "metadata": {
        "colab": {
          "base_uri": "https://localhost:8080/",
          "height": 467
        },
        "id": "WHulIEtmcpsS",
        "outputId": "9905503e-528f-41fb-a5fc-4bc47a2fedec"
      },
      "execution_count": null,
      "outputs": [
        {
          "output_type": "execute_result",
          "data": {
            "text/plain": [
              "Text(0, 0.5, 'accuracy')"
            ]
          },
          "metadata": {},
          "execution_count": 154
        },
        {
          "output_type": "display_data",
          "data": {
            "text/plain": [
              "<Figure size 640x480 with 1 Axes>"
            ],
            "image/png": "[encoded data removed]"
          },
          "metadata": {}
        }
      ]
    },
    {
      "cell_type": "code",
      "source": [
        "import torch as t\n",
        "import torch.nn as nn\n",
        "from torch.optim import Adam\n",
        "from torch.utils.data import TensorDataset, DataLoader\n",
        "import matplotlib.pyplot as plt\n",
        "\n",
        "# Regularization\n",
        "# Deep neural networks are prone to overfitting if there is not much data available during training.\n",
        "\n",
        "# Define hyperparameters\n",
        "number_of_input_features = 83\n",
        "number_of_hidden_units = 5\n",
        "epochs = 100\n",
        "learning_rate = 0.01\n",
        "batch_size = 32\n",
        "landa = 0.01  # Regularization term (lambda)\n",
        "\n",
        "# Prepare the data\n",
        "X_train_tensor = t.Tensor(X_train).type(t.float32)\n",
        "Y_train_tensor = t.Tensor(y_test).type(t.float32)\n",
        "\n",
        "X_test_tensor = t.Tensor(X_test).type(t.float32)\n",
        "Y_test_tensor = t.Tensor(y_test).type(t.float32)\n",
        "\n",
        "train_dataset = TensorDataset(X_train_tensor, Y_train_tensor)\n",
        "train_data_loader = DataLoader(train_dataset, batch_size=batch_size, shuffle=True)\n",
        "\n",
        "# Define the neural network model with regularization\n",
        "model = nn.Sequential(\n",
        "    nn.Linear(number_of_input_features, number_of_hidden_units),  # Linear layer for matrix multiplication and bias addition\n",
        "    nn.Tanh(),  # Tanh activation function\n",
        "    nn.Linear(number_of_hidden_units, 1),  # Another linear layer\n",
        "    nn.Sigmoid()  # Sigmoid activation for probability output\n",
        ")\n",
        "\n",
        "# Define the optimizer\n",
        "optimizer = Adam(model.parameters(), lr=learning_rate)\n",
        "\n",
        "# Define the loss function with Binary Cross-Entropy Loss\n",
        "loss_fn = nn.BCELoss()\n",
        "\n",
        "# Lists to store training accuracy, validation accuracy, and training loss over epochs\n",
        "train_accuracy_list = []\n",
        "validation_accuracy_list = []\n",
        "train_loss_list = []\n",
        "\n",
        "for epoch in range(epochs):\n",
        "    if epoch % 500 == 0:\n",
        "        learning_rate *= 0.9  # Learning rate scheduling\n",
        "\n",
        "    per_epoch_loss_list = []\n",
        "\n",
        "    for batch_idx, (X, Y) in enumerate(train_data_loader):\n",
        "        # Forward pass: Compute predictions\n",
        "        probs = model(X)\n",
        "\n",
        "        # Adding regularization term for all parameters in the model\n",
        "        l2_term = sum([(w ** 2).sum() for w in model.parameters()])\n",
        "\n",
        "        # New loss is the old loss + regularization term\n",
        "        loss = loss_fn(probs.view(-1), Y) + landa * l2_term\n",
        "\n",
        "        per_epoch_loss_list.append(loss.item())\n",
        "\n",
        "        # Backward pass: Compute gradient and update weights\n",
        "        optimizer.zero_grad()\n",
        "        loss.backward()\n",
        "        optimizer.step()\n",
        "\n",
        "    # Evaluate the model on training and validation data\n",
        "    with t.no_grad():\n",
        "        # Set the model in eval mode; some layers use this for certain calculations during training\n",
        "        model.eval()\n",
        "\n",
        "        # Calculate accuracy on train data\n",
        "        probs = model(X_train_tensor)\n",
        "        prediction = (probs >= 0.5).type(t.LongTensor).view(-1)\n",
        "        train_accuracy = (prediction == Y_train_tensor).type(t.float32).mean().item()\n",
        "\n",
        "        # Calculate accuracy on validation data\n",
        "        probs = model(X_test_tensor)\n",
        "        prediction = (probs >= 0.5).type(t.LongTensor).view(-1)\n",
        "        validation_accuracy = (prediction == Y_test_tensor).type(t.float32).mean().item()\n",
        "\n",
        "        # Print accuracy for the current epoch\n",
        "        print(f'Epoch {epoch}/{epochs} ---> Train Accuracy: {train_accuracy}, Validation Accuracy: {validation_accuracy}')\n",
        "\n",
        "        # Set the model back to train mode\n",
        "        model.train()\n",
        "\n",
        "        # Append accuracy values to lists\n",
        "        train_accuracy_list.append(train_accuracy)\n",
        "        validation_accuracy_list.append(validation_accuracy)\n",
        "\n",
        "    # Calculate and append the average loss for the epoch\n",
        "    train_loss_list.append(sum(per_epoch_loss_list) / len(per_epoch_loss_list))"
      ],
      "metadata": {
        "colab": {
          "base_uri": "https://localhost:8080/"
        },
        "id": "rsfgObJLc6bt",
        "outputId": "27b08872-22ba-48fc-8fc6-98f225b71a32"
      },
      "execution_count": null,
      "outputs": [
        {
          "output_type": "stream",
          "name": "stdout",
          "text": [
            "Epoch 0/100 ---> Train Accuracy: 0.7906328439712524, Validation Accuracy: 0.5974413156509399\n",
            "Epoch 1/100 ---> Train Accuracy: 0.7880259156227112, Validation Accuracy: 0.5974776744842529\n",
            "Epoch 2/100 ---> Train Accuracy: 0.7891945242881775, Validation Accuracy: 0.6058006882667542\n",
            "Epoch 3/100 ---> Train Accuracy: 0.7839806079864502, Validation Accuracy: 0.6133604645729065\n",
            "Epoch 4/100 ---> Train Accuracy: 0.7901833653450012, Validation Accuracy: 0.6000944972038269\n",
            "Epoch 5/100 ---> Train Accuracy: 0.7879359722137451, Validation Accuracy: 0.6077269911766052\n",
            "Epoch 6/100 ---> Train Accuracy: 0.7877562046051025, Validation Accuracy: 0.6051101088523865\n",
            "Epoch 7/100 ---> Train Accuracy: 0.7906328439712524, Validation Accuracy: 0.5723268389701843\n",
            "Epoch 8/100 ---> Train Accuracy: 0.7928802371025085, Validation Accuracy: 0.6075088977813721\n",
            "Epoch 9/100 ---> Train Accuracy: 0.788655161857605, Validation Accuracy: 0.5887548327445984\n",
            "Epoch 10/100 ---> Train Accuracy: 0.7873067259788513, Validation Accuracy: 0.5999127626419067\n",
            "Epoch 11/100 ---> Train Accuracy: 0.7909924387931824, Validation Accuracy: 0.5853020548820496\n",
            "Epoch 12/100 ---> Train Accuracy: 0.7880259156227112, Validation Accuracy: 0.623791515827179\n",
            "Epoch 13/100 ---> Train Accuracy: 0.7900035977363586, Validation Accuracy: 0.6018754243850708\n",
            "Epoch 14/100 ---> Train Accuracy: 0.7890147566795349, Validation Accuracy: 0.6020934581756592\n",
            "Epoch 15/100 ---> Train Accuracy: 0.7883854508399963, Validation Accuracy: 0.6162317395210266\n",
            "Epoch 16/100 ---> Train Accuracy: 0.7822725772857666, Validation Accuracy: 0.6214654445648193\n",
            "Epoch 17/100 ---> Train Accuracy: 0.7855986952781677, Validation Accuracy: 0.5936614274978638\n",
            "Epoch 18/100 ---> Train Accuracy: 0.7787666320800781, Validation Accuracy: 0.6334593296051025\n",
            "Epoch 19/100 ---> Train Accuracy: 0.7881157994270325, Validation Accuracy: 0.6246638298034668\n",
            "Epoch 20/100 ---> Train Accuracy: 0.7866774797439575, Validation Accuracy: 0.6341862082481384\n",
            "Epoch 21/100 ---> Train Accuracy: 0.7896440029144287, Validation Accuracy: 0.5995492935180664\n",
            "Epoch 22/100 ---> Train Accuracy: 0.7891945242881775, Validation Accuracy: 0.5953696370124817\n",
            "Epoch 23/100 ---> Train Accuracy: 0.7854189276695251, Validation Accuracy: 0.5810859799385071\n",
            "Epoch 24/100 ---> Train Accuracy: 0.7857785224914551, Validation Accuracy: 0.6039834022521973\n",
            "Epoch 25/100 ---> Train Accuracy: 0.7879359722137451, Validation Accuracy: 0.6026750206947327\n",
            "Epoch 26/100 ---> Train Accuracy: 0.7920712232589722, Validation Accuracy: 0.6238642334938049\n",
            "Epoch 27/100 ---> Train Accuracy: 0.7908126711845398, Validation Accuracy: 0.6317511200904846\n",
            "Epoch 28/100 ---> Train Accuracy: 0.7909924387931824, Validation Accuracy: 0.5994402766227722\n",
            "Epoch 29/100 ---> Train Accuracy: 0.7905429601669312, Validation Accuracy: 0.5903540253639221\n",
            "Epoch 30/100 ---> Train Accuracy: 0.7873966097831726, Validation Accuracy: 0.6098349690437317\n",
            "Epoch 31/100 ---> Train Accuracy: 0.7851492166519165, Validation Accuracy: 0.6077269911766052\n",
            "Epoch 32/100 ---> Train Accuracy: 0.78973388671875, Validation Accuracy: 0.6003852486610413\n",
            "Epoch 33/100 ---> Train Accuracy: 0.7887450456619263, Validation Accuracy: 0.6182670593261719\n",
            "Epoch 34/100 ---> Train Accuracy: 0.7898238301277161, Validation Accuracy: 0.6130333542823792\n",
            "Epoch 35/100 ---> Train Accuracy: 0.7800251841545105, Validation Accuracy: 0.6327324509620667\n",
            "Epoch 36/100 ---> Train Accuracy: 0.78973388671875, Validation Accuracy: 0.6277167797088623\n",
            "Epoch 37/100 ---> Train Accuracy: 0.7900035977363586, Validation Accuracy: 0.6228829026222229\n",
            "Epoch 38/100 ---> Train Accuracy: 0.7864976525306702, Validation Accuracy: 0.628371000289917\n",
            "Epoch 39/100 ---> Train Accuracy: 0.7862280011177063, Validation Accuracy: 0.5870102643966675\n",
            "Epoch 40/100 ---> Train Accuracy: 0.788295567035675, Validation Accuracy: 0.6088536977767944\n",
            "Epoch 41/100 ---> Train Accuracy: 0.7865875363349915, Validation Accuracy: 0.5958784818649292\n",
            "Epoch 42/100 ---> Train Accuracy: 0.7876663208007812, Validation Accuracy: 0.6078723669052124\n",
            "Epoch 43/100 ---> Train Accuracy: 0.7790363430976868, Validation Accuracy: 0.601948082447052\n",
            "Epoch 44/100 ---> Train Accuracy: 0.7877562046051025, Validation Accuracy: 0.6063095331192017\n",
            "Epoch 45/100 ---> Train Accuracy: 0.7895541191101074, Validation Accuracy: 0.5855564475059509\n",
            "Epoch 46/100 ---> Train Accuracy: 0.7922509908676147, Validation Accuracy: 0.6171403527259827\n",
            "Epoch 47/100 ---> Train Accuracy: 0.7896440029144287, Validation Accuracy: 0.6077269911766052\n",
            "Epoch 48/100 ---> Train Accuracy: 0.7811937928199768, Validation Accuracy: 0.6151050329208374\n",
            "Epoch 49/100 ---> Train Accuracy: 0.7855088114738464, Validation Accuracy: 0.625681459903717\n",
            "Epoch 50/100 ---> Train Accuracy: 0.7900934815406799, Validation Accuracy: 0.631024181842804\n",
            "Epoch 51/100 ---> Train Accuracy: 0.7903631925582886, Validation Accuracy: 0.610162079334259\n",
            "Epoch 52/100 ---> Train Accuracy: 0.7917116284370422, Validation Accuracy: 0.614814281463623\n",
            "Epoch 53/100 ---> Train Accuracy: 0.7850593328475952, Validation Accuracy: 0.614814281463623\n",
            "Epoch 54/100 ---> Train Accuracy: 0.7863178849220276, Validation Accuracy: 0.6084538698196411\n",
            "Epoch 55/100 ---> Train Accuracy: 0.7881157994270325, Validation Accuracy: 0.6091808080673218\n",
            "Epoch 56/100 ---> Train Accuracy: 0.7853290438652039, Validation Accuracy: 0.6197572350502014\n",
            "Epoch 57/100 ---> Train Accuracy: 0.7854189276695251, Validation Accuracy: 0.6416006684303284\n",
            "Epoch 58/100 ---> Train Accuracy: 0.7929701805114746, Validation Accuracy: 0.597404956817627\n",
            "Epoch 59/100 ---> Train Accuracy: 0.7887450456619263, Validation Accuracy: 0.591117262840271\n",
            "Epoch 60/100 ---> Train Accuracy: 0.7879359722137451, Validation Accuracy: 0.6078723669052124\n",
            "Epoch 61/100 ---> Train Accuracy: 0.7874864935874939, Validation Accuracy: 0.5974413156509399\n",
            "Epoch 62/100 ---> Train Accuracy: 0.788295567035675, Validation Accuracy: 0.5846478343009949\n",
            "Epoch 63/100 ---> Train Accuracy: 0.7847896218299866, Validation Accuracy: 0.6272079944610596\n",
            "Epoch 64/100 ---> Train Accuracy: 0.7911722660064697, Validation Accuracy: 0.6020934581756592\n",
            "Epoch 65/100 ---> Train Accuracy: 0.7898238301277161, Validation Accuracy: 0.6103074550628662\n",
            "Epoch 66/100 ---> Train Accuracy: 0.7900035977363586, Validation Accuracy: 0.6005306243896484\n",
            "Epoch 67/100 ---> Train Accuracy: 0.7913520336151123, Validation Accuracy: 0.5763974785804749\n",
            "Epoch 68/100 ---> Train Accuracy: 0.7918913960456848, Validation Accuracy: 0.6071091294288635\n",
            "Epoch 69/100 ---> Train Accuracy: 0.7941387891769409, Validation Accuracy: 0.6082358360290527\n",
            "Epoch 70/100 ---> Train Accuracy: 0.7891046404838562, Validation Accuracy: 0.6223740577697754\n",
            "Epoch 71/100 ---> Train Accuracy: 0.7858684062957764, Validation Accuracy: 0.6260085701942444\n",
            "Epoch 72/100 ---> Train Accuracy: 0.7928802371025085, Validation Accuracy: 0.5982045531272888\n",
            "Epoch 73/100 ---> Train Accuracy: 0.7851492166519165, Validation Accuracy: 0.6049283742904663\n",
            "Epoch 74/100 ---> Train Accuracy: 0.785688579082489, Validation Accuracy: 0.6136875748634338\n",
            "Epoch 75/100 ---> Train Accuracy: 0.7876663208007812, Validation Accuracy: 0.6189939379692078\n",
            "Epoch 76/100 ---> Train Accuracy: 0.7866774797439575, Validation Accuracy: 0.6155048608779907\n",
            "Epoch 77/100 ---> Train Accuracy: 0.7954872250556946, Validation Accuracy: 0.5969324707984924\n",
            "Epoch 78/100 ---> Train Accuracy: 0.7892844080924988, Validation Accuracy: 0.6011848449707031\n",
            "Epoch 79/100 ---> Train Accuracy: 0.7858684062957764, Validation Accuracy: 0.6181216835975647\n",
            "Epoch 80/100 ---> Train Accuracy: 0.7887450456619263, Validation Accuracy: 0.5967870950698853\n",
            "Epoch 81/100 ---> Train Accuracy: 0.7881157994270325, Validation Accuracy: 0.6055099368095398\n",
            "Epoch 82/100 ---> Train Accuracy: 0.7900035977363586, Validation Accuracy: 0.6061641573905945\n",
            "Epoch 83/100 ---> Train Accuracy: 0.78757643699646, Validation Accuracy: 0.6045649647712708\n",
            "Epoch 84/100 ---> Train Accuracy: 0.7878460884094238, Validation Accuracy: 0.6015119552612305\n",
            "Epoch 85/100 ---> Train Accuracy: 0.7882056832313538, Validation Accuracy: 0.612851619720459\n",
            "Epoch 86/100 ---> Train Accuracy: 0.791621744632721, Validation Accuracy: 0.5977320671081543\n",
            "Epoch 87/100 ---> Train Accuracy: 0.7880259156227112, Validation Accuracy: 0.6233917474746704\n",
            "Epoch 88/100 ---> Train Accuracy: 0.7837108969688416, Validation Accuracy: 0.6127062439918518\n",
            "Epoch 89/100 ---> Train Accuracy: 0.7743617296218872, Validation Accuracy: 0.6167405843734741\n",
            "Epoch 90/100 ---> Train Accuracy: 0.7899137139320374, Validation Accuracy: 0.599294900894165\n",
            "Epoch 91/100 ---> Train Accuracy: 0.7919812798500061, Validation Accuracy: 0.602020800113678\n",
            "Epoch 92/100 ---> Train Accuracy: 0.7904530763626099, Validation Accuracy: 0.5976593494415283\n",
            "Epoch 93/100 ---> Train Accuracy: 0.788295567035675, Validation Accuracy: 0.6157228946685791\n",
            "Epoch 94/100 ---> Train Accuracy: 0.7868572473526001, Validation Accuracy: 0.6096532940864563\n",
            "Epoch 95/100 ---> Train Accuracy: 0.7857785224914551, Validation Accuracy: 0.6340408325195312\n",
            "Epoch 96/100 ---> Train Accuracy: 0.7911722660064697, Validation Accuracy: 0.6168132424354553\n",
            "Epoch 97/100 ---> Train Accuracy: 0.7854189276695251, Validation Accuracy: 0.5929344892501831\n",
            "Epoch 98/100 ---> Train Accuracy: 0.7871269583702087, Validation Accuracy: 0.6031475067138672\n",
            "Epoch 99/100 ---> Train Accuracy: 0.7814635038375854, Validation Accuracy: 0.5900269150733948\n"
          ]
        }
      ]
    },
    {
      "cell_type": "code",
      "source": [
        "# Plot training and validation accuracy over epochs\n",
        "plt.plot([i for i in range(len(train_accuracy_list))], train_accuracy_list, label=\"Train\")\n",
        "plt.plot([i for i in range(len(validation_accuracy_list))], validation_accuracy_list, label=\"Validation\")\n",
        "plt.legend(loc=\"upper left\")\n",
        "plt.xlabel('Epochs')\n",
        "plt.ylabel('Accuracy')\n",
        "plt.ylim(0, 1)\n",
        "plt.show()"
      ],
      "metadata": {
        "colab": {
          "base_uri": "https://localhost:8080/",
          "height": 455
        },
        "id": "cJRtCC-Jdm23",
        "outputId": "884cb3fb-bd55-4a58-aef2-6960ce042153"
      },
      "execution_count": null,
      "outputs": [
        {
          "output_type": "display_data",
          "data": {
            "text/plain": [
              "<Figure size 640x480 with 1 Axes>"
            ],
            "image/png": "[encoded data removed]"
          },
          "metadata": {}
        }
      ]
    },
    {
      "cell_type": "code",
      "source": [
        "# Plot the training loss over epochs\n",
        "plt.plot([i for i in range(len(train_loss_list))], train_loss_list)\n",
        "plt.xlabel('epochs')\n",
        "plt.ylabel('loss')"
      ],
      "metadata": {
        "colab": {
          "base_uri": "https://localhost:8080/",
          "height": 467
        },
        "id": "UHRosAJx2Jzh",
        "outputId": "5931d293-591b-4a52-9ac4-2315d58629cc"
      },
      "execution_count": null,
      "outputs": [
        {
          "output_type": "execute_result",
          "data": {
            "text/plain": [
              "Text(0, 0.5, 'loss')"
            ]
          },
          "metadata": {},
          "execution_count": 160
        },
        {
          "output_type": "display_data",
          "data": {
            "text/plain": [
              "<Figure size 640x480 with 1 Axes>"
            ],
            "image/png": "[encoded data removed]"
          },
          "metadata": {}
        }
      ]
    },
    {
      "cell_type": "code",
      "source": [
        "# Evaluate Model Performance on Validation Data\n",
        "\n",
        "# Disable gradient calculations for evaluation using t.no_grad()\n",
        "with t.no_grad():\n",
        "    # Prepare the validation data\n",
        "    X = t.Tensor(X_test).type(t.float32)  # Convert validation features to a PyTorch tensor\n",
        "    Y = t.Tensor(y_test).type(t.float32)  # Convert validation labels to a PyTorch tensor\n",
        "\n",
        "    # Calculate predictions on the validation data\n",
        "    probs = forward(X)  # Pass validation data through the trained model\n",
        "    loss = loss_fn(probs.view(-1), Y)  # Compute the loss between predictions and actual labels\n",
        "\n",
        "    # Print the validation loss\n",
        "    print(loss.item())\n",
        "\n",
        "    # Now, evaluate the model on the training data\n",
        "    X = t.Tensor(X_train).type(t.float32)  # Convert training features to a PyTorch tensor\n",
        "    Y = t.Tensor(y_train).type(t.float32)  # Convert training labels to a PyTorch tensor\n",
        "\n",
        "    # Calculate predictions on the training data\n",
        "    probs = forward(X)  # Pass training data through the trained model\n",
        "    loss = loss_fn(probs.view(-1), Y)  # Compute the loss between predictions and actual labels\n",
        "\n",
        "    # Print the training loss\n",
        "    print(loss.item())"
      ],
      "metadata": {
        "colab": {
          "base_uri": "https://localhost:8080/"
        },
        "id": "s1MtCHhY2U89",
        "outputId": "51a8a384-05dc-48c4-9b4b-cd449a12e033"
      },
      "execution_count": null,
      "outputs": [
        {
          "output_type": "stream",
          "name": "stdout",
          "text": [
            "0.8336139917373657\n",
            "0.8335211873054504\n"
          ]
        }
      ]
    }
  ],
  "metadata": {
    "colab": {
      "provenance": [],
      "authorship_tag": "ABX9TyOv7w0h8Fe1tFbvfajHwa8Q",
      "include_colab_link": true
    },
    "kernelspec": {
      "display_name": "Python 3",
      "name": "python3"
    },
    "language_info": {
      "name": "python"
    }
  },
  "nbformat": 4,
  "nbformat_minor": 0
}