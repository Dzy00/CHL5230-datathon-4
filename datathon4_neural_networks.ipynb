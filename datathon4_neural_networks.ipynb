{
  "cells": [
    {
      "cell_type": "markdown",
      "metadata": {
        "id": "view-in-github",
        "colab_type": "text"
      },
      "source": [
        "<a href=\"https://colab.research.google.com/github/Dzy00/CHL5230-datathon4/blob/main/datathon4_neural_networks.ipynb\" target=\"_parent\"><img src=\"https://colab.research.google.com/assets/colab-badge.svg\" alt=\"Open In Colab\"/></a>"
      ]
    },
    {
      "cell_type": "code",
      "execution_count": null,
      "metadata": {
        "id": "Ccwe6Bm33hhJ"
      },
      "outputs": [],
      "source": [
        "import pandas as pd\n",
        "import numpy as np\n",
        "import matplotlib.pyplot as plt\n",
        "import seaborn as  sns\n",
        "import plotly.express as px\n",
        "import numpy as np\n",
        "import warnings\n",
        "import matplotlib.pyplot as plt\n",
        "from sklearn.naive_bayes import CategoricalNB, GaussianNB, MultinomialNB\n",
        "from statsmodels.stats.outliers_influence import variance_inflation_factor\n",
        "from sklearn.discriminant_analysis import LinearDiscriminantAnalysis, QuadraticDiscriminantAnalysis\n",
        "from sklearn.metrics import RocCurveDisplay, roc_curve, accuracy_score, confusion_matrix, roc_auc_score, classification_report\n",
        "from sklearn.model_selection import GridSearchCV\n",
        "from sklearn.model_selection import train_test_split\n",
        "from sklearn.preprocessing import StandardScaler, LabelEncoder\n",
        "from sklearn.linear_model import LinearRegression, LogisticRegression\n",
        "from sklearn.model_selection import KFold\n",
        "from sklearn.metrics import mean_squared_error\n",
        "from sklearn.experimental import enable_iterative_imputer\n",
        "from sklearn.impute import IterativeImputer\n",
        "from sklearn.feature_selection import RFECV\n",
        "from sklearn.model_selection import StratifiedKFold, GridSearchCV\n",
        "from imblearn.over_sampling import SMOTE"
      ]
    },
    {
      "cell_type": "markdown",
      "source": [],
      "metadata": {
        "id": "l7X5ChilwGUV"
      }
    },
    {
      "cell_type": "code",
      "execution_count": null,
      "metadata": {
        "colab": {
          "base_uri": "https://localhost:8080/",
          "height": 256
        },
        "id": "5F4pHuER6PKF",
        "outputId": "d40fc63b-af83-4e58-a72f-99a33de563d2"
      },
      "outputs": [
        {
          "output_type": "execute_result",
          "data": {
            "text/plain": [
              "   encounter_id  patient_id  hospital_id  hospital_death   age    bmi  \\\n",
              "0         66154       25312          118               0  68.0  22.73   \n",
              "1        114252       59342           81               0  77.0  27.42   \n",
              "2        119783       50777          118               0  25.0  31.95   \n",
              "3         79267       46918          118               0  81.0  22.64   \n",
              "4         92056       34377           33               0  19.0    NaN   \n",
              "\n",
              "   elective_surgery  ethnicity gender  height  ... aids cirrhosis  \\\n",
              "0                 0  Caucasian      M   180.3  ...  0.0       0.0   \n",
              "1                 0  Caucasian      F   160.0  ...  0.0       0.0   \n",
              "2                 0  Caucasian      F   172.7  ...  0.0       0.0   \n",
              "3                 1  Caucasian      F   165.1  ...  0.0       0.0   \n",
              "4                 0  Caucasian      M   188.0  ...  0.0       0.0   \n",
              "\n",
              "   diabetes_mellitus hepatic_failure immunosuppression  leukemia  lymphoma  \\\n",
              "0                1.0             0.0               0.0       0.0       0.0   \n",
              "1                1.0             0.0               0.0       0.0       0.0   \n",
              "2                0.0             0.0               0.0       0.0       0.0   \n",
              "3                0.0             0.0               0.0       0.0       0.0   \n",
              "4                0.0             0.0               0.0       0.0       0.0   \n",
              "\n",
              "   solid_tumor_with_metastasis  apache_3j_bodysystem  apache_2_bodysystem  \n",
              "0                          0.0                Sepsis       Cardiovascular  \n",
              "1                          0.0           Respiratory          Respiratory  \n",
              "2                          0.0             Metabolic            Metabolic  \n",
              "3                          0.0        Cardiovascular       Cardiovascular  \n",
              "4                          0.0                Trauma               Trauma  \n",
              "\n",
              "[5 rows x 186 columns]"
            ],
            "text/html": [
              "\n",
              "  <div id=\"df-0462f091-faf0-4b4c-8ce6-699fd6a13332\" class=\"colab-df-container\">\n",
              "    <div>\n",
              "<style scoped>\n",
              "    .dataframe tbody tr th:only-of-type {\n",
              "        vertical-align: middle;\n",
              "    }\n",
              "\n",
              "    .dataframe tbody tr th {\n",
              "        vertical-align: top;\n",
              "    }\n",
              "\n",
              "    .dataframe thead th {\n",
              "        text-align: right;\n",
              "    }\n",
              "</style>\n",
              "<table border=\"1\" class=\"dataframe\">\n",
              "  <thead>\n",
              "    <tr style=\"text-align: right;\">\n",
              "      <th></th>\n",
              "      <th>encounter_id</th>\n",
              "      <th>patient_id</th>\n",
              "      <th>hospital_id</th>\n",
              "      <th>hospital_death</th>\n",
              "      <th>age</th>\n",
              "      <th>bmi</th>\n",
              "      <th>elective_surgery</th>\n",
              "      <th>ethnicity</th>\n",
              "      <th>gender</th>\n",
              "      <th>height</th>\n",
              "      <th>...</th>\n",
              "      <th>aids</th>\n",
              "      <th>cirrhosis</th>\n",
              "      <th>diabetes_mellitus</th>\n",
              "      <th>hepatic_failure</th>\n",
              "      <th>immunosuppression</th>\n",
              "      <th>leukemia</th>\n",
              "      <th>lymphoma</th>\n",
              "      <th>solid_tumor_with_metastasis</th>\n",
              "      <th>apache_3j_bodysystem</th>\n",
              "      <th>apache_2_bodysystem</th>\n",
              "    </tr>\n",
              "  </thead>\n",
              "  <tbody>\n",
              "    <tr>\n",
              "      <th>0</th>\n",
              "      <td>66154</td>\n",
              "      <td>25312</td>\n",
              "      <td>118</td>\n",
              "      <td>0</td>\n",
              "      <td>68.0</td>\n",
              "      <td>22.73</td>\n",
              "      <td>0</td>\n",
              "      <td>Caucasian</td>\n",
              "      <td>M</td>\n",
              "      <td>180.3</td>\n",
              "      <td>...</td>\n",
              "      <td>0.0</td>\n",
              "      <td>0.0</td>\n",
              "      <td>1.0</td>\n",
              "      <td>0.0</td>\n",
              "      <td>0.0</td>\n",
              "      <td>0.0</td>\n",
              "      <td>0.0</td>\n",
              "      <td>0.0</td>\n",
              "      <td>Sepsis</td>\n",
              "      <td>Cardiovascular</td>\n",
              "    </tr>\n",
              "    <tr>\n",
              "      <th>1</th>\n",
              "      <td>114252</td>\n",
              "      <td>59342</td>\n",
              "      <td>81</td>\n",
              "      <td>0</td>\n",
              "      <td>77.0</td>\n",
              "      <td>27.42</td>\n",
              "      <td>0</td>\n",
              "      <td>Caucasian</td>\n",
              "      <td>F</td>\n",
              "      <td>160.0</td>\n",
              "      <td>...</td>\n",
              "      <td>0.0</td>\n",
              "      <td>0.0</td>\n",
              "      <td>1.0</td>\n",
              "      <td>0.0</td>\n",
              "      <td>0.0</td>\n",
              "      <td>0.0</td>\n",
              "      <td>0.0</td>\n",
              "      <td>0.0</td>\n",
              "      <td>Respiratory</td>\n",
              "      <td>Respiratory</td>\n",
              "    </tr>\n",
              "    <tr>\n",
              "      <th>2</th>\n",
              "      <td>119783</td>\n",
              "      <td>50777</td>\n",
              "      <td>118</td>\n",
              "      <td>0</td>\n",
              "      <td>25.0</td>\n",
              "      <td>31.95</td>\n",
              "      <td>0</td>\n",
              "      <td>Caucasian</td>\n",
              "      <td>F</td>\n",
              "      <td>172.7</td>\n",
              "      <td>...</td>\n",
              "      <td>0.0</td>\n",
              "      <td>0.0</td>\n",
              "      <td>0.0</td>\n",
              "      <td>0.0</td>\n",
              "      <td>0.0</td>\n",
              "      <td>0.0</td>\n",
              "      <td>0.0</td>\n",
              "      <td>0.0</td>\n",
              "      <td>Metabolic</td>\n",
              "      <td>Metabolic</td>\n",
              "    </tr>\n",
              "    <tr>\n",
              "      <th>3</th>\n",
              "      <td>79267</td>\n",
              "      <td>46918</td>\n",
              "      <td>118</td>\n",
              "      <td>0</td>\n",
              "      <td>81.0</td>\n",
              "      <td>22.64</td>\n",
              "      <td>1</td>\n",
              "      <td>Caucasian</td>\n",
              "      <td>F</td>\n",
              "      <td>165.1</td>\n",
              "      <td>...</td>\n",
              "      <td>0.0</td>\n",
              "      <td>0.0</td>\n",
              "      <td>0.0</td>\n",
              "      <td>0.0</td>\n",
              "      <td>0.0</td>\n",
              "      <td>0.0</td>\n",
              "      <td>0.0</td>\n",
              "      <td>0.0</td>\n",
              "      <td>Cardiovascular</td>\n",
              "      <td>Cardiovascular</td>\n",
              "    </tr>\n",
              "    <tr>\n",
              "      <th>4</th>\n",
              "      <td>92056</td>\n",
              "      <td>34377</td>\n",
              "      <td>33</td>\n",
              "      <td>0</td>\n",
              "      <td>19.0</td>\n",
              "      <td>NaN</td>\n",
              "      <td>0</td>\n",
              "      <td>Caucasian</td>\n",
              "      <td>M</td>\n",
              "      <td>188.0</td>\n",
              "      <td>...</td>\n",
              "      <td>0.0</td>\n",
              "      <td>0.0</td>\n",
              "      <td>0.0</td>\n",
              "      <td>0.0</td>\n",
              "      <td>0.0</td>\n",
              "      <td>0.0</td>\n",
              "      <td>0.0</td>\n",
              "      <td>0.0</td>\n",
              "      <td>Trauma</td>\n",
              "      <td>Trauma</td>\n",
              "    </tr>\n",
              "  </tbody>\n",
              "</table>\n",
              "<p>5 rows × 186 columns</p>\n",
              "</div>\n",
              "    <div class=\"colab-df-buttons\">\n",
              "\n",
              "  <div class=\"colab-df-container\">\n",
              "    <button class=\"colab-df-convert\" onclick=\"convertToInteractive('df-0462f091-faf0-4b4c-8ce6-699fd6a13332')\"\n",
              "            title=\"Convert this dataframe to an interactive table.\"\n",
              "            style=\"display:none;\">\n",
              "\n",
              "  <svg xmlns=\"http://www.w3.org/2000/svg\" height=\"24px\" viewBox=\"0 -960 960 960\">\n",
              "    <path d=\"M120-120v-720h720v720H120Zm60-500h600v-160H180v160Zm220 220h160v-160H400v160Zm0 220h160v-160H400v160ZM180-400h160v-160H180v160Zm440 0h160v-160H620v160ZM180-180h160v-160H180v160Zm440 0h160v-160H620v160Z\"/>\n",
              "  </svg>\n",
              "    </button>\n",
              "\n",
              "  <style>\n",
              "    .colab-df-container {\n",
              "      display:flex;\n",
              "      gap: 12px;\n",
              "    }\n",
              "\n",
              "    .colab-df-convert {\n",
              "      background-color: #E8F0FE;\n",
              "      border: none;\n",
              "      border-radius: 50%;\n",
              "      cursor: pointer;\n",
              "      display: none;\n",
              "      fill: #1967D2;\n",
              "      height: 32px;\n",
              "      padding: 0 0 0 0;\n",
              "      width: 32px;\n",
              "    }\n",
              "\n",
              "    .colab-df-convert:hover {\n",
              "      background-color: #E2EBFA;\n",
              "      box-shadow: 0px 1px 2px rgba(60, 64, 67, 0.3), 0px 1px 3px 1px rgba(60, 64, 67, 0.15);\n",
              "      fill: #174EA6;\n",
              "    }\n",
              "\n",
              "    .colab-df-buttons div {\n",
              "      margin-bottom: 4px;\n",
              "    }\n",
              "\n",
              "    [theme=dark] .colab-df-convert {\n",
              "      background-color: #3B4455;\n",
              "      fill: #D2E3FC;\n",
              "    }\n",
              "\n",
              "    [theme=dark] .colab-df-convert:hover {\n",
              "      background-color: #434B5C;\n",
              "      box-shadow: 0px 1px 3px 1px rgba(0, 0, 0, 0.15);\n",
              "      filter: drop-shadow(0px 1px 2px rgba(0, 0, 0, 0.3));\n",
              "      fill: #FFFFFF;\n",
              "    }\n",
              "  </style>\n",
              "\n",
              "    <script>\n",
              "      const buttonEl =\n",
              "        document.querySelector('#df-0462f091-faf0-4b4c-8ce6-699fd6a13332 button.colab-df-convert');\n",
              "      buttonEl.style.display =\n",
              "        google.colab.kernel.accessAllowed ? 'block' : 'none';\n",
              "\n",
              "      async function convertToInteractive(key) {\n",
              "        const element = document.querySelector('#df-0462f091-faf0-4b4c-8ce6-699fd6a13332');\n",
              "        const dataTable =\n",
              "          await google.colab.kernel.invokeFunction('convertToInteractive',\n",
              "                                                    [key], {});\n",
              "        if (!dataTable) return;\n",
              "\n",
              "        const docLinkHtml = 'Like what you see? Visit the ' +\n",
              "          '<a target=\"_blank\" href=https://colab.research.google.com/notebooks/data_table.ipynb>data table notebook</a>'\n",
              "          + ' to learn more about interactive tables.';\n",
              "        element.innerHTML = '';\n",
              "        dataTable['output_type'] = 'display_data';\n",
              "        await google.colab.output.renderOutput(dataTable, element);\n",
              "        const docLink = document.createElement('div');\n",
              "        docLink.innerHTML = docLinkHtml;\n",
              "        element.appendChild(docLink);\n",
              "      }\n",
              "    </script>\n",
              "  </div>\n",
              "\n",
              "\n",
              "<div id=\"df-4f199562-82d6-480f-a479-07252c51094d\">\n",
              "  <button class=\"colab-df-quickchart\" onclick=\"quickchart('df-4f199562-82d6-480f-a479-07252c51094d')\"\n",
              "            title=\"Suggest charts\"\n",
              "            style=\"display:none;\">\n",
              "\n",
              "<svg xmlns=\"http://www.w3.org/2000/svg\" height=\"24px\"viewBox=\"0 0 24 24\"\n",
              "     width=\"24px\">\n",
              "    <g>\n",
              "        <path d=\"M19 3H5c-1.1 0-2 .9-2 2v14c0 1.1.9 2 2 2h14c1.1 0 2-.9 2-2V5c0-1.1-.9-2-2-2zM9 17H7v-7h2v7zm4 0h-2V7h2v10zm4 0h-2v-4h2v4z\"/>\n",
              "    </g>\n",
              "</svg>\n",
              "  </button>\n",
              "\n",
              "<style>\n",
              "  .colab-df-quickchart {\n",
              "      --bg-color: #E8F0FE;\n",
              "      --fill-color: #1967D2;\n",
              "      --hover-bg-color: #E2EBFA;\n",
              "      --hover-fill-color: #174EA6;\n",
              "      --disabled-fill-color: #AAA;\n",
              "      --disabled-bg-color: #DDD;\n",
              "  }\n",
              "\n",
              "  [theme=dark] .colab-df-quickchart {\n",
              "      --bg-color: #3B4455;\n",
              "      --fill-color: #D2E3FC;\n",
              "      --hover-bg-color: #434B5C;\n",
              "      --hover-fill-color: #FFFFFF;\n",
              "      --disabled-bg-color: #3B4455;\n",
              "      --disabled-fill-color: #666;\n",
              "  }\n",
              "\n",
              "  .colab-df-quickchart {\n",
              "    background-color: var(--bg-color);\n",
              "    border: none;\n",
              "    border-radius: 50%;\n",
              "    cursor: pointer;\n",
              "    display: none;\n",
              "    fill: var(--fill-color);\n",
              "    height: 32px;\n",
              "    padding: 0;\n",
              "    width: 32px;\n",
              "  }\n",
              "\n",
              "  .colab-df-quickchart:hover {\n",
              "    background-color: var(--hover-bg-color);\n",
              "    box-shadow: 0 1px 2px rgba(60, 64, 67, 0.3), 0 1px 3px 1px rgba(60, 64, 67, 0.15);\n",
              "    fill: var(--button-hover-fill-color);\n",
              "  }\n",
              "\n",
              "  .colab-df-quickchart-complete:disabled,\n",
              "  .colab-df-quickchart-complete:disabled:hover {\n",
              "    background-color: var(--disabled-bg-color);\n",
              "    fill: var(--disabled-fill-color);\n",
              "    box-shadow: none;\n",
              "  }\n",
              "\n",
              "  .colab-df-spinner {\n",
              "    border: 2px solid var(--fill-color);\n",
              "    border-color: transparent;\n",
              "    border-bottom-color: var(--fill-color);\n",
              "    animation:\n",
              "      spin 1s steps(1) infinite;\n",
              "  }\n",
              "\n",
              "  @keyframes spin {\n",
              "    0% {\n",
              "      border-color: transparent;\n",
              "      border-bottom-color: var(--fill-color);\n",
              "      border-left-color: var(--fill-color);\n",
              "    }\n",
              "    20% {\n",
              "      border-color: transparent;\n",
              "      border-left-color: var(--fill-color);\n",
              "      border-top-color: var(--fill-color);\n",
              "    }\n",
              "    30% {\n",
              "      border-color: transparent;\n",
              "      border-left-color: var(--fill-color);\n",
              "      border-top-color: var(--fill-color);\n",
              "      border-right-color: var(--fill-color);\n",
              "    }\n",
              "    40% {\n",
              "      border-color: transparent;\n",
              "      border-right-color: var(--fill-color);\n",
              "      border-top-color: var(--fill-color);\n",
              "    }\n",
              "    60% {\n",
              "      border-color: transparent;\n",
              "      border-right-color: var(--fill-color);\n",
              "    }\n",
              "    80% {\n",
              "      border-color: transparent;\n",
              "      border-right-color: var(--fill-color);\n",
              "      border-bottom-color: var(--fill-color);\n",
              "    }\n",
              "    90% {\n",
              "      border-color: transparent;\n",
              "      border-bottom-color: var(--fill-color);\n",
              "    }\n",
              "  }\n",
              "</style>\n",
              "\n",
              "  <script>\n",
              "    async function quickchart(key) {\n",
              "      const quickchartButtonEl =\n",
              "        document.querySelector('#' + key + ' button');\n",
              "      quickchartButtonEl.disabled = true;  // To prevent multiple clicks.\n",
              "      quickchartButtonEl.classList.add('colab-df-spinner');\n",
              "      try {\n",
              "        const charts = await google.colab.kernel.invokeFunction(\n",
              "            'suggestCharts', [key], {});\n",
              "      } catch (error) {\n",
              "        console.error('Error during call to suggestCharts:', error);\n",
              "      }\n",
              "      quickchartButtonEl.classList.remove('colab-df-spinner');\n",
              "      quickchartButtonEl.classList.add('colab-df-quickchart-complete');\n",
              "    }\n",
              "    (() => {\n",
              "      let quickchartButtonEl =\n",
              "        document.querySelector('#df-4f199562-82d6-480f-a479-07252c51094d button');\n",
              "      quickchartButtonEl.style.display =\n",
              "        google.colab.kernel.accessAllowed ? 'block' : 'none';\n",
              "    })();\n",
              "  </script>\n",
              "</div>\n",
              "    </div>\n",
              "  </div>\n"
            ]
          },
          "metadata": {},
          "execution_count": 2
        }
      ],
      "source": [
        "# read the data\n",
        "data = pd.read_csv('datathon4.csv')\n",
        "data.head()"
      ]
    },
    {
      "cell_type": "code",
      "execution_count": null,
      "metadata": {
        "colab": {
          "base_uri": "https://localhost:8080/"
        },
        "id": "M5JStAHH6tGm",
        "outputId": "81fc3b61-34fc-4b33-c584-28fdad80e8da"
      },
      "outputs": [
        {
          "output_type": "stream",
          "name": "stdout",
          "text": [
            "(91713, 186)\n"
          ]
        }
      ],
      "source": [
        "print(data.shape)"
      ]
    },
    {
      "cell_type": "code",
      "execution_count": null,
      "metadata": {
        "colab": {
          "base_uri": "https://localhost:8080/"
        },
        "id": "Ng-wUtcl6vaR",
        "outputId": "9f53d6d9-b6ad-480d-b708-284d5d06a0f9"
      },
      "outputs": [
        {
          "output_type": "execute_result",
          "data": {
            "text/plain": [
              "(91713,)"
            ]
          },
          "metadata": {},
          "execution_count": 4
        }
      ],
      "source": [
        "# Check how many patients there are\n",
        "data['patient_id'].unique().shape"
      ]
    },
    {
      "cell_type": "code",
      "execution_count": null,
      "metadata": {
        "colab": {
          "base_uri": "https://localhost:8080/"
        },
        "id": "eGb16ztA62Ib",
        "outputId": "9125c166-bd08-4a05-f3b2-4854a5af426e"
      },
      "outputs": [
        {
          "output_type": "execute_result",
          "data": {
            "text/plain": [
              "encounter_id                     int64\n",
              "patient_id                       int64\n",
              "hospital_id                      int64\n",
              "hospital_death                   int64\n",
              "age                            float64\n",
              "                                ...   \n",
              "leukemia                       float64\n",
              "lymphoma                       float64\n",
              "solid_tumor_with_metastasis    float64\n",
              "apache_3j_bodysystem            object\n",
              "apache_2_bodysystem             object\n",
              "Length: 186, dtype: object"
            ]
          },
          "metadata": {},
          "execution_count": 5
        }
      ],
      "source": [
        "# Check types of variables\n",
        "data.dtypes"
      ]
    },
    {
      "cell_type": "code",
      "execution_count": null,
      "metadata": {
        "colab": {
          "base_uri": "https://localhost:8080/"
        },
        "id": "tZfdJlpb62v_",
        "outputId": "376e58e2-7ad6-4bb3-8818-bb6eb93683dc"
      },
      "outputs": [
        {
          "output_type": "execute_result",
          "data": {
            "text/plain": [
              "encounter_id                      0\n",
              "patient_id                        0\n",
              "hospital_id                       0\n",
              "hospital_death                    0\n",
              "age                            4228\n",
              "                               ... \n",
              "leukemia                        715\n",
              "lymphoma                        715\n",
              "solid_tumor_with_metastasis     715\n",
              "apache_3j_bodysystem           1662\n",
              "apache_2_bodysystem            1662\n",
              "Length: 186, dtype: int64"
            ]
          },
          "metadata": {},
          "execution_count": 6
        }
      ],
      "source": [
        "# Count the number of missing values (NaN or None) in each column of the 'data' DataFrame\n",
        "missing_value_counts = data.isnull().sum()\n",
        "missing_value_counts"
      ]
    },
    {
      "cell_type": "code",
      "execution_count": null,
      "metadata": {
        "id": "XSyWLb5L649i"
      },
      "outputs": [],
      "source": [
        "# delete columns with missing values >50%\n",
        "df = data.loc[:, data.isnull().mean() < .5]\n",
        "df.isnull().sum().to_csv(\"missing count cleaned.csv\")\n"
      ]
    },
    {
      "cell_type": "code",
      "execution_count": null,
      "metadata": {
        "colab": {
          "base_uri": "https://localhost:8080/"
        },
        "id": "eQhF9yHIchVz",
        "outputId": "d78762f8-b4df-4198-c531-05b86d0e8dfe"
      },
      "outputs": [
        {
          "output_type": "stream",
          "name": "stdout",
          "text": [
            "(91713, 81)\n",
            "(91713, 81)\n"
          ]
        }
      ],
      "source": [
        "# select certain variable (not all)\n",
        "\n",
        "\n",
        "# Select variables based on redundancy/low variance/multicollinearity cutoff (>0.70)\n",
        "data_selected = data[['hospital_death',\n",
        "                # demographic\n",
        "                # drop 'readmission_status' (no variance)\n",
        "                'age','bmi','elective_surgery','ethnicity','gender','hospital_admit_source','icu_admit_source',\n",
        "                'icu_stay_type','icu_type','pre_icu_los_days',\n",
        "                # apache\n",
        "                # drop 'bun_apache', 'creatinine_apache', 'glucose_apache', 'hematocrit_apache', 'sodium_apache', 'wbc_apache' (>0.70 collinearity w/ respective lab features)\n",
        "                # drop 'heart_rate_apache', 'temp_apache' (>0.70 collinearity w/ respective vitals features)\n",
        "                # drop 'apache_2_diagnosis' (redundant w/ 'apache_3j_diagnosis')\n",
        "                'apache_3j_diagnosis','apache_post_operative','arf_apache',\n",
        "                'gcs_eyes_apache','gcs_motor_apache','gcs_unable_apache','gcs_verbal_apache',\n",
        "                'intubated_apache','map_apache','resprate_apache','ventilated_apache',\n",
        "                # vitals\n",
        "                # drop 'd1_diasbp_noninvasive_max','d1_diasbp_noninvasive_min','d1_mbp_noninvasive_max','d1_mbp_noninvasive_min','h1_diasbp_noninvasive_max',\n",
        "                # 'h1_diasbp_noninvasive_min','h1_mbp_noninvasive_max','h1_mbp_noninvasive_min','h1_sysbp_noninvasive_max','h1_sysbp_noninvasive_min',\n",
        "                'd1_diasbp_max','d1_diasbp_min','d1_heartrate_max','d1_heartrate_min','d1_mbp_max','d1_mbp_min',\n",
        "                'd1_resprate_max','d1_resprate_min','d1_spo2_max','d1_spo2_min','d1_sysbp_max','d1_sysbp_min',\n",
        "                'd1_temp_max','d1_temp_min','h1_diasbp_max','h1_diasbp_min','h1_heartrate_max','h1_heartrate_min',\n",
        "                'h1_mbp_max','h1_mbp_min','h1_resprate_max','h1_resprate_min','h1_spo2_max','h1_spo2_min',\n",
        "                'h1_sysbp_max','h1_sysbp_min','h1_temp_max','h1_temp_min',\n",
        "                # labs\n",
        "                'd1_bun_max','d1_bun_min','d1_calcium_max','d1_calcium_min','d1_creatinine_max','d1_creatinine_min',\n",
        "                'd1_glucose_max','d1_glucose_min','d1_hco3_max','d1_hco3_min','d1_hemaglobin_max','d1_hemaglobin_min',\n",
        "                'd1_hematocrit_max','d1_hematocrit_min','d1_platelets_max','d1_platelets_min','d1_potassium_max','d1_potassium_min',\n",
        "                'd1_sodium_max','d1_sodium_min','d1_wbc_max','d1_wbc_min',\n",
        "                # apache comorbidity\n",
        "                # drop 'apache_4a_hospital_death_prob','apache_4a_icu_death_prob'\n",
        "                'aids','cirrhosis','diabetes_mellitus','hepatic_failure','immunosuppression','leukemia','lymphoma','solid_tumor_with_metastasis',\n",
        "                # apache grouping\n",
        "                # drop 'apache_2_bodysystem' (redundant w/ 'apache_3j_bodysystem')\n",
        "                'apache_3j_bodysystem']]\n",
        "\n",
        "print(data_selected.shape)\n",
        "df = data_selected\n",
        "print(df.shape) # 92 features left"
      ]
    },
    {
      "cell_type": "code",
      "source": [
        "data['hospital_death'].mean()"
      ],
      "metadata": {
        "colab": {
          "base_uri": "https://localhost:8080/"
        },
        "id": "zMjgJxSJcl0x",
        "outputId": "c9ae8ccc-f56f-4890-bf34-34b65065cac3"
      },
      "execution_count": null,
      "outputs": [
        {
          "output_type": "execute_result",
          "data": {
            "text/plain": [
              "0.08630183289173836"
            ]
          },
          "metadata": {},
          "execution_count": 206
        }
      ]
    },
    {
      "cell_type": "code",
      "execution_count": null,
      "metadata": {
        "id": "3a1s6kgUdnfB"
      },
      "outputs": [],
      "source": [
        "# Define the column that will be used as the target for modeling or analysis\n",
        "target_column = 'hospital_death'\n",
        "\n",
        "# identify categorical variables\n",
        "categorical_columns = ['ethnicity','hospital_admit_source','icu_admit_source',\n",
        "                       'icu_stay_type','icu_type','apache_3j_bodysystem']\n",
        "\n",
        "# numerical variables\n",
        "numerical_columns = [c for c in data_selected.columns if c not in categorical_columns and c != target_column]\n"
      ]
    },
    {
      "cell_type": "markdown",
      "metadata": {
        "id": "xbXZP1dhROoF"
      },
      "source": [
        "# Data Transformation"
      ]
    },
    {
      "cell_type": "code",
      "execution_count": null,
      "metadata": {
        "id": "BSEYpgM58nyq"
      },
      "outputs": [],
      "source": [
        "# Define a function to compute various scores for model evaluation\n",
        "def get_scores(Y_pred, Y):\n",
        "    # Calculate confusion matrix, classification report, ROC AUC, and accuracy\n",
        "    conf_matrix = confusion_matrix(Y_pred, Y)\n",
        "    class_report = classification_report(Y_pred, Y)\n",
        "    auc = roc_auc_score(Y_pred, Y)\n",
        "    acc = accuracy_score(Y_pred, Y)\n",
        "\n",
        "    # Return the computed scores\n",
        "    return conf_matrix, class_report, auc, acc\n",
        "\n",
        "# Define a function to print the computed scores\n",
        "def print_scores(conf_matrix, class_report, auc, acc):\n",
        "    print('AUC : ', auc)\n",
        "    print('Accuracy : ', acc)\n",
        "    print(\"Confusion Matrix:\")\n",
        "    print(conf_matrix)\n",
        "    print(\"\\nClassification Report:\")\n",
        "    print(class_report)\n"
      ]
    },
    {
      "cell_type": "code",
      "execution_count": null,
      "metadata": {
        "id": "5bEX9kBEmJOq",
        "colab": {
          "base_uri": "https://localhost:8080/"
        },
        "outputId": "c6a0412c-ed12-42fc-ba9c-70d44cf759e1"
      },
      "outputs": [
        {
          "output_type": "stream",
          "name": "stdout",
          "text": [
            "Collecting category_encoders\n",
            "  Downloading category_encoders-2.6.3-py2.py3-none-any.whl (81 kB)\n",
            "\u001b[?25l     \u001b[90m━━━━━━━━━━━━━━━━━━━━━━━━━━━━━━━━━━━━━━━━\u001b[0m \u001b[32m0.0/81.9 kB\u001b[0m \u001b[31m?\u001b[0m eta \u001b[36m-:--:--\u001b[0m\r\u001b[2K     \u001b[90m━━━━━━━━━━━━━━━━━━━━━━━━━━━━━━━━━━━━━━━━\u001b[0m \u001b[32m81.9/81.9 kB\u001b[0m \u001b[31m2.7 MB/s\u001b[0m eta \u001b[36m0:00:00\u001b[0m\n",
            "\u001b[?25hRequirement already satisfied: numpy>=1.14.0 in /usr/local/lib/python3.10/dist-packages (from category_encoders) (1.23.5)\n",
            "Requirement already satisfied: scikit-learn>=0.20.0 in /usr/local/lib/python3.10/dist-packages (from category_encoders) (1.2.2)\n",
            "Requirement already satisfied: scipy>=1.0.0 in /usr/local/lib/python3.10/dist-packages (from category_encoders) (1.11.3)\n",
            "Requirement already satisfied: statsmodels>=0.9.0 in /usr/local/lib/python3.10/dist-packages (from category_encoders) (0.14.0)\n",
            "Requirement already satisfied: pandas>=1.0.5 in /usr/local/lib/python3.10/dist-packages (from category_encoders) (1.5.3)\n",
            "Requirement already satisfied: patsy>=0.5.1 in /usr/local/lib/python3.10/dist-packages (from category_encoders) (0.5.3)\n",
            "Requirement already satisfied: python-dateutil>=2.8.1 in /usr/local/lib/python3.10/dist-packages (from pandas>=1.0.5->category_encoders) (2.8.2)\n",
            "Requirement already satisfied: pytz>=2020.1 in /usr/local/lib/python3.10/dist-packages (from pandas>=1.0.5->category_encoders) (2023.3.post1)\n",
            "Requirement already satisfied: six in /usr/local/lib/python3.10/dist-packages (from patsy>=0.5.1->category_encoders) (1.16.0)\n",
            "Requirement already satisfied: joblib>=1.1.1 in /usr/local/lib/python3.10/dist-packages (from scikit-learn>=0.20.0->category_encoders) (1.3.2)\n",
            "Requirement already satisfied: threadpoolctl>=2.0.0 in /usr/local/lib/python3.10/dist-packages (from scikit-learn>=0.20.0->category_encoders) (3.2.0)\n",
            "Requirement already satisfied: packaging>=21.3 in /usr/local/lib/python3.10/dist-packages (from statsmodels>=0.9.0->category_encoders) (23.2)\n",
            "Installing collected packages: category_encoders\n",
            "Successfully installed category_encoders-2.6.3\n"
          ]
        }
      ],
      "source": [
        "!pip install category_encoders"
      ]
    },
    {
      "cell_type": "code",
      "execution_count": null,
      "metadata": {
        "id": "1odkFdKHlRxP"
      },
      "outputs": [],
      "source": [
        "from sklearn.discriminant_analysis import StandardScaler\n",
        "import pandas as pd\n",
        "from sklearn.experimental import enable_iterative_imputer\n",
        "from sklearn.impute import IterativeImputer\n",
        "from sklearn.metrics import RocCurveDisplay, auc, roc_curve\n",
        "from category_encoders import OneHotEncoder, TargetEncoder\n",
        "warnings.filterwarnings('ignore')"
      ]
    },
    {
      "cell_type": "markdown",
      "source": [
        "#data preparation + imputation"
      ],
      "metadata": {
        "id": "3HSNM_TEAu6n"
      }
    },
    {
      "cell_type": "code",
      "source": [
        "from sklearn.compose import ColumnTransformer\n",
        "from imblearn.pipeline import Pipeline\n",
        "from imblearn.under_sampling import TomekLinks, RandomUnderSampler\n",
        "from sklearn.impute import SimpleImputer\n",
        "from sklearn.model_selection import RandomizedSearchCV, StratifiedKFold\n",
        "from sklearn.ensemble import GradientBoostingClassifier\n",
        "from sklearn.model_selection import GridSearchCV\n",
        "from imblearn.combine import SMOTETomek\n",
        "from sklearn.datasets import make_classification\n",
        "from sklearn.model_selection import train_test_split\n",
        "import warnings\n",
        "\n",
        "warnings.filterwarnings('ignore')\n",
        "# Define the column that will be used as the target for modeling or analysis\n",
        "target_column = 'hospital_death'\n",
        "\n",
        "# identify categorical variables\n",
        "categorical_columns = ['ethnicity', 'gender','hospital_admit_source','icu_admit_source',\n",
        "                       'icu_stay_type','icu_type','apache_3j_bodysystem']\n",
        "\n",
        "# numerical variables\n",
        "numerical_columns = [c for c in df.columns if c not in categorical_columns and c != target_column]\n",
        "\n",
        "# Encoding 'gender' column\n",
        "from sklearn.preprocessing import StandardScaler, LabelEncoder\n",
        "le = LabelEncoder()\n",
        "df['gender'] = le.fit_transform(df['gender']) # Male: 1, Female: 0\n",
        "\n",
        "\n",
        "# Splitting the data into 70% training and 30% testing\n",
        "train = df.sample(frac=0.7, random_state=11)\n",
        "test = df.drop(train.index)\n",
        "\n",
        "# features\n",
        "X_train = train.drop('hospital_death', axis = 1)\n",
        "# outcome\n",
        "y_train = train['hospital_death']\n",
        "\n",
        "# features\n",
        "X_test = test.drop('hospital_death', axis = 1)\n",
        "# outcome\n",
        "y_test = test['hospital_death']\n",
        "\n",
        "y_train = y_train.to_numpy()\n",
        "y_test = y_test.to_numpy()\n",
        "\n",
        "# impute numerical columns with median\n",
        "num_transformer = SimpleImputer(strategy = 'median')\n",
        "\n",
        "# impute categorical columns with the most frequent value\n",
        "cat_transformer = Pipeline(steps=[\n",
        "    ('imputer', SimpleImputer(strategy = 'most_frequent')),\n",
        "    ('one_hot_encoder', OneHotEncoder())\n",
        "    ])\n",
        "\n",
        "# initialize a column transformer that handels imputation and encoding\n",
        "ct = ColumnTransformer(\n",
        "    transformers=[\n",
        "        ('num', num_transformer, numerical_columns),\n",
        "        ('cat', cat_transformer, categorical_columns)\n",
        "        ],\n",
        "    remainder='passthrough')\n",
        "\n",
        "\n",
        "# Fit the ColumnTransformer to the data\n",
        "ct.fit(X_train)\n",
        "ct.fit(X_test)\n",
        "\n",
        "X_1 = ct.fit(X_train)\n",
        "\n",
        "# Here you can transform the data and convert to DataFrame with the new column names\n",
        "X_resampled = pd.DataFrame(ct.transform(X_train), columns=ct.get_feature_names_out())\n",
        "X_test = pd.DataFrame(ct.transform(X_test), columns=ct.get_feature_names_out())\n",
        "\n",
        "# Normalizing data\n",
        "scaler = StandardScaler()\n",
        "X_resampled = scaler.fit_transform(X_resampled)\n",
        "X_test = scaler.fit_transform(X_test)\n",
        "\n",
        "# undersample\n",
        "undersample = RandomUnderSampler(sampling_strategy=0.5)\n",
        "X_resampled, y_res = undersample.fit_resample(X_resampled, y_train)\n",
        "upsample = SMOTE(sampling_strategy=1)\n",
        "X_resampled, y_res = upsample.fit_resample(X_resampled, y_res)\n",
        "\n",
        "# smt = SMOTE(sampling_strategy=1, random_state=42)\n",
        "# X_resampled, y_res = smt.fit_resample(X_resampled, y_train)\n"
      ],
      "metadata": {
        "id": "EJCyJ3za8RaJ"
      },
      "execution_count": null,
      "outputs": []
    },
    {
      "cell_type": "code",
      "source": [
        "print(X_resampled.shape)"
      ],
      "metadata": {
        "colab": {
          "base_uri": "https://localhost:8080/"
        },
        "id": "45d6YiuJ0SFy",
        "outputId": "459c294e-3206-42e1-907c-318df37c0aae"
      },
      "execution_count": null,
      "outputs": [
        {
          "output_type": "stream",
          "name": "stdout",
          "text": [
            "(22248, 124)\n"
          ]
        }
      ]
    },
    {
      "cell_type": "code",
      "source": [
        "print(y_res.shape)"
      ],
      "metadata": {
        "colab": {
          "base_uri": "https://localhost:8080/"
        },
        "id": "4rWiGo8bGEKh",
        "outputId": "4cf0122c-edc5-4d11-e0a7-da06e6786b4c"
      },
      "execution_count": null,
      "outputs": [
        {
          "output_type": "stream",
          "name": "stdout",
          "text": [
            "(22248,)\n"
          ]
        }
      ]
    },
    {
      "cell_type": "code",
      "execution_count": null,
      "metadata": {
        "colab": {
          "base_uri": "https://localhost:8080/"
        },
        "id": "Qei4o7cg7WhP",
        "outputId": "c54f02d0-ba40-49b4-b981-ee47981058c3"
      },
      "outputs": [
        {
          "output_type": "stream",
          "name": "stdout",
          "text": [
            "Optimal number of features: 91\n"
          ]
        }
      ],
      "source": [
        "# # Logistic regression feature selection\n",
        "\n",
        "# # Initialize a Logistic Regression model\n",
        "# model = LogisticRegression()\n",
        "\n",
        "# # Define a StratifiedKFold cross-validation\n",
        "# cv = StratifiedKFold(3)\n",
        "\n",
        "# # Initialize Recursive Feature Elimination with Cross-Validation (RFECV)\n",
        "# rfecv = RFECV(\n",
        "#     estimator=model,\n",
        "#     step=1,\n",
        "#     cv=cv,\n",
        "#     scoring='roc_auc',  # Specify the scoring metric (ROC AUC in this case)\n",
        "#     min_features_to_select=1,\n",
        "# )\n",
        "\n",
        "# rfecv.fit(X_resampled, y_res)\n",
        "# # Print the optimal number of selected features\n",
        "# print(f\"Optimal number of features: {rfecv.n_features_}\")"
      ]
    },
    {
      "cell_type": "code",
      "execution_count": null,
      "metadata": {
        "id": "Oojo_YZS8ILZ",
        "colab": {
          "base_uri": "https://localhost:8080/"
        },
        "outputId": "5d3f1f62-f4c8-46fc-fbb2-b0cd34cc613d"
      },
      "outputs": [
        {
          "output_type": "execute_result",
          "data": {
            "text/plain": [
              "array([ 1,  1,  1,  1,  1,  1,  1,  1,  1,  1,  1,  1,  4,  1,  1,  1, 19,\n",
              "        1,  1,  1,  1,  1,  1,  1,  1,  1,  1, 16,  1,  1,  1,  1,  3,  1,\n",
              "        1,  1,  1, 10,  1,  1,  1,  1,  1,  1,  1,  1,  1,  1, 15, 17,  1,\n",
              "        1,  1,  1,  1,  1,  1,  1,  1,  1,  1,  7,  1,  1,  1,  5,  1,  1,\n",
              "        1,  1,  1,  1,  1,  1, 12,  1, 14, 13, 11,  1,  1,  1,  8,  1,  1,\n",
              "        1,  1,  1,  1,  1, 18,  1,  9,  1,  6,  1,  2,  1,  1,  1,  1,  1,\n",
              "        1,  1,  1,  1,  1,  1,  1,  1,  1,  1,  1,  1,  1,  1,  1,  1,  1,\n",
              "        1,  1,  1,  1,  1])"
            ]
          },
          "metadata": {},
          "execution_count": 327
        }
      ],
      "source": [
        "# # which columns used and which wasn't\n",
        "# rfecv.support_\n",
        "# # features ranking low is better\n",
        "# rfecv.ranking_"
      ]
    },
    {
      "cell_type": "code",
      "source": [
        "# from sklearn.feature_selection import RFE\n",
        "# from sklearn.linear_model import LogisticRegression\n",
        "\n",
        "# X_1 = pd.DataFrame(ct.transform(X_train), columns=ct.get_feature_names_out())\n",
        "# print(X_1.columns[rfecv.support_])\n",
        "# X_1.columns[rfecv.support_].shape\n"
      ],
      "metadata": {
        "id": "1-77cr7vEX5M",
        "colab": {
          "base_uri": "https://localhost:8080/"
        },
        "outputId": "09dcf23a-d7f4-4af5-8f14-01bfc558a787"
      },
      "execution_count": null,
      "outputs": [
        {
          "output_type": "stream",
          "name": "stdout",
          "text": [
            "Index(['num__age', 'num__bmi', 'num__elective_surgery',\n",
            "       'num__pre_icu_los_days', 'num__apache_3j_diagnosis',\n",
            "       'num__apache_post_operative', 'num__arf_apache', 'num__gcs_eyes_apache',\n",
            "       'num__gcs_motor_apache', 'num__gcs_unable_apache',\n",
            "       ...\n",
            "       'cat__6_2', 'cat__6_3', 'cat__6_4', 'cat__6_5', 'cat__6_6', 'cat__6_7',\n",
            "       'cat__6_8', 'cat__6_9', 'cat__6_10', 'cat__6_11'],\n",
            "      dtype='object', length=106)\n"
          ]
        },
        {
          "output_type": "execute_result",
          "data": {
            "text/plain": [
              "(106,)"
            ]
          },
          "metadata": {},
          "execution_count": 328
        }
      ]
    },
    {
      "cell_type": "code",
      "execution_count": null,
      "metadata": {
        "id": "Y_gZfohL8S5p",
        "colab": {
          "base_uri": "https://localhost:8080/",
          "height": 472
        },
        "outputId": "77a50b50-6207-4092-ac0d-4d60c899df11"
      },
      "outputs": [
        {
          "output_type": "display_data",
          "data": {
            "text/plain": [
              "<Figure size 640x480 with 1 Axes>"
            ],
            "image/png": "[encoded data removed]"
          },
          "metadata": {}
        }
      ],
      "source": [
        "# # Calculate the number of different feature selections tested\n",
        "# n_scores = len(rfecv.cv_results_[\"mean_test_score\"])\n",
        "\n",
        "# # Create a new figure for plotting\n",
        "# plt.figure()\n",
        "\n",
        "# # Set labels for the x and y axes\n",
        "# plt.xlabel(\"Number of features selected\")\n",
        "# plt.ylabel(\"Mean test score\")\n",
        "\n",
        "# # Plot the mean test scores with error bars\n",
        "# plt.errorbar(\n",
        "#     range(1, n_scores + 1),\n",
        "#     rfecv.cv_results_[\"mean_test_score\"],\n",
        "#     yerr=rfecv.cv_results_[\"std_test_score\"],\n",
        "#     color='#995687'  # Change the color to green\n",
        "# )\n",
        "\n",
        "# # Set the title for the plot\n",
        "# plt.title(\"Recursive Feature Elimination\")\n",
        "\n",
        "# # Show the plot\n",
        "# plt.show()\n"
      ]
    },
    {
      "cell_type": "code",
      "source": [
        "\n",
        "# Initialize and train a Logistic Regression model\n",
        "model = LogisticRegression()\n",
        "model.fit(X_resampled, y_res)\n",
        "\n",
        "# Make predictions on the test and training sets\n",
        "y_pred_test = model.predict(X_test)\n",
        "y_pred_train = model.predict(X_resampled)\n",
        "\n",
        "# Calculate evaluation metrics and scores for the test and training sets\n",
        "conf_matrix_test, class_report_test, auc_test, acc_test = get_scores(y_pred_test, y_test)\n",
        "\n",
        "# # Print scores and evaluation metrics for the training set\n",
        "# print('======== Training Set ==========')\n",
        "# print_scores(conf_matrix_train, class_report_train, auc_train, acc_train)\n",
        "\n",
        "# Print scores and evaluation metrics for the test set\n",
        "print('======== Test Set ==========')\n",
        "print_scores(conf_matrix_test, class_report_test, auc_test, acc_test)"
      ],
      "metadata": {
        "id": "SSNVqyp3pba1",
        "colab": {
          "base_uri": "https://localhost:8080/"
        },
        "outputId": "9d2bd8fa-e321-423b-9eb9-2a5c8a6d00cc"
      },
      "execution_count": null,
      "outputs": [
        {
          "output_type": "stream",
          "name": "stdout",
          "text": [
            "======== Test Set ==========\n",
            "AUC :  0.6174358154557276\n",
            "Accuracy :  0.7894526422911972\n",
            "Confusion Matrix:\n",
            "[[19867   499]\n",
            " [ 5294  1854]]\n",
            "\n",
            "Classification Report:\n",
            "              precision    recall  f1-score   support\n",
            "\n",
            "           0       0.79      0.98      0.87     20366\n",
            "           1       0.79      0.26      0.39      7148\n",
            "\n",
            "    accuracy                           0.79     27514\n",
            "   macro avg       0.79      0.62      0.63     27514\n",
            "weighted avg       0.79      0.79      0.75     27514\n",
            "\n"
          ]
        }
      ]
    },
    {
      "cell_type": "markdown",
      "source": [
        "#Neural Networks"
      ],
      "metadata": {
        "id": "4p809qAGwHVn"
      }
    },
    {
      "cell_type": "code",
      "source": [
        "# importing PyTorch library as 't' for convenience\n",
        "import torch as t\n",
        "\n",
        "# importing other necessary libraries\n",
        "import numpy as np\n",
        "from torch.nn.functional import sigmoid, relu, tanh\n",
        "from torch.optim import Adam\n",
        "import matplotlib.pyplot as plt\n",
        "import pandas as pd\n",
        "from sklearn.preprocessing import StandardScaler\n",
        "from torch.utils.data import TensorDataset, DataLoader\n",
        "\n",
        "# importing PyTorch modules for building neural networks\n",
        "from torch.nn import Tanh, Linear, Sequential, Sigmoid, Dropout"
      ],
      "metadata": {
        "id": "RyNMTyrpwgot"
      },
      "execution_count": null,
      "outputs": []
    },
    {
      "cell_type": "code",
      "source": [
        "# Defining the input to the neuron - a single example with 3 features\n",
        "X = np.array([\n",
        "    [0, 1, 2]\n",
        "])\n",
        "\n",
        "# Defining the expected output for the given input\n",
        "Y = np.array([\n",
        "    [1]\n",
        "])"
      ],
      "metadata": {
        "id": "zZKJ4FbMwlHt"
      },
      "execution_count": null,
      "outputs": []
    },
    {
      "cell_type": "code",
      "source": [
        "# Initializing the weights randomly for 3 inputs and 1 output\n",
        "W = t.randn((3,1))\n",
        "print(W)\n",
        "print(W.dtype) # Checking the data type of the weights tensor\n",
        "print(W.shape) # Checking the shape of the weights tensor\n",
        "print('===========')\n",
        "\n",
        "# Initializing the bias as a tensor with a single zero element\n",
        "B = t.zeros((1,1))\n",
        "print(B)\n",
        "print(B.dtype) # Checking the data type of the bias tensor\n",
        "print(B.shape) # Checking the shape of the bias tensor"
      ],
      "metadata": {
        "colab": {
          "base_uri": "https://localhost:8080/"
        },
        "id": "hV7keTn8wlyq",
        "outputId": "14e9a7c2-a33d-4921-b856-ba614bb058b2"
      },
      "execution_count": null,
      "outputs": [
        {
          "output_type": "stream",
          "name": "stdout",
          "text": [
            "tensor([[0.0038],\n",
            "        [1.3164],\n",
            "        [0.6244]])\n",
            "torch.float32\n",
            "torch.Size([3, 1])\n",
            "===========\n",
            "tensor([[0.]])\n",
            "torch.float32\n",
            "torch.Size([1, 1])\n"
          ]
        }
      ]
    },
    {
      "cell_type": "code",
      "source": [
        "# Converting the input array to a PyTorch Tensor and performing matrix multiplication with the weights\n",
        "XW = t.Tensor(X) @ W\n",
        "print(XW)\n",
        "\n",
        "# Adding the bias to the result of the matrix multiplication\n",
        "XW_B = XW + B\n",
        "print(XW_B)"
      ],
      "metadata": {
        "colab": {
          "base_uri": "https://localhost:8080/"
        },
        "id": "Y6dIjinlwtOs",
        "outputId": "f8ac6277-7d7d-486f-dc23-d3f15d51b19f"
      },
      "execution_count": null,
      "outputs": [
        {
          "output_type": "stream",
          "name": "stdout",
          "text": [
            "tensor([[2.5652]])\n",
            "tensor([[2.5652]])\n"
          ]
        }
      ]
    },
    {
      "cell_type": "code",
      "source": [
        "# Applying the hyperbolic tangent activation function element-wise to the result\n",
        "output = tanh(XW_B)\n",
        "print(output)"
      ],
      "metadata": {
        "colab": {
          "base_uri": "https://localhost:8080/"
        },
        "id": "YqI5DVwpwvvt",
        "outputId": "673519ec-bcda-4f76-e7b0-12c93c220724"
      },
      "execution_count": null,
      "outputs": [
        {
          "output_type": "stream",
          "name": "stdout",
          "text": [
            "tensor([[0.9882]])\n"
          ]
        }
      ]
    },
    {
      "cell_type": "code",
      "source": [
        "# Define the number of neurons in the first and second hidden layers\n",
        "hidden_units_layer_1 = 5\n",
        "hidden_units_layer_2 = 5\n",
        "\n",
        "# FIRST LAYER: Define weights and biases for the first layer\n",
        "W1 = t.randn((124, hidden_units_layer_1), requires_grad=True)\n",
        "B1 = t.zeros((1, hidden_units_layer_1), requires_grad=True)\n",
        "\n",
        "# SECOND LAYER: Define weights and biases for the second layer\n",
        "W2 = t.randn((hidden_units_layer_1, hidden_units_layer_2), requires_grad=True)\n",
        "B2 = t.zeros((1, hidden_units_layer_2), requires_grad=True)\n",
        "\n",
        "# THIRD LAYER: Define weights and biases for the output layer\n",
        "W3 = t.randn((hidden_units_layer_2, 1), requires_grad=True)\n",
        "B3 = t.zeros((1, 1), requires_grad=True)"
      ],
      "metadata": {
        "id": "XTLwZYozxGre"
      },
      "execution_count": null,
      "outputs": []
    },
    {
      "cell_type": "code",
      "source": [
        "# Define the forward pass of the neural network\n",
        "def forward(input):\n",
        "    # First hidden layer with tanh activation\n",
        "    out = tanh(input @ W1 + B1)\n",
        "\n",
        "    # Second hidden layer with tanh activation\n",
        "    out = tanh(out @ W2 + B2)\n",
        "\n",
        "    # Output layer with sigmoid activation (since it's a binary classification problem)\n",
        "    out = sigmoid(out @ W3 + B3)\n",
        "    return out"
      ],
      "metadata": {
        "id": "f7iaGbKZxbhQ"
      },
      "execution_count": null,
      "outputs": []
    },
    {
      "cell_type": "code",
      "source": [
        "# Convert the training data to PyTorch tensors\n",
        "X = t.Tensor(X_resampled).type(t.float32)\n",
        "Y = t.Tensor(y_res).type(t.float32)\n",
        "\n",
        "# Create a dataset from tensors to be used with DataLoader\n",
        "train_dataset = TensorDataset(X, Y)\n",
        "\n",
        "# Define training hyperparameters\n",
        "epochs = 2000\n",
        "learning_rate = 0.01\n",
        "batch_size = 32\n",
        "\n",
        "# DataLoader provides batches of data for training\n",
        "train_data_loader = DataLoader(train_dataset, batch_size=batch_size, shuffle=True)\n",
        "\n",
        "# Define the optimizer (Adam) and include all weights and biases\n",
        "optimizer = Adam([W1, B1, W2, B2, W3, B3], lr=learning_rate)\n",
        "\n",
        "# Define the loss function (Binary Cross-Entropy Loss)\n",
        "loss_fn = t.nn.BCELoss()"
      ],
      "metadata": {
        "id": "XZHM0dqcxheP"
      },
      "execution_count": null,
      "outputs": []
    },
    {
      "cell_type": "code",
      "source": [
        "# train_loss_list = []\n",
        "\n",
        "# # Train the model for a specified number of epochs\n",
        "# for epoch in range(epochs):\n",
        "#     # Reduce the learning rate every 500 epochs\n",
        "#     if epoch % 500 == 0:\n",
        "#         learning_rate *= .9\n",
        "\n",
        "#     per_epoch_loss_list = []\n",
        "\n",
        "#     # Iterate over all batches of data\n",
        "#     for batch_idx, (X, Y) in enumerate(train_data_loader):\n",
        "#         # Forward pass: Compute predictions\n",
        "#         probs = forward(X)\n",
        "\n",
        "#         # Compute the loss\n",
        "#         loss = loss_fn(probs.view(-1), Y)\n",
        "\n",
        "#         # Backward pass: Compute gradient and update weights\n",
        "#         optimizer.zero_grad()\n",
        "#         loss.backward()\n",
        "#         optimizer.step()\n",
        "\n",
        "#         # Record the loss for this batch\n",
        "#         per_epoch_loss_list.append(loss.item())\n",
        "\n",
        "#     # Record the average loss for this epoch\n",
        "#     train_loss_list.append(sum(per_epoch_loss_list) / len(per_epoch_loss_list))"
      ],
      "metadata": {
        "id": "EeH7ws0zxq2Y",
        "colab": {
          "base_uri": "https://localhost:8080/",
          "height": 391
        },
        "outputId": "1887bc8c-3287-40c5-b020-08cd4d5fb2da"
      },
      "execution_count": null,
      "outputs": [
        {
          "output_type": "error",
          "ename": "KeyboardInterrupt",
          "evalue": "ignored",
          "traceback": [
            "\u001b[0;31m---------------------------------------------------------------------------\u001b[0m",
            "\u001b[0;31mKeyboardInterrupt\u001b[0m                         Traceback (most recent call last)",
            "\u001b[0;32m<ipython-input-33-b4f6e99b2768>\u001b[0m in \u001b[0;36m<cell line: 4>\u001b[0;34m()\u001b[0m\n\u001b[1;32m     19\u001b[0m         \u001b[0;31m# Backward pass: Compute gradient and update weights\u001b[0m\u001b[0;34m\u001b[0m\u001b[0;34m\u001b[0m\u001b[0m\n\u001b[1;32m     20\u001b[0m         \u001b[0moptimizer\u001b[0m\u001b[0;34m.\u001b[0m\u001b[0mzero_grad\u001b[0m\u001b[0;34m(\u001b[0m\u001b[0;34m)\u001b[0m\u001b[0;34m\u001b[0m\u001b[0;34m\u001b[0m\u001b[0m\n\u001b[0;32m---> 21\u001b[0;31m         \u001b[0mloss\u001b[0m\u001b[0;34m.\u001b[0m\u001b[0mbackward\u001b[0m\u001b[0;34m(\u001b[0m\u001b[0;34m)\u001b[0m\u001b[0;34m\u001b[0m\u001b[0;34m\u001b[0m\u001b[0m\n\u001b[0m\u001b[1;32m     22\u001b[0m         \u001b[0moptimizer\u001b[0m\u001b[0;34m.\u001b[0m\u001b[0mstep\u001b[0m\u001b[0;34m(\u001b[0m\u001b[0;34m)\u001b[0m\u001b[0;34m\u001b[0m\u001b[0;34m\u001b[0m\u001b[0m\n\u001b[1;32m     23\u001b[0m \u001b[0;34m\u001b[0m\u001b[0m\n",
            "\u001b[0;32m/usr/local/lib/python3.10/dist-packages/torch/_tensor.py\u001b[0m in \u001b[0;36mbackward\u001b[0;34m(self, gradient, retain_graph, create_graph, inputs)\u001b[0m\n\u001b[1;32m    490\u001b[0m                 \u001b[0minputs\u001b[0m\u001b[0;34m=\u001b[0m\u001b[0minputs\u001b[0m\u001b[0;34m,\u001b[0m\u001b[0;34m\u001b[0m\u001b[0;34m\u001b[0m\u001b[0m\n\u001b[1;32m    491\u001b[0m             )\n\u001b[0;32m--> 492\u001b[0;31m         torch.autograd.backward(\n\u001b[0m\u001b[1;32m    493\u001b[0m             \u001b[0mself\u001b[0m\u001b[0;34m,\u001b[0m \u001b[0mgradient\u001b[0m\u001b[0;34m,\u001b[0m \u001b[0mretain_graph\u001b[0m\u001b[0;34m,\u001b[0m \u001b[0mcreate_graph\u001b[0m\u001b[0;34m,\u001b[0m \u001b[0minputs\u001b[0m\u001b[0;34m=\u001b[0m\u001b[0minputs\u001b[0m\u001b[0;34m\u001b[0m\u001b[0;34m\u001b[0m\u001b[0m\n\u001b[1;32m    494\u001b[0m         )\n",
            "\u001b[0;32m/usr/local/lib/python3.10/dist-packages/torch/autograd/__init__.py\u001b[0m in \u001b[0;36mbackward\u001b[0;34m(tensors, grad_tensors, retain_graph, create_graph, grad_variables, inputs)\u001b[0m\n\u001b[1;32m    249\u001b[0m     \u001b[0;31m# some Python versions print out the first line of a multi-line function\u001b[0m\u001b[0;34m\u001b[0m\u001b[0;34m\u001b[0m\u001b[0m\n\u001b[1;32m    250\u001b[0m     \u001b[0;31m# calls in the traceback and some print out the last line\u001b[0m\u001b[0;34m\u001b[0m\u001b[0;34m\u001b[0m\u001b[0m\n\u001b[0;32m--> 251\u001b[0;31m     Variable._execution_engine.run_backward(  # Calls into the C++ engine to run the backward pass\n\u001b[0m\u001b[1;32m    252\u001b[0m         \u001b[0mtensors\u001b[0m\u001b[0;34m,\u001b[0m\u001b[0;34m\u001b[0m\u001b[0;34m\u001b[0m\u001b[0m\n\u001b[1;32m    253\u001b[0m         \u001b[0mgrad_tensors_\u001b[0m\u001b[0;34m,\u001b[0m\u001b[0;34m\u001b[0m\u001b[0;34m\u001b[0m\u001b[0m\n",
            "\u001b[0;31mKeyboardInterrupt\u001b[0m: "
          ]
        }
      ]
    },
    {
      "cell_type": "code",
      "source": [
        "# # Plot the training loss over epochs\n",
        "# plt.plot([i for i in range(len(train_loss_list))], train_loss_list)\n",
        "# plt.xlabel('epochs')\n",
        "# plt.ylabel('loss')"
      ],
      "metadata": {
        "id": "qVTsQvZjxuB7",
        "colab": {
          "base_uri": "https://localhost:8080/",
          "height": 467
        },
        "outputId": "139cb1b6-a60e-485e-e7c8-0829149e3cb1"
      },
      "execution_count": null,
      "outputs": [
        {
          "output_type": "execute_result",
          "data": {
            "text/plain": [
              "Text(0, 0.5, 'loss')"
            ]
          },
          "metadata": {},
          "execution_count": 231
        },
        {
          "output_type": "display_data",
          "data": {
            "text/plain": [
              "<Figure size 640x480 with 1 Axes>"
            ],
            "image/png": "[encoded data removed]"
          },
          "metadata": {}
        }
      ]
    },
    {
      "cell_type": "markdown",
      "source": [
        "# Evaluating Model Performance on Validation Data"
      ],
      "metadata": {
        "id": "qmqj83mfSrWO"
      }
    },
    {
      "cell_type": "code",
      "source": [
        "# X_train.shape\n",
        "X_test.shape"
      ],
      "metadata": {
        "colab": {
          "base_uri": "https://localhost:8080/"
        },
        "id": "Ti9CWCuZlN9M",
        "outputId": "779b9b0c-f04b-4abf-f99a-9035f0bd15c5"
      },
      "execution_count": null,
      "outputs": [
        {
          "output_type": "execute_result",
          "data": {
            "text/plain": [
              "(27514, 124)"
            ]
          },
          "metadata": {},
          "execution_count": 34
        }
      ]
    },
    {
      "cell_type": "code",
      "source": [
        "number_of_input_features = 124  # Number of input features in the dataset\n",
        "\n",
        "# Reduced number of hidden units to 5 and just using 1 hidden layer\n",
        "number_of_hidden_units = 5# Number of hidden units in the neural network\n",
        "epochs = 100 # Number of training epochs\n",
        "learning_rate = 0.0001  # Learning rate for the optimizer\n",
        "dropout_probablity = 0.6  # Probability of dropping out a neuron in dropout layer\n",
        "\n",
        "# Convert training and testing data to PyTorch tensors\n",
        "X_train_tensor = t.Tensor(X_resampled).type(t.float32)\n",
        "Y_train_tensor = t.Tensor(y_res).type(t.float32)\n",
        "X_test_tensor = t.Tensor(X_test).type(t.float32)\n",
        "Y_test_tensor = t.Tensor(y_test).type(t.float32)\n",
        "\n",
        "# Create a training dataset and data loader\n",
        "train_dataset = TensorDataset(X_train_tensor, Y_train_tensor)\n",
        "train_data_loader = DataLoader(train_dataset, batch_size=batch_size, shuffle=True)\n",
        "\n",
        "# Define the neural network model\n",
        "model = Sequential(\n",
        "    Linear(number_of_input_features, number_of_hidden_units),  # Linear layer for matrix multiplication and bias addition\n",
        "    Tanh(),  # Add Tanh activation function\n",
        "    Dropout(dropout_probablity),  # Dropout layer to prevent overfitting\n",
        "    Linear(number_of_hidden_units, 1),  # Another linear layer\n",
        "    Sigmoid()  # Sigmoid activation for probability output\n",
        ")\n",
        "\n",
        "# Define the optimizer\n",
        "optimizer = Adam(model.parameters(), lr=learning_rate)\n",
        "\n",
        "# Define the loss function as Binary Cross-Entropy Loss\n",
        "loss_fn = t.nn.BCELoss()\n",
        "\n",
        "train_accuracy_list = []  # List to store training accuracy\n",
        "validation_accuracy_list = []  # List to store validation accuracy\n",
        "\n",
        "# Training loop\n",
        "for epoch in range(epochs):\n",
        "    if epoch % 500 == 0:\n",
        "        learning_rate *= 0.9  # Learning rate scheduling\n",
        "\n",
        "    per_epoch_loss_list = []  # List to store losses for each epoch\n",
        "\n",
        "    for batch_idx, (X, Y) in enumerate(train_data_loader):\n",
        "        # Forward pass: Compute predictions\n",
        "        probs = model(X)\n",
        "\n",
        "        # Calculate the loss\n",
        "        loss = loss_fn(probs.view(-1), Y)\n",
        "        per_epoch_loss_list.append(loss.item())\n",
        "\n",
        "        # Backward pass: Compute gradients and update weights\n",
        "        optimizer.zero_grad()\n",
        "        loss.backward()\n",
        "        optimizer.step()\n",
        "\n",
        "    # Evaluate the model on training and validation data\n",
        "    with t.no_grad():\n",
        "        # Set the model in eval mode; some layers use this for certain calculations during training\n",
        "        model.eval()\n",
        "\n",
        "        # Calculate accuracy on train data\n",
        "        probs = model(X_train_tensor)\n",
        "        prediction = (probs >= 0.5).type(t.LongTensor).view(-1)\n",
        "        train_accuracy = (prediction == Y_train_tensor).type(t.float32).mean().item()\n",
        "\n",
        "        # Calculate accuracy on validation data\n",
        "        probs = model(X_test_tensor)\n",
        "        prediction = (probs >= 0.5).type(t.LongTensor).view(-1)\n",
        "        validation_accuracy = (prediction == Y_test_tensor).type(t.float32).mean().item()\n",
        "\n",
        "        print(f'epoch {epoch}/{epochs} ---> train_accuracy: {train_accuracy}, validation_accuracy: {validation_accuracy}')\n",
        "\n",
        "        # Set the model back to train mode\n",
        "        model.train()\n",
        "\n",
        "        # Append accuracy values to lists\n",
        "        train_accuracy_list.append(train_accuracy)\n",
        "        validation_accuracy_list.append(validation_accuracy)"
      ],
      "metadata": {
        "id": "PyOAY0UhaLm9",
        "colab": {
          "base_uri": "https://localhost:8080/"
        },
        "outputId": "a3664ae7-caeb-47f5-a5d1-4f669ebafffa"
      },
      "execution_count": null,
      "outputs": [
        {
          "output_type": "stream",
          "name": "stdout",
          "text": [
            "epoch 0/100 ---> train_accuracy: 0.600862979888916, validation_accuracy: 0.28683578968048096\n",
            "epoch 1/100 ---> train_accuracy: 0.7112100124359131, validation_accuracy: 0.5038162469863892\n",
            "epoch 2/100 ---> train_accuracy: 0.7493258118629456, validation_accuracy: 0.5971505641937256\n",
            "epoch 3/100 ---> train_accuracy: 0.7674397826194763, validation_accuracy: 0.647488534450531\n",
            "epoch 4/100 ---> train_accuracy: 0.7777328491210938, validation_accuracy: 0.6820527911186218\n",
            "epoch 5/100 ---> train_accuracy: 0.784385085105896, validation_accuracy: 0.7068765163421631\n",
            "epoch 6/100 ---> train_accuracy: 0.7890596985816956, validation_accuracy: 0.7247583270072937\n",
            "epoch 7/100 ---> train_accuracy: 0.7921611070632935, validation_accuracy: 0.7398051619529724\n",
            "epoch 8/100 ---> train_accuracy: 0.7944534420967102, validation_accuracy: 0.7503816485404968\n",
            "epoch 9/100 ---> train_accuracy: 0.7962064146995544, validation_accuracy: 0.7614668607711792\n",
            "epoch 10/100 ---> train_accuracy: 0.796745777130127, validation_accuracy: 0.7655012011528015\n",
            "epoch 11/100 ---> train_accuracy: 0.7971053719520569, validation_accuracy: 0.7697535753250122\n",
            "epoch 12/100 ---> train_accuracy: 0.7980043292045593, validation_accuracy: 0.7715345025062561\n",
            "epoch 13/100 ---> train_accuracy: 0.797914445400238, validation_accuracy: 0.7734971046447754\n",
            "epoch 14/100 ---> train_accuracy: 0.7990381121635437, validation_accuracy: 0.7774587273597717\n",
            "epoch 15/100 ---> train_accuracy: 0.7988134026527405, validation_accuracy: 0.7786581516265869\n",
            "epoch 16/100 ---> train_accuracy: 0.7989032864570618, validation_accuracy: 0.7798211574554443\n",
            "epoch 17/100 ---> train_accuracy: 0.7988583445549011, validation_accuracy: 0.7793850302696228\n",
            "epoch 18/100 ---> train_accuracy: 0.7989032864570618, validation_accuracy: 0.7809842228889465\n",
            "epoch 19/100 ---> train_accuracy: 0.7992628812789917, validation_accuracy: 0.781456708908081\n",
            "epoch 20/100 ---> train_accuracy: 0.799352765083313, validation_accuracy: 0.7811295986175537\n",
            "epoch 21/100 ---> train_accuracy: 0.7998471856117249, validation_accuracy: 0.7825834155082703\n",
            "epoch 22/100 ---> train_accuracy: 0.7998471856117249, validation_accuracy: 0.7809842228889465\n",
            "epoch 23/100 ---> train_accuracy: 0.8001168370246887, validation_accuracy: 0.783164918422699\n",
            "epoch 24/100 ---> train_accuracy: 0.7994426488876343, validation_accuracy: 0.7817838191986084\n",
            "epoch 25/100 ---> train_accuracy: 0.8001168370246887, validation_accuracy: 0.783164918422699\n",
            "epoch 26/100 ---> train_accuracy: 0.7992628812789917, validation_accuracy: 0.7846914529800415\n",
            "epoch 27/100 ---> train_accuracy: 0.7992628812789917, validation_accuracy: 0.7844370007514954\n",
            "epoch 28/100 ---> train_accuracy: 0.7988583445549011, validation_accuracy: 0.7834193706512451\n",
            "epoch 29/100 ---> train_accuracy: 0.7989931702613831, validation_accuracy: 0.7827651500701904\n",
            "epoch 30/100 ---> train_accuracy: 0.7993977069854736, validation_accuracy: 0.7825470566749573\n",
            "epoch 31/100 ---> train_accuracy: 0.7995774745941162, validation_accuracy: 0.7830559015274048\n",
            "epoch 32/100 ---> train_accuracy: 0.7987234592437744, validation_accuracy: 0.7842552661895752\n",
            "epoch 33/100 ---> train_accuracy: 0.7989482283592224, validation_accuracy: 0.7840735912322998\n",
            "epoch 34/100 ---> train_accuracy: 0.7991729378700256, validation_accuracy: 0.7849094867706299\n",
            "epoch 35/100 ---> train_accuracy: 0.7985436916351318, validation_accuracy: 0.7847277522087097\n",
            "epoch 36/100 ---> train_accuracy: 0.7986335754394531, validation_accuracy: 0.784109890460968\n",
            "epoch 37/100 ---> train_accuracy: 0.7985436916351318, validation_accuracy: 0.7847641110420227\n",
            "epoch 38/100 ---> train_accuracy: 0.7986785173416138, validation_accuracy: 0.7833830118179321\n",
            "epoch 39/100 ---> train_accuracy: 0.7985436916351318, validation_accuracy: 0.7837101221084595\n",
            "epoch 40/100 ---> train_accuracy: 0.797824501991272, validation_accuracy: 0.7852365970611572\n",
            "epoch 41/100 ---> train_accuracy: 0.7971053719520569, validation_accuracy: 0.7861452102661133\n",
            "epoch 42/100 ---> train_accuracy: 0.7971053719520569, validation_accuracy: 0.7848731279373169\n",
            "epoch 43/100 ---> train_accuracy: 0.7977795600891113, validation_accuracy: 0.7852002382278442\n",
            "epoch 44/100 ---> train_accuracy: 0.7985436916351318, validation_accuracy: 0.7836011052131653\n",
            "epoch 45/100 ---> train_accuracy: 0.79768967628479, validation_accuracy: 0.7856727242469788\n",
            "epoch 46/100 ---> train_accuracy: 0.7987234592437744, validation_accuracy: 0.7830559015274048\n",
            "epoch 47/100 ---> train_accuracy: 0.7986785173416138, validation_accuracy: 0.784182608127594\n",
            "epoch 48/100 ---> train_accuracy: 0.7975099086761475, validation_accuracy: 0.7846187353134155\n",
            "epoch 49/100 ---> train_accuracy: 0.7977795600891113, validation_accuracy: 0.785163938999176\n",
            "epoch 50/100 ---> train_accuracy: 0.7984538078308105, validation_accuracy: 0.7856000661849976\n",
            "epoch 51/100 ---> train_accuracy: 0.7981391549110413, validation_accuracy: 0.7866176962852478\n",
            "epoch 52/100 ---> train_accuracy: 0.7980942130088806, validation_accuracy: 0.7856000661849976\n",
            "epoch 53/100 ---> train_accuracy: 0.7974199652671814, validation_accuracy: 0.7865450382232666\n",
            "epoch 54/100 ---> train_accuracy: 0.7976447343826294, validation_accuracy: 0.78509122133255\n",
            "epoch 55/100 ---> train_accuracy: 0.7974199652671814, validation_accuracy: 0.7844733595848083\n",
            "epoch 56/100 ---> train_accuracy: 0.797824501991272, validation_accuracy: 0.7842552661895752\n",
            "epoch 57/100 ---> train_accuracy: 0.7977346181869507, validation_accuracy: 0.7834556698799133\n",
            "epoch 58/100 ---> train_accuracy: 0.7980942130088806, validation_accuracy: 0.7842552661895752\n",
            "epoch 59/100 ---> train_accuracy: 0.7985436916351318, validation_accuracy: 0.7852365970611572\n",
            "epoch 60/100 ---> train_accuracy: 0.7979593873023987, validation_accuracy: 0.7848368287086487\n",
            "epoch 61/100 ---> train_accuracy: 0.797914445400238, validation_accuracy: 0.7844370007514954\n",
            "epoch 62/100 ---> train_accuracy: 0.7984538078308105, validation_accuracy: 0.7845460772514343\n",
            "epoch 63/100 ---> train_accuracy: 0.797824501991272, validation_accuracy: 0.7858908176422119\n",
            "epoch 64/100 ---> train_accuracy: 0.797824501991272, validation_accuracy: 0.7862905859947205\n",
            "epoch 65/100 ---> train_accuracy: 0.7983189225196838, validation_accuracy: 0.7845097184181213\n",
            "epoch 66/100 ---> train_accuracy: 0.797914445400238, validation_accuracy: 0.7852729558944702\n",
            "epoch 67/100 ---> train_accuracy: 0.7980942130088806, validation_accuracy: 0.7848368287086487\n",
            "epoch 68/100 ---> train_accuracy: 0.7971503138542175, validation_accuracy: 0.7852002382278442\n",
            "epoch 69/100 ---> train_accuracy: 0.7973750233650208, validation_accuracy: 0.7849458456039429\n",
            "epoch 70/100 ---> train_accuracy: 0.7976447343826294, validation_accuracy: 0.7861089110374451\n",
            "epoch 71/100 ---> train_accuracy: 0.7978694438934326, validation_accuracy: 0.7843643426895142\n",
            "epoch 72/100 ---> train_accuracy: 0.7975099086761475, validation_accuracy: 0.7846914529800415\n",
            "epoch 73/100 ---> train_accuracy: 0.7975997924804688, validation_accuracy: 0.7862542867660522\n",
            "epoch 74/100 ---> train_accuracy: 0.7973750233650208, validation_accuracy: 0.7869448065757751\n",
            "epoch 75/100 ---> train_accuracy: 0.7975099086761475, validation_accuracy: 0.7860361933708191\n",
            "epoch 76/100 ---> train_accuracy: 0.7978694438934326, validation_accuracy: 0.7862905859947205\n",
            "epoch 77/100 ---> train_accuracy: 0.79768967628479, validation_accuracy: 0.7872719168663025\n",
            "epoch 78/100 ---> train_accuracy: 0.7981840968132019, validation_accuracy: 0.7848368287086487\n",
            "epoch 79/100 ---> train_accuracy: 0.7986335754394531, validation_accuracy: 0.7855273485183716\n",
            "epoch 80/100 ---> train_accuracy: 0.7980043292045593, validation_accuracy: 0.7873809933662415\n",
            "epoch 81/100 ---> train_accuracy: 0.79768967628479, validation_accuracy: 0.7857090830802917\n",
            "epoch 82/100 ---> train_accuracy: 0.7976447343826294, validation_accuracy: 0.7857090830802917\n",
            "epoch 83/100 ---> train_accuracy: 0.7974199652671814, validation_accuracy: 0.7861089110374451\n",
            "epoch 84/100 ---> train_accuracy: 0.7982290387153625, validation_accuracy: 0.7846187353134155\n",
            "epoch 85/100 ---> train_accuracy: 0.7984538078308105, validation_accuracy: 0.78509122133255\n",
            "epoch 86/100 ---> train_accuracy: 0.7980942130088806, validation_accuracy: 0.784146249294281\n",
            "epoch 87/100 ---> train_accuracy: 0.79804927110672, validation_accuracy: 0.7856364250183105\n",
            "epoch 88/100 ---> train_accuracy: 0.7982739806175232, validation_accuracy: 0.7854183316230774\n",
            "epoch 89/100 ---> train_accuracy: 0.7976447343826294, validation_accuracy: 0.7872719168663025\n",
            "epoch 90/100 ---> train_accuracy: 0.7979593873023987, validation_accuracy: 0.7847277522087097\n",
            "epoch 91/100 ---> train_accuracy: 0.7983189225196838, validation_accuracy: 0.7859635353088379\n",
            "epoch 92/100 ---> train_accuracy: 0.79768967628479, validation_accuracy: 0.784109890460968\n",
            "epoch 93/100 ---> train_accuracy: 0.7977346181869507, validation_accuracy: 0.7854546904563904\n",
            "epoch 94/100 ---> train_accuracy: 0.7980942130088806, validation_accuracy: 0.7846550941467285\n",
            "epoch 95/100 ---> train_accuracy: 0.7981391549110413, validation_accuracy: 0.7861815690994263\n",
            "epoch 96/100 ---> train_accuracy: 0.7981391549110413, validation_accuracy: 0.7861815690994263\n",
            "epoch 97/100 ---> train_accuracy: 0.7987234592437744, validation_accuracy: 0.785127580165863\n",
            "epoch 98/100 ---> train_accuracy: 0.7994426488876343, validation_accuracy: 0.7834920287132263\n",
            "epoch 99/100 ---> train_accuracy: 0.7973750233650208, validation_accuracy: 0.7871265411376953\n"
          ]
        }
      ]
    },
    {
      "cell_type": "code",
      "source": [
        "# Plot training and validation accuracy over epochs\n",
        "plt.plot([i for i in range(len(train_accuracy_list))], train_accuracy_list, label=\"train\")\n",
        "plt.plot([i for i in range(len(validation_accuracy_list))], validation_accuracy_list, label=\"validation\")\n",
        "plt.legend(loc=\"upper left\")\n",
        "plt.xlabel('Epochs')\n",
        "plt.ylabel('accuracy')\n",
        "plt.ylim(0,0.9)\n"
      ],
      "metadata": {
        "colab": {
          "base_uri": "https://localhost:8080/",
          "height": 472
        },
        "id": "WHulIEtmcpsS",
        "outputId": "b47f2d2f-72ee-4ec3-8e79-b66ae60a78f7"
      },
      "execution_count": null,
      "outputs": [
        {
          "output_type": "execute_result",
          "data": {
            "text/plain": [
              "(0.0, 0.9)"
            ]
          },
          "metadata": {},
          "execution_count": 60
        },
        {
          "output_type": "display_data",
          "data": {
            "text/plain": [
              "<Figure size 640x480 with 1 Axes>"
            ],
            "image/png": "[encoded data removed]"
          },
          "metadata": {}
        }
      ]
    },
    {
      "cell_type": "code",
      "source": [],
      "metadata": {
        "id": "pCtmqkHrqQrj"
      },
      "execution_count": null,
      "outputs": []
    },
    {
      "cell_type": "code",
      "source": [
        "# Evaluate Model Performance on Validation Data\n",
        "\n",
        "# Disable gradient calculations for evaluation using t.no_grad()\n",
        "with t.no_grad():\n",
        "    # Prepare the validation data\n",
        "    X = t.Tensor(X_test).type(t.float32)  # Convert validation features to a PyTorch tensor\n",
        "    Y = t.Tensor(y_test).type(t.float32)  # Convert validation labels to a PyTorch tensor\n",
        "\n",
        "    # Calculate predictions on the validation data\n",
        "    probs = forward(X)  # Pass validation data through the trained model\n",
        "    loss = loss_fn(probs.view(-1), Y)  # Compute the loss between predictions and actual labels\n",
        "\n",
        "    # Print the validation loss\n",
        "    print(loss.item())\n",
        "\n",
        "    # Now, evaluate the model on the training data\n",
        "    X = t.Tensor(X_resampled).type(t.float32)  # Convert training features to a PyTorch tensor\n",
        "    Y = t.Tensor(y_res).type(t.float32)  # Convert training labels to a PyTorch tensor\n",
        "\n",
        "    # Calculate predictions on the training data\n",
        "    probs = forward(X)  # Pass training data through the trained model\n",
        "    loss = loss_fn(probs.view(-1), Y)  # Compute the loss between predictions and actual labels\n",
        "\n",
        "    # Print the training loss\n",
        "    print(loss.item())"
      ],
      "metadata": {
        "colab": {
          "base_uri": "https://localhost:8080/"
        },
        "id": "e-toaHRxprL2",
        "outputId": "83611000-2669-4361-bf9c-aed45ed5a231"
      },
      "execution_count": null,
      "outputs": [
        {
          "output_type": "stream",
          "name": "stdout",
          "text": [
            "0.4806441366672516\n",
            "0.38981273770332336\n"
          ]
        }
      ]
    },
    {
      "cell_type": "code",
      "source": [
        "# import torch as t\n",
        "# import torch.nn as nn\n",
        "# from torch.optim import Adam\n",
        "# from torch.utils.data import TensorDataset, DataLoader\n",
        "# import matplotlib.pyplot as plt\n",
        "\n",
        "# # Regularization\n",
        "# # Deep neural networks are prone to overfitting if there is not much data available during training.\n",
        "\n",
        "# # Define hyperparameters\n",
        "# number_of_input_features = 124\n",
        "# number_of_hidden_units = 3\n",
        "# epochs = 100\n",
        "# learning_rate = 0.001\n",
        "# batch_size = 32\n",
        "# landa = 0.01  # Regularization term (lambda)\n",
        "\n",
        "# # Prepare the data\n",
        "# X_train_tensor = t.Tensor(X_resampled).type(t.float32)\n",
        "# Y_train_tensor = t.Tensor(y_res).type(t.float32)\n",
        "\n",
        "# X_test_tensor = t.Tensor(X_test).type(t.float32)\n",
        "# Y_test_tensor = t.Tensor(y_test).type(t.float32)\n",
        "\n",
        "# train_dataset = TensorDataset(X_train_tensor, Y_train_tensor)\n",
        "# train_data_loader = DataLoader(train_dataset, batch_size=batch_size, shuffle=True)\n",
        "\n",
        "# # Define the neural network model with regularization\n",
        "# model = nn.Sequential(\n",
        "#     nn.Linear(number_of_input_features, number_of_hidden_units),  # Linear layer for matrix multiplication and bias addition\n",
        "#     nn.Tanh(),  # Tanh activation function\n",
        "#     nn.Linear(number_of_hidden_units, 1),  # Another linear layer\n",
        "#     nn.Sigmoid()  # Sigmoid activation for probability output\n",
        "# )\n",
        "\n",
        "# # Define the optimizer\n",
        "# optimizer = Adam(model.parameters(), lr=learning_rate)\n",
        "\n",
        "# # Define the loss function with Binary Cross-Entropy Loss\n",
        "# loss_fn = nn.BCELoss()\n",
        "\n",
        "# # Lists to store training accuracy, validation accuracy, and training loss over epochs\n",
        "# train_accuracy_list = []\n",
        "# validation_accuracy_list = []\n",
        "# train_loss_list = []\n",
        "\n",
        "# for epoch in range(epochs):\n",
        "#     if epoch % 500 == 0:\n",
        "#         learning_rate *= 0.9  # Learning rate scheduling\n",
        "\n",
        "#     per_epoch_loss_list = []\n",
        "\n",
        "#     for batch_idx, (X, Y) in enumerate(train_data_loader):\n",
        "#         # Forward pass: Compute predictions\n",
        "#         probs = model(X)\n",
        "\n",
        "#         # Adding regularization term for all parameters in the model\n",
        "#         l2_term = sum([(w ** 2).sum() for w in model.parameters()])\n",
        "\n",
        "#         # New loss is the old loss + regularization term\n",
        "#         loss = loss_fn(probs.view(-1), Y) + landa * l2_term\n",
        "\n",
        "#         per_epoch_loss_list.append(loss.item())\n",
        "\n",
        "#         # Backward pass: Compute gradient and update weights\n",
        "#         optimizer.zero_grad()\n",
        "#         loss.backward()\n",
        "#         optimizer.step()\n",
        "\n",
        "#     # Evaluate the model on training and validation data\n",
        "#     with t.no_grad():\n",
        "#         # Set the model in eval mode; some layers use this for certain calculations during training\n",
        "#         model.eval()\n",
        "\n",
        "#         # Calculate accuracy on train data\n",
        "#         probs = model(X_train_tensor)\n",
        "#         prediction = (probs >= 0.5).type(t.LongTensor).view(-1)\n",
        "#         train_accuracy = (prediction == Y_train_tensor).type(t.float32).mean().item()\n",
        "\n",
        "#         # Calculate accuracy on validation data\n",
        "#         probs = model(X_test_tensor)\n",
        "#         prediction = (probs >= 0.5).type(t.LongTensor).view(-1)\n",
        "#         validation_accuracy = (prediction == Y_test_tensor).type(t.float32).mean().item()\n",
        "\n",
        "#         # Print accuracy for the current epoch\n",
        "#         print(f'Epoch {epoch}/{epochs} ---> Train Accuracy: {train_accuracy}, Validation Accuracy: {validation_accuracy}')\n",
        "\n",
        "#         # Set the model back to train mode\n",
        "#         model.train()\n",
        "\n",
        "#         # Append accuracy values to lists\n",
        "#         train_accuracy_list.append(train_accuracy)\n",
        "#         validation_accuracy_list.append(validation_accuracy)\n",
        "\n",
        "#     # Calculate and append the average loss for the epoch\n",
        "#     train_loss_list.append(sum(per_epoch_loss_list) / len(per_epoch_loss_list))"
      ],
      "metadata": {
        "colab": {
          "base_uri": "https://localhost:8080/",
          "height": 426
        },
        "id": "rsfgObJLc6bt",
        "outputId": "c10d74df-5251-4b3e-d876-07f0ebbbd5a5"
      },
      "execution_count": null,
      "outputs": [
        {
          "output_type": "stream",
          "name": "stdout",
          "text": [
            "Epoch 0/100 ---> Train Accuracy: 0.7925207018852234, Validation Accuracy: 0.7529257535934448\n",
            "Epoch 1/100 ---> Train Accuracy: 0.7971503138542175, Validation Accuracy: 0.7747328877449036\n"
          ]
        },
        {
          "output_type": "error",
          "ename": "KeyboardInterrupt",
          "evalue": "ignored",
          "traceback": [
            "\u001b[0;31m---------------------------------------------------------------------------\u001b[0m",
            "\u001b[0;31mKeyboardInterrupt\u001b[0m                         Traceback (most recent call last)",
            "\u001b[0;32m<ipython-input-42-446ca372971a>\u001b[0m in \u001b[0;36m<cell line: 47>\u001b[0;34m()\u001b[0m\n\u001b[1;32m     65\u001b[0m         \u001b[0;31m# Backward pass: Compute gradient and update weights\u001b[0m\u001b[0;34m\u001b[0m\u001b[0;34m\u001b[0m\u001b[0m\n\u001b[1;32m     66\u001b[0m         \u001b[0moptimizer\u001b[0m\u001b[0;34m.\u001b[0m\u001b[0mzero_grad\u001b[0m\u001b[0;34m(\u001b[0m\u001b[0;34m)\u001b[0m\u001b[0;34m\u001b[0m\u001b[0;34m\u001b[0m\u001b[0m\n\u001b[0;32m---> 67\u001b[0;31m         \u001b[0mloss\u001b[0m\u001b[0;34m.\u001b[0m\u001b[0mbackward\u001b[0m\u001b[0;34m(\u001b[0m\u001b[0;34m)\u001b[0m\u001b[0;34m\u001b[0m\u001b[0;34m\u001b[0m\u001b[0m\n\u001b[0m\u001b[1;32m     68\u001b[0m         \u001b[0moptimizer\u001b[0m\u001b[0;34m.\u001b[0m\u001b[0mstep\u001b[0m\u001b[0;34m(\u001b[0m\u001b[0;34m)\u001b[0m\u001b[0;34m\u001b[0m\u001b[0;34m\u001b[0m\u001b[0m\n\u001b[1;32m     69\u001b[0m \u001b[0;34m\u001b[0m\u001b[0m\n",
            "\u001b[0;32m/usr/local/lib/python3.10/dist-packages/torch/_tensor.py\u001b[0m in \u001b[0;36mbackward\u001b[0;34m(self, gradient, retain_graph, create_graph, inputs)\u001b[0m\n\u001b[1;32m    490\u001b[0m                 \u001b[0minputs\u001b[0m\u001b[0;34m=\u001b[0m\u001b[0minputs\u001b[0m\u001b[0;34m,\u001b[0m\u001b[0;34m\u001b[0m\u001b[0;34m\u001b[0m\u001b[0m\n\u001b[1;32m    491\u001b[0m             )\n\u001b[0;32m--> 492\u001b[0;31m         torch.autograd.backward(\n\u001b[0m\u001b[1;32m    493\u001b[0m             \u001b[0mself\u001b[0m\u001b[0;34m,\u001b[0m \u001b[0mgradient\u001b[0m\u001b[0;34m,\u001b[0m \u001b[0mretain_graph\u001b[0m\u001b[0;34m,\u001b[0m \u001b[0mcreate_graph\u001b[0m\u001b[0;34m,\u001b[0m \u001b[0minputs\u001b[0m\u001b[0;34m=\u001b[0m\u001b[0minputs\u001b[0m\u001b[0;34m\u001b[0m\u001b[0;34m\u001b[0m\u001b[0m\n\u001b[1;32m    494\u001b[0m         )\n",
            "\u001b[0;32m/usr/local/lib/python3.10/dist-packages/torch/autograd/__init__.py\u001b[0m in \u001b[0;36mbackward\u001b[0;34m(tensors, grad_tensors, retain_graph, create_graph, grad_variables, inputs)\u001b[0m\n\u001b[1;32m    249\u001b[0m     \u001b[0;31m# some Python versions print out the first line of a multi-line function\u001b[0m\u001b[0;34m\u001b[0m\u001b[0;34m\u001b[0m\u001b[0m\n\u001b[1;32m    250\u001b[0m     \u001b[0;31m# calls in the traceback and some print out the last line\u001b[0m\u001b[0;34m\u001b[0m\u001b[0;34m\u001b[0m\u001b[0m\n\u001b[0;32m--> 251\u001b[0;31m     Variable._execution_engine.run_backward(  # Calls into the C++ engine to run the backward pass\n\u001b[0m\u001b[1;32m    252\u001b[0m         \u001b[0mtensors\u001b[0m\u001b[0;34m,\u001b[0m\u001b[0;34m\u001b[0m\u001b[0;34m\u001b[0m\u001b[0m\n\u001b[1;32m    253\u001b[0m         \u001b[0mgrad_tensors_\u001b[0m\u001b[0;34m,\u001b[0m\u001b[0;34m\u001b[0m\u001b[0;34m\u001b[0m\u001b[0m\n",
            "\u001b[0;31mKeyboardInterrupt\u001b[0m: "
          ]
        }
      ]
    },
    {
      "cell_type": "code",
      "source": [
        "# # Plot training and validation accuracy over epochs\n",
        "# plt.plot([i for i in range(len(train_accuracy_list))], train_accuracy_list, label=\"Train\")\n",
        "# plt.plot([i for i in range(len(validation_accuracy_list))], validation_accuracy_list, label=\"Validation\")\n",
        "# plt.legend(loc=\"upper left\")\n",
        "# plt.xlabel('Epochs')\n",
        "# plt.ylabel('Accuracy')\n",
        "# plt.ylim(0.7, 0.8)\n",
        "# plt.show()"
      ],
      "metadata": {
        "colab": {
          "base_uri": "https://localhost:8080/",
          "height": 455
        },
        "id": "cJRtCC-Jdm23",
        "outputId": "58c2e0fb-996c-4a1e-a239-0b3eebd62f80"
      },
      "execution_count": null,
      "outputs": [
        {
          "output_type": "display_data",
          "data": {
            "text/plain": [
              "<Figure size 640x480 with 1 Axes>"
            ],
            "image/png": "[encoded data removed]"
          },
          "metadata": {}
        }
      ]
    },
    {
      "cell_type": "code",
      "source": [
        "# # Plot the training loss over epochs\n",
        "# plt.plot([i for i in range(len(train_loss_list))], train_loss_list)\n",
        "# plt.xlabel('epochs')\n",
        "# plt.ylabel('loss')"
      ],
      "metadata": {
        "colab": {
          "base_uri": "https://localhost:8080/",
          "height": 467
        },
        "id": "UHRosAJx2Jzh",
        "outputId": "5931d293-591b-4a52-9ac4-2315d58629cc"
      },
      "execution_count": null,
      "outputs": [
        {
          "output_type": "execute_result",
          "data": {
            "text/plain": [
              "Text(0, 0.5, 'loss')"
            ]
          },
          "metadata": {},
          "execution_count": 160
        },
        {
          "output_type": "display_data",
          "data": {
            "text/plain": [
              "<Figure size 640x480 with 1 Axes>"
            ],
            "image/png": "[encoded data removed]"
          },
          "metadata": {}
        }
      ]
    },
    {
      "cell_type": "code",
      "source": [
        "# # Evaluate Model Performance on Validation Data\n",
        "\n",
        "# # Disable gradient calculations for evaluation using t.no_grad()\n",
        "# with t.no_grad():\n",
        "#     # Prepare the validation data\n",
        "#     X = t.Tensor(X_test).type(t.float32)  # Convert validation features to a PyTorch tensor\n",
        "#     Y = t.Tensor(y_test).type(t.float32)  # Convert validation labels to a PyTorch tensor\n",
        "\n",
        "#     # Calculate predictions on the validation data\n",
        "#     probs = forward(X)  # Pass validation data through the trained model\n",
        "#     loss = loss_fn(probs.view(-1), Y)  # Compute the loss between predictions and actual labels\n",
        "\n",
        "#     # Print the validation loss\n",
        "#     print(loss.item())\n",
        "\n",
        "#     # Now, evaluate the model on the training data\n",
        "#     X = t.Tensor(X_train).type(t.float32)  # Convert training features to a PyTorch tensor\n",
        "#     Y = t.Tensor(y_res).type(t.float32)  # Convert training labels to a PyTorch tensor\n",
        "\n",
        "#     # Calculate predictions on the training data\n",
        "#     probs = forward(X)  # Pass training data through the trained model\n",
        "#     loss = loss_fn(probs.view(-1), Y)  # Compute the loss between predictions and actual labels\n",
        "\n",
        "#     # Print the training loss\n",
        "#     print(loss.item())"
      ],
      "metadata": {
        "colab": {
          "base_uri": "https://localhost:8080/"
        },
        "id": "s1MtCHhY2U89",
        "outputId": "cd25375e-d943-499c-ef38-0ccf7a19e22a"
      },
      "execution_count": null,
      "outputs": [
        {
          "output_type": "stream",
          "name": "stdout",
          "text": [
            "0.798692524433136\n",
            "0.39142724871635437\n"
          ]
        }
      ]
    }
  ],
  "metadata": {
    "colab": {
      "provenance": [],
      "authorship_tag": "ABX9TyMpwkYUrcPym5+cjH/iaCvQ",
      "include_colab_link": true
    },
    "kernelspec": {
      "display_name": "Python 3",
      "name": "python3"
    },
    "language_info": {
      "name": "python"
    }
  },
  "nbformat": 4,
  "nbformat_minor": 0
}